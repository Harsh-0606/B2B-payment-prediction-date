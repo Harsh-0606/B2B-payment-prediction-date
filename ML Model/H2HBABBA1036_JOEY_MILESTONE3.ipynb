{
  "cells": [
    {
      "cell_type": "markdown",
      "metadata": {
        "id": "-XikJ1q4O9-K"
      },
      "source": [
        "# Imports"
      ]
    },
    {
      "cell_type": "code",
      "execution_count": 1,
      "metadata": {
        "id": "O8Mxz6qDL0IN"
      },
      "outputs": [],
      "source": [
        "import pandas as pd\r\n",
        "import numpy as np\r\n",
        "from datetime import datetime\r\n",
        "\r\n",
        "from sklearn.model_selection import train_test_split\r\n",
        "from sklearn.feature_selection import VarianceThreshold\r\n",
        "from sklearn.preprocessing import LabelEncoder\r\n",
        "from sklearn.preprocessing import StandardScaler\r\n",
        "\r\n",
        "from matplotlib import pyplot as plt\r\n",
        "import seaborn as sns\r\n",
        "\r\n",
        "pd.options.mode.chained_assignment = None  # default='warn'\r\n",
        "import warnings\r\n",
        "warnings.filterwarnings(\"ignore\") "
      ]
    },
    {
      "cell_type": "markdown",
      "metadata": {
        "id": "EGfSvA2fPCqI"
      },
      "source": [
        "# Read DataSet"
      ]
    },
    {
      "cell_type": "code",
      "execution_count": 11,
      "metadata": {
        "colab": {
          "base_uri": "https://localhost:8080/",
          "height": 330
        },
        "id": "HzR8XkyAL_02",
        "outputId": "278ed9df-901c-435f-dc6b-6cc31187deca"
      },
      "outputs": [
        {
          "data": {
            "text/html": [
              "<div>\n",
              "<style scoped>\n",
              "    .dataframe tbody tr th:only-of-type {\n",
              "        vertical-align: middle;\n",
              "    }\n",
              "\n",
              "    .dataframe tbody tr th {\n",
              "        vertical-align: top;\n",
              "    }\n",
              "\n",
              "    .dataframe thead th {\n",
              "        text-align: right;\n",
              "    }\n",
              "</style>\n",
              "<table border=\"1\" class=\"dataframe\">\n",
              "  <thead>\n",
              "    <tr style=\"text-align: right;\">\n",
              "      <th></th>\n",
              "      <th>business_code</th>\n",
              "      <th>cust_number</th>\n",
              "      <th>name_customer</th>\n",
              "      <th>clear_date</th>\n",
              "      <th>buisness_year</th>\n",
              "      <th>doc_id</th>\n",
              "      <th>posting_date</th>\n",
              "      <th>document_create_date</th>\n",
              "      <th>document_create_date.1</th>\n",
              "      <th>due_in_date</th>\n",
              "      <th>invoice_currency</th>\n",
              "      <th>document type</th>\n",
              "      <th>posting_id</th>\n",
              "      <th>area_business</th>\n",
              "      <th>total_open_amount</th>\n",
              "      <th>baseline_create_date</th>\n",
              "      <th>cust_payment_terms</th>\n",
              "      <th>invoice_id</th>\n",
              "      <th>isOpen</th>\n",
              "    </tr>\n",
              "  </thead>\n",
              "  <tbody>\n",
              "    <tr>\n",
              "      <th>0</th>\n",
              "      <td>U001</td>\n",
              "      <td>0200707005</td>\n",
              "      <td>KING S foundation</td>\n",
              "      <td>2019-10-16 00:00:00</td>\n",
              "      <td>2019.0</td>\n",
              "      <td>1.929941e+09</td>\n",
              "      <td>2019-10-01</td>\n",
              "      <td>20190929</td>\n",
              "      <td>20191001</td>\n",
              "      <td>20191016.0</td>\n",
              "      <td>USD</td>\n",
              "      <td>RV</td>\n",
              "      <td>1.0</td>\n",
              "      <td>NaN</td>\n",
              "      <td>134552.81</td>\n",
              "      <td>20191001.0</td>\n",
              "      <td>NAA8</td>\n",
              "      <td>1.929941e+09</td>\n",
              "      <td>0</td>\n",
              "    </tr>\n",
              "    <tr>\n",
              "      <th>1</th>\n",
              "      <td>U001</td>\n",
              "      <td>100001196</td>\n",
              "      <td>DOLLAR co</td>\n",
              "      <td>2019-08-01 00:00:00</td>\n",
              "      <td>2019.0</td>\n",
              "      <td>1.929617e+09</td>\n",
              "      <td>2019-07-16</td>\n",
              "      <td>20190715</td>\n",
              "      <td>20190716</td>\n",
              "      <td>20190731.0</td>\n",
              "      <td>USD</td>\n",
              "      <td>RV</td>\n",
              "      <td>1.0</td>\n",
              "      <td>NaN</td>\n",
              "      <td>64587.66</td>\n",
              "      <td>20190716.0</td>\n",
              "      <td>NAA8</td>\n",
              "      <td>1.929617e+09</td>\n",
              "      <td>0</td>\n",
              "    </tr>\n",
              "    <tr>\n",
              "      <th>2</th>\n",
              "      <td>U001</td>\n",
              "      <td>0200803720</td>\n",
              "      <td>DEC in</td>\n",
              "      <td>2020-01-29 00:00:00</td>\n",
              "      <td>2020.0</td>\n",
              "      <td>1.930443e+09</td>\n",
              "      <td>2020-01-27</td>\n",
              "      <td>20200127</td>\n",
              "      <td>20200127</td>\n",
              "      <td>20200126.0</td>\n",
              "      <td>USD</td>\n",
              "      <td>RV</td>\n",
              "      <td>1.0</td>\n",
              "      <td>NaN</td>\n",
              "      <td>8707.89</td>\n",
              "      <td>20200116.0</td>\n",
              "      <td>NAM2</td>\n",
              "      <td>1.930443e+09</td>\n",
              "      <td>0</td>\n",
              "    </tr>\n",
              "    <tr>\n",
              "      <th>3</th>\n",
              "      <td>U001</td>\n",
              "      <td>0200792734</td>\n",
              "      <td>MDV/ associates</td>\n",
              "      <td>2019-01-18 00:00:00</td>\n",
              "      <td>2019.0</td>\n",
              "      <td>1.928563e+09</td>\n",
              "      <td>2019-01-03</td>\n",
              "      <td>20190103</td>\n",
              "      <td>20190103</td>\n",
              "      <td>20190118.0</td>\n",
              "      <td>USD</td>\n",
              "      <td>RV</td>\n",
              "      <td>1.0</td>\n",
              "      <td>NaN</td>\n",
              "      <td>8103.89</td>\n",
              "      <td>20190103.0</td>\n",
              "      <td>NAA8</td>\n",
              "      <td>1.928563e+09</td>\n",
              "      <td>0</td>\n",
              "    </tr>\n",
              "    <tr>\n",
              "      <th>4</th>\n",
              "      <td>U001</td>\n",
              "      <td>0200416837</td>\n",
              "      <td>DEC trust</td>\n",
              "      <td>2019-12-02 00:00:00</td>\n",
              "      <td>2019.0</td>\n",
              "      <td>1.930183e+09</td>\n",
              "      <td>2019-11-22</td>\n",
              "      <td>20191122</td>\n",
              "      <td>20191122</td>\n",
              "      <td>20191209.0</td>\n",
              "      <td>USD</td>\n",
              "      <td>RV</td>\n",
              "      <td>1.0</td>\n",
              "      <td>NaN</td>\n",
              "      <td>717.84</td>\n",
              "      <td>20191116.0</td>\n",
              "      <td>NAM4</td>\n",
              "      <td>1.930183e+09</td>\n",
              "      <td>0</td>\n",
              "    </tr>\n",
              "  </tbody>\n",
              "</table>\n",
              "</div>"
            ],
            "text/plain": [
              "  business_code cust_number      name_customer           clear_date  \\\n",
              "0          U001  0200707005  KING S foundation  2019-10-16 00:00:00   \n",
              "1          U001   100001196          DOLLAR co  2019-08-01 00:00:00   \n",
              "2          U001  0200803720             DEC in  2020-01-29 00:00:00   \n",
              "3          U001  0200792734    MDV/ associates  2019-01-18 00:00:00   \n",
              "4          U001  0200416837          DEC trust  2019-12-02 00:00:00   \n",
              "\n",
              "   buisness_year        doc_id posting_date  document_create_date  \\\n",
              "0         2019.0  1.929941e+09   2019-10-01              20190929   \n",
              "1         2019.0  1.929617e+09   2019-07-16              20190715   \n",
              "2         2020.0  1.930443e+09   2020-01-27              20200127   \n",
              "3         2019.0  1.928563e+09   2019-01-03              20190103   \n",
              "4         2019.0  1.930183e+09   2019-11-22              20191122   \n",
              "\n",
              "   document_create_date.1  due_in_date invoice_currency document type  \\\n",
              "0                20191001   20191016.0              USD            RV   \n",
              "1                20190716   20190731.0              USD            RV   \n",
              "2                20200127   20200126.0              USD            RV   \n",
              "3                20190103   20190118.0              USD            RV   \n",
              "4                20191122   20191209.0              USD            RV   \n",
              "\n",
              "   posting_id  area_business  total_open_amount  baseline_create_date  \\\n",
              "0         1.0            NaN          134552.81            20191001.0   \n",
              "1         1.0            NaN           64587.66            20190716.0   \n",
              "2         1.0            NaN            8707.89            20200116.0   \n",
              "3         1.0            NaN            8103.89            20190103.0   \n",
              "4         1.0            NaN             717.84            20191116.0   \n",
              "\n",
              "  cust_payment_terms    invoice_id  isOpen  \n",
              "0               NAA8  1.929941e+09       0  \n",
              "1               NAA8  1.929617e+09       0  \n",
              "2               NAM2  1.930443e+09       0  \n",
              "3               NAA8  1.928563e+09       0  \n",
              "4               NAM4  1.930183e+09       0  "
            ]
          },
          "execution_count": 11,
          "metadata": {},
          "output_type": "execute_result"
        }
      ],
      "source": [
        "data = pd.read_csv('final_data.csv')\r\n",
        "data.head()"
      ]
    },
    {
      "cell_type": "markdown",
      "metadata": {
        "id": "3VvprYaqPG-a"
      },
      "source": [
        "# Data PreProcessing"
      ]
    },
    {
      "cell_type": "markdown",
      "metadata": {
        "id": "YrSoZoyuPQiG"
      },
      "source": [
        "## Unique values check"
      ]
    },
    {
      "cell_type": "code",
      "execution_count": 12,
      "metadata": {
        "colab": {
          "base_uri": "https://localhost:8080/"
        },
        "id": "YPQPa6rtYGkD",
        "outputId": "f1eb21ab-37fa-43d4-e29d-f1e8beaead7a"
      },
      "outputs": [
        {
          "data": {
            "text/plain": [
              "business_code                 6\n",
              "cust_number                1397\n",
              "name_customer              4125\n",
              "clear_date                  402\n",
              "buisness_year                 2\n",
              "doc_id                    48850\n",
              "posting_date                502\n",
              "document_create_date        507\n",
              "document_create_date.1      502\n",
              "due_in_date                 548\n",
              "invoice_currency              2\n",
              "document type                 2\n",
              "posting_id                    1\n",
              "area_business                 0\n",
              "total_open_amount         44236\n",
              "baseline_create_date        504\n",
              "cust_payment_terms           76\n",
              "invoice_id                48846\n",
              "isOpen                        2\n",
              "dtype: int64"
            ]
          },
          "execution_count": 12,
          "metadata": {},
          "output_type": "execute_result"
        }
      ],
      "source": [
        "#checking the unique values in different columns.\n",
        "data.nunique()"
      ]
    },
    {
      "cell_type": "markdown",
      "metadata": {
        "id": "rd19kK40Z7Mk"
      },
      "source": [
        "#### We see that doc_id has maximum unique values.\r\n",
        "#### Business year, invoice_currency, document_type and isOpen has 2 unique values.\r\n",
        "#### Posting_id has only 1 unique value.\r\n",
        "#### Area_business has no values.\r\n"
      ]
    },
    {
      "cell_type": "markdown",
      "metadata": {
        "id": "vtsFMCFRPfg3"
      },
      "source": [
        "## Null Values Check"
      ]
    },
    {
      "cell_type": "code",
      "execution_count": 13,
      "metadata": {
        "colab": {
          "base_uri": "https://localhost:8080/"
        },
        "id": "eWT3wSb_Wi49",
        "outputId": "e7f04ece-7ae8-438d-bec5-0fd4b15dc135"
      },
      "outputs": [
        {
          "data": {
            "text/plain": [
              "business_code                 0\n",
              "cust_number                   0\n",
              "name_customer                 0\n",
              "clear_date                10000\n",
              "buisness_year                 0\n",
              "doc_id                        0\n",
              "posting_date                  0\n",
              "document_create_date          0\n",
              "document_create_date.1        0\n",
              "due_in_date                   0\n",
              "invoice_currency              0\n",
              "document type                 0\n",
              "posting_id                    0\n",
              "area_business             50000\n",
              "total_open_amount             0\n",
              "baseline_create_date          0\n",
              "cust_payment_terms            0\n",
              "invoice_id                    4\n",
              "isOpen                        0\n",
              "dtype: int64"
            ]
          },
          "execution_count": 13,
          "metadata": {},
          "output_type": "execute_result"
        }
      ],
      "source": [
        "# checking for null values in the datset\n",
        "data.isnull().sum()"
      ]
    },
    {
      "cell_type": "markdown",
      "metadata": {
        "id": "nCCvcEicbQZv"
      },
      "source": [
        "#### We see that:-\r\n",
        "#### area_business is a null column.\r\n",
        "#### clear_date has 10,000 null entries.\r\n",
        "#### invoice_id has only 4 null entries."
      ]
    },
    {
      "cell_type": "code",
      "execution_count": 14,
      "metadata": {},
      "outputs": [
        {
          "data": {
            "text/plain": [
              "60004"
            ]
          },
          "execution_count": 14,
          "metadata": {},
          "output_type": "execute_result"
        }
      ],
      "source": [
        "# checking total null values\r\n",
        "data.isna().sum().sum()"
      ]
    },
    {
      "cell_type": "code",
      "execution_count": 15,
      "metadata": {
        "colab": {
          "base_uri": "https://localhost:8080/"
        },
        "id": "pyYbTwcAZwN6",
        "outputId": "2eefec21-7365-41fe-873e-d9ba42bbbe07"
      },
      "outputs": [
        {
          "data": {
            "text/plain": [
              "business_code               0.000\n",
              "cust_number                 0.000\n",
              "name_customer               0.000\n",
              "clear_date                 20.000\n",
              "buisness_year               0.000\n",
              "doc_id                      0.000\n",
              "posting_date                0.000\n",
              "document_create_date        0.000\n",
              "document_create_date.1      0.000\n",
              "due_in_date                 0.000\n",
              "invoice_currency            0.000\n",
              "document type               0.000\n",
              "posting_id                  0.000\n",
              "area_business             100.000\n",
              "total_open_amount           0.000\n",
              "baseline_create_date        0.000\n",
              "cust_payment_terms          0.000\n",
              "invoice_id                  0.008\n",
              "isOpen                      0.000\n",
              "dtype: float64"
            ]
          },
          "execution_count": 15,
          "metadata": {},
          "output_type": "execute_result"
        }
      ],
      "source": [
        "# checking for null values in percentage\r\n",
        "data.isnull().mean()*100"
      ]
    },
    {
      "cell_type": "markdown",
      "metadata": {
        "id": "idzWlWToapSa"
      },
      "source": [
        "#### We see from the result above that :\r\n",
        "#### 20% values in clear_date are null\r\n",
        "#### 100% values in area_business are null\r\n",
        "#### 0.008% values in invoice_id are null"
      ]
    },
    {
      "cell_type": "code",
      "execution_count": 16,
      "metadata": {
        "id": "XRab4y0iaoHz"
      },
      "outputs": [],
      "source": [
        "#dropping the area_business since  it is null and add no value\r\n",
        "data.drop(['area_business'],axis=1, inplace=True)"
      ]
    },
    {
      "cell_type": "code",
      "execution_count": 17,
      "metadata": {
        "id": "cRRW2qpLcCq8"
      },
      "outputs": [],
      "source": [
        "# dropping the 4 null values in invoice_id.\r\n",
        "data.drop(data.loc[data['invoice_id'].isnull()].index, inplace=True)"
      ]
    },
    {
      "cell_type": "code",
      "execution_count": 18,
      "metadata": {
        "colab": {
          "base_uri": "https://localhost:8080/"
        },
        "id": "SXo9vu3ufE4E",
        "outputId": "d074bf6b-b224-497d-ab57-810be1b70c66"
      },
      "outputs": [
        {
          "data": {
            "text/plain": [
              "(49996, 18)"
            ]
          },
          "execution_count": 18,
          "metadata": {},
          "output_type": "execute_result"
        }
      ],
      "source": [
        "data.shape"
      ]
    },
    {
      "cell_type": "markdown",
      "metadata": {
        "id": "JknMYo1SPkoL"
      },
      "source": [
        "## Duplicate Values check"
      ]
    },
    {
      "cell_type": "code",
      "execution_count": 23,
      "metadata": {
        "colab": {
          "base_uri": "https://localhost:8080/"
        },
        "id": "9m2ydWTHdQ05",
        "outputId": "dcbad0bf-3b44-464b-ba44-593b46367d38"
      },
      "outputs": [
        {
          "data": {
            "text/plain": [
              "1150"
            ]
          },
          "execution_count": 23,
          "metadata": {},
          "output_type": "execute_result"
        }
      ],
      "source": [
        "#checking for duplicate rows and dropping them.\r\n",
        "data.duplicated().sum()"
      ]
    },
    {
      "cell_type": "code",
      "execution_count": 24,
      "metadata": {},
      "outputs": [],
      "source": [
        "#dropping duplicate rows if any\r\n",
        "data.drop_duplicates(inplace=True)\r\n"
      ]
    },
    {
      "cell_type": "code",
      "execution_count": 26,
      "metadata": {},
      "outputs": [
        {
          "data": {
            "text/plain": [
              "(48846, 18)"
            ]
          },
          "execution_count": 26,
          "metadata": {},
          "output_type": "execute_result"
        }
      ],
      "source": [
        "data.shape"
      ]
    },
    {
      "cell_type": "code",
      "execution_count": 28,
      "metadata": {
        "colab": {
          "base_uri": "https://localhost:8080/"
        },
        "id": "YK22k3Zqd0Oa",
        "outputId": "381a6ab6-7159-4319-a192-c3df8beb066a"
      },
      "outputs": [],
      "source": [
        "#checking for duplicate columns and dropping them.\r\n",
        "def findDuplicateColumns(df):\r\n",
        "  duplicateColumnNames = set()\r\n",
        "  for x in range(df.shape[1]-1):\r\n",
        "    col1 = df.iloc[ : , x]\r\n",
        "    for y in range(x+1, df.shape[1]):\r\n",
        "      col2 = df.iloc[ : , y]\r\n",
        "      if col1.equals(col2):\r\n",
        "        duplicateColumnNames.add(df.columns.values[y])\r\n",
        "  \r\n",
        "  return list(duplicateColumnNames)\r\n"
      ]
    },
    {
      "cell_type": "code",
      "execution_count": 29,
      "metadata": {},
      "outputs": [
        {
          "name": "stdout",
          "output_type": "stream",
          "text": [
            "['invoice_id']\n"
          ]
        }
      ],
      "source": [
        "\r\n",
        "duplicated_columns = findDuplicateColumns(data) #calling the above function\r\n",
        "print(duplicated_columns)   #prints the name of the duplicated column\r\n",
        "data.drop(columns = duplicated_columns, inplace = True)  # dropped the duplicate column"
      ]
    },
    {
      "cell_type": "markdown",
      "metadata": {
        "id": "Ek8hkhYfPpXw"
      },
      "source": [
        "## Structuring Date Columns"
      ]
    },
    {
      "cell_type": "code",
      "execution_count": 30,
      "metadata": {},
      "outputs": [
        {
          "name": "stdout",
          "output_type": "stream",
          "text": [
            "<class 'pandas.core.frame.DataFrame'>\n",
            "Int64Index: 48846 entries, 0 to 49999\n",
            "Data columns (total 17 columns):\n",
            " #   Column                  Non-Null Count  Dtype  \n",
            "---  ------                  --------------  -----  \n",
            " 0   business_code           48846 non-null  object \n",
            " 1   cust_number             48846 non-null  object \n",
            " 2   name_customer           48846 non-null  object \n",
            " 3   clear_date              39144 non-null  object \n",
            " 4   buisness_year           48846 non-null  float64\n",
            " 5   doc_id                  48846 non-null  float64\n",
            " 6   posting_date            48846 non-null  object \n",
            " 7   document_create_date    48846 non-null  int64  \n",
            " 8   document_create_date.1  48846 non-null  int64  \n",
            " 9   due_in_date             48846 non-null  float64\n",
            " 10  invoice_currency        48846 non-null  object \n",
            " 11  document type           48846 non-null  object \n",
            " 12  posting_id              48846 non-null  float64\n",
            " 13  total_open_amount       48846 non-null  float64\n",
            " 14  baseline_create_date    48846 non-null  float64\n",
            " 15  cust_payment_terms      48846 non-null  object \n",
            " 16  isOpen                  48846 non-null  int64  \n",
            "dtypes: float64(6), int64(3), object(8)\n",
            "memory usage: 6.7+ MB\n"
          ]
        }
      ],
      "source": [
        "data.info()"
      ]
    },
    {
      "cell_type": "markdown",
      "metadata": {
        "id": "ClpDXtZqkuK2"
      },
      "source": [
        "#### Converting columns that contains date, from \"object\" type to \"datetime64[ns]\" \r\n",
        "\r\n",
        "#### 5 columns -> clear_date, document_create_date, document_create_date.1, due_in_date, _basline_create_date"
      ]
    },
    {
      "cell_type": "code",
      "execution_count": 31,
      "metadata": {
        "colab": {
          "base_uri": "https://localhost:8080/",
          "height": 261
        },
        "id": "aaBrAM_UkoA-",
        "outputId": "ecb772df-8f37-4a01-bd45-003d6a5bd0f5"
      },
      "outputs": [
        {
          "data": {
            "text/html": [
              "<div>\n",
              "<style scoped>\n",
              "    .dataframe tbody tr th:only-of-type {\n",
              "        vertical-align: middle;\n",
              "    }\n",
              "\n",
              "    .dataframe tbody tr th {\n",
              "        vertical-align: top;\n",
              "    }\n",
              "\n",
              "    .dataframe thead th {\n",
              "        text-align: right;\n",
              "    }\n",
              "</style>\n",
              "<table border=\"1\" class=\"dataframe\">\n",
              "  <thead>\n",
              "    <tr style=\"text-align: right;\">\n",
              "      <th></th>\n",
              "      <th>business_code</th>\n",
              "      <th>cust_number</th>\n",
              "      <th>name_customer</th>\n",
              "      <th>clear_date</th>\n",
              "      <th>buisness_year</th>\n",
              "      <th>doc_id</th>\n",
              "      <th>posting_date</th>\n",
              "      <th>document_create_date</th>\n",
              "      <th>document_create_date.1</th>\n",
              "      <th>due_in_date</th>\n",
              "      <th>invoice_currency</th>\n",
              "      <th>document type</th>\n",
              "      <th>posting_id</th>\n",
              "      <th>total_open_amount</th>\n",
              "      <th>baseline_create_date</th>\n",
              "      <th>cust_payment_terms</th>\n",
              "      <th>isOpen</th>\n",
              "    </tr>\n",
              "  </thead>\n",
              "  <tbody>\n",
              "    <tr>\n",
              "      <th>0</th>\n",
              "      <td>U001</td>\n",
              "      <td>0200707005</td>\n",
              "      <td>KING S foundation</td>\n",
              "      <td>2019-10-16</td>\n",
              "      <td>2019.0</td>\n",
              "      <td>1.929941e+09</td>\n",
              "      <td>2019-10-01</td>\n",
              "      <td>2019-09-29</td>\n",
              "      <td>2019-10-01</td>\n",
              "      <td>2019-10-16</td>\n",
              "      <td>USD</td>\n",
              "      <td>RV</td>\n",
              "      <td>1.0</td>\n",
              "      <td>134552.81</td>\n",
              "      <td>2019-10-01</td>\n",
              "      <td>NAA8</td>\n",
              "      <td>0</td>\n",
              "    </tr>\n",
              "    <tr>\n",
              "      <th>1</th>\n",
              "      <td>U001</td>\n",
              "      <td>100001196</td>\n",
              "      <td>DOLLAR co</td>\n",
              "      <td>2019-08-01</td>\n",
              "      <td>2019.0</td>\n",
              "      <td>1.929617e+09</td>\n",
              "      <td>2019-07-16</td>\n",
              "      <td>2019-07-15</td>\n",
              "      <td>2019-07-16</td>\n",
              "      <td>2019-07-31</td>\n",
              "      <td>USD</td>\n",
              "      <td>RV</td>\n",
              "      <td>1.0</td>\n",
              "      <td>64587.66</td>\n",
              "      <td>2019-07-16</td>\n",
              "      <td>NAA8</td>\n",
              "      <td>0</td>\n",
              "    </tr>\n",
              "    <tr>\n",
              "      <th>2</th>\n",
              "      <td>U001</td>\n",
              "      <td>0200803720</td>\n",
              "      <td>DEC in</td>\n",
              "      <td>2020-01-29</td>\n",
              "      <td>2020.0</td>\n",
              "      <td>1.930443e+09</td>\n",
              "      <td>2020-01-27</td>\n",
              "      <td>2020-01-27</td>\n",
              "      <td>2020-01-27</td>\n",
              "      <td>2020-01-26</td>\n",
              "      <td>USD</td>\n",
              "      <td>RV</td>\n",
              "      <td>1.0</td>\n",
              "      <td>8707.89</td>\n",
              "      <td>2020-01-16</td>\n",
              "      <td>NAM2</td>\n",
              "      <td>0</td>\n",
              "    </tr>\n",
              "    <tr>\n",
              "      <th>3</th>\n",
              "      <td>U001</td>\n",
              "      <td>0200792734</td>\n",
              "      <td>MDV/ associates</td>\n",
              "      <td>2019-01-18</td>\n",
              "      <td>2019.0</td>\n",
              "      <td>1.928563e+09</td>\n",
              "      <td>2019-01-03</td>\n",
              "      <td>2019-01-03</td>\n",
              "      <td>2019-01-03</td>\n",
              "      <td>2019-01-18</td>\n",
              "      <td>USD</td>\n",
              "      <td>RV</td>\n",
              "      <td>1.0</td>\n",
              "      <td>8103.89</td>\n",
              "      <td>2019-01-03</td>\n",
              "      <td>NAA8</td>\n",
              "      <td>0</td>\n",
              "    </tr>\n",
              "    <tr>\n",
              "      <th>4</th>\n",
              "      <td>U001</td>\n",
              "      <td>0200416837</td>\n",
              "      <td>DEC trust</td>\n",
              "      <td>2019-12-02</td>\n",
              "      <td>2019.0</td>\n",
              "      <td>1.930183e+09</td>\n",
              "      <td>2019-11-22</td>\n",
              "      <td>2019-11-22</td>\n",
              "      <td>2019-11-22</td>\n",
              "      <td>2019-12-09</td>\n",
              "      <td>USD</td>\n",
              "      <td>RV</td>\n",
              "      <td>1.0</td>\n",
              "      <td>717.84</td>\n",
              "      <td>2019-11-16</td>\n",
              "      <td>NAM4</td>\n",
              "      <td>0</td>\n",
              "    </tr>\n",
              "  </tbody>\n",
              "</table>\n",
              "</div>"
            ],
            "text/plain": [
              "  business_code cust_number      name_customer clear_date  buisness_year  \\\n",
              "0          U001  0200707005  KING S foundation 2019-10-16         2019.0   \n",
              "1          U001   100001196          DOLLAR co 2019-08-01         2019.0   \n",
              "2          U001  0200803720             DEC in 2020-01-29         2020.0   \n",
              "3          U001  0200792734    MDV/ associates 2019-01-18         2019.0   \n",
              "4          U001  0200416837          DEC trust 2019-12-02         2019.0   \n",
              "\n",
              "         doc_id posting_date document_create_date document_create_date.1  \\\n",
              "0  1.929941e+09   2019-10-01           2019-09-29             2019-10-01   \n",
              "1  1.929617e+09   2019-07-16           2019-07-15             2019-07-16   \n",
              "2  1.930443e+09   2020-01-27           2020-01-27             2020-01-27   \n",
              "3  1.928563e+09   2019-01-03           2019-01-03             2019-01-03   \n",
              "4  1.930183e+09   2019-11-22           2019-11-22             2019-11-22   \n",
              "\n",
              "  due_in_date invoice_currency document type  posting_id  total_open_amount  \\\n",
              "0  2019-10-16              USD            RV         1.0          134552.81   \n",
              "1  2019-07-31              USD            RV         1.0           64587.66   \n",
              "2  2020-01-26              USD            RV         1.0            8707.89   \n",
              "3  2019-01-18              USD            RV         1.0            8103.89   \n",
              "4  2019-12-09              USD            RV         1.0             717.84   \n",
              "\n",
              "  baseline_create_date cust_payment_terms  isOpen  \n",
              "0           2019-10-01               NAA8       0  \n",
              "1           2019-07-16               NAA8       0  \n",
              "2           2020-01-16               NAM2       0  \n",
              "3           2019-01-03               NAA8       0  \n",
              "4           2019-11-16               NAM4       0  "
            ]
          },
          "execution_count": 31,
          "metadata": {},
          "output_type": "execute_result"
        }
      ],
      "source": [
        "data[['document_create_date', 'document_create_date.1','due_in_date', 'baseline_create_date']] = data[['document_create_date', 'document_create_date.1','due_in_date', 'baseline_create_date']].apply(pd.to_datetime, format='%Y%m%d')\r\n",
        "data['clear_date'] = pd.to_datetime(data['clear_date'])\r\n",
        "data.head()\r\n"
      ]
    },
    {
      "cell_type": "code",
      "execution_count": 34,
      "metadata": {
        "colab": {
          "base_uri": "https://localhost:8080/"
        },
        "id": "L6qdgSe9i2L2",
        "outputId": "59283a11-9f71-43fd-ac19-f848feb218ed"
      },
      "outputs": [
        {
          "data": {
            "text/plain": [
              "(48846, 17)"
            ]
          },
          "execution_count": 34,
          "metadata": {},
          "output_type": "execute_result"
        }
      ],
      "source": [
        "data.shape"
      ]
    },
    {
      "cell_type": "markdown",
      "metadata": {
        "id": "2SRKndY5Pv-j"
      },
      "source": [
        "## Adding traget column Delay"
      ]
    },
    {
      "cell_type": "code",
      "execution_count": 35,
      "metadata": {
        "colab": {
          "base_uri": "https://localhost:8080/"
        },
        "id": "iq6h5GczsPhC",
        "outputId": "d815f1b5-0653-4d73-ed26-6aaec4e6418e"
      },
      "outputs": [
        {
          "data": {
            "text/plain": [
              "0        0.0\n",
              "1        1.0\n",
              "2        3.0\n",
              "3        0.0\n",
              "4       -7.0\n",
              "        ... \n",
              "49994    2.0\n",
              "49995    9.0\n",
              "49996    2.0\n",
              "49997   -3.0\n",
              "49999    1.0\n",
              "Name: delay, Length: 48846, dtype: float64"
            ]
          },
          "execution_count": 35,
          "metadata": {},
          "output_type": "execute_result"
        }
      ],
      "source": [
        "#creating delay column i.e the difference between the clear-date and the due-date \r\n",
        "data['delay'] = data['clear_date'] - data['due_in_date']\r\n",
        "data['delay'] = data['delay'].apply(lambda x : x.days) \r\n",
        "data['delay']"
      ]
    },
    {
      "cell_type": "code",
      "execution_count": 36,
      "metadata": {
        "colab": {
          "base_uri": "https://localhost:8080/",
          "height": 243
        },
        "id": "LLeUAkIArMvT",
        "outputId": "248004b2-c5d0-4107-c25e-b41fc308e93b"
      },
      "outputs": [
        {
          "data": {
            "text/html": [
              "<div>\n",
              "<style scoped>\n",
              "    .dataframe tbody tr th:only-of-type {\n",
              "        vertical-align: middle;\n",
              "    }\n",
              "\n",
              "    .dataframe tbody tr th {\n",
              "        vertical-align: top;\n",
              "    }\n",
              "\n",
              "    .dataframe thead th {\n",
              "        text-align: right;\n",
              "    }\n",
              "</style>\n",
              "<table border=\"1\" class=\"dataframe\">\n",
              "  <thead>\n",
              "    <tr style=\"text-align: right;\">\n",
              "      <th></th>\n",
              "      <th>business_code</th>\n",
              "      <th>cust_number</th>\n",
              "      <th>name_customer</th>\n",
              "      <th>clear_date</th>\n",
              "      <th>buisness_year</th>\n",
              "      <th>doc_id</th>\n",
              "      <th>posting_date</th>\n",
              "      <th>document_create_date</th>\n",
              "      <th>document_create_date.1</th>\n",
              "      <th>due_in_date</th>\n",
              "      <th>invoice_currency</th>\n",
              "      <th>document type</th>\n",
              "      <th>posting_id</th>\n",
              "      <th>total_open_amount</th>\n",
              "      <th>baseline_create_date</th>\n",
              "      <th>cust_payment_terms</th>\n",
              "      <th>isOpen</th>\n",
              "      <th>delay</th>\n",
              "    </tr>\n",
              "  </thead>\n",
              "  <tbody>\n",
              "    <tr>\n",
              "      <th>49994</th>\n",
              "      <td>U001</td>\n",
              "      <td>0200726979</td>\n",
              "      <td>BJ'S  llc</td>\n",
              "      <td>2019-07-01</td>\n",
              "      <td>2019.0</td>\n",
              "      <td>1.929540e+09</td>\n",
              "      <td>2019-06-14</td>\n",
              "      <td>2019-06-25</td>\n",
              "      <td>2019-06-14</td>\n",
              "      <td>2019-06-29</td>\n",
              "      <td>USD</td>\n",
              "      <td>RV</td>\n",
              "      <td>1.0</td>\n",
              "      <td>549.70</td>\n",
              "      <td>2019-06-14</td>\n",
              "      <td>NAA8</td>\n",
              "      <td>0</td>\n",
              "      <td>2.0</td>\n",
              "    </tr>\n",
              "    <tr>\n",
              "      <th>49995</th>\n",
              "      <td>CA02</td>\n",
              "      <td>0140106408</td>\n",
              "      <td>WAL-M trust</td>\n",
              "      <td>2019-02-19</td>\n",
              "      <td>2019.0</td>\n",
              "      <td>2.960527e+09</td>\n",
              "      <td>2019-01-31</td>\n",
              "      <td>2019-01-31</td>\n",
              "      <td>2019-01-31</td>\n",
              "      <td>2019-02-10</td>\n",
              "      <td>CAD</td>\n",
              "      <td>RV</td>\n",
              "      <td>1.0</td>\n",
              "      <td>19257.95</td>\n",
              "      <td>2019-01-31</td>\n",
              "      <td>CA10</td>\n",
              "      <td>0</td>\n",
              "      <td>9.0</td>\n",
              "    </tr>\n",
              "    <tr>\n",
              "      <th>49996</th>\n",
              "      <td>U001</td>\n",
              "      <td>0200759878</td>\n",
              "      <td>SA us</td>\n",
              "      <td>2019-10-15</td>\n",
              "      <td>2019.0</td>\n",
              "      <td>1.929933e+09</td>\n",
              "      <td>2019-09-28</td>\n",
              "      <td>2019-09-27</td>\n",
              "      <td>2019-09-28</td>\n",
              "      <td>2019-10-13</td>\n",
              "      <td>USD</td>\n",
              "      <td>RV</td>\n",
              "      <td>1.0</td>\n",
              "      <td>14257.87</td>\n",
              "      <td>2019-09-28</td>\n",
              "      <td>NAH4</td>\n",
              "      <td>0</td>\n",
              "      <td>2.0</td>\n",
              "    </tr>\n",
              "    <tr>\n",
              "      <th>49997</th>\n",
              "      <td>U001</td>\n",
              "      <td>0200769623</td>\n",
              "      <td>WAL-MAR co</td>\n",
              "      <td>2019-04-09</td>\n",
              "      <td>2019.0</td>\n",
              "      <td>1.929046e+09</td>\n",
              "      <td>2019-03-28</td>\n",
              "      <td>2019-03-28</td>\n",
              "      <td>2019-03-28</td>\n",
              "      <td>2019-04-12</td>\n",
              "      <td>USD</td>\n",
              "      <td>RV</td>\n",
              "      <td>1.0</td>\n",
              "      <td>66064.40</td>\n",
              "      <td>2019-03-28</td>\n",
              "      <td>NAH4</td>\n",
              "      <td>0</td>\n",
              "      <td>-3.0</td>\n",
              "    </tr>\n",
              "    <tr>\n",
              "      <th>49999</th>\n",
              "      <td>U001</td>\n",
              "      <td>0200790710</td>\n",
              "      <td>F us</td>\n",
              "      <td>2020-03-05</td>\n",
              "      <td>2020.0</td>\n",
              "      <td>1.930532e+09</td>\n",
              "      <td>2020-02-18</td>\n",
              "      <td>2020-02-15</td>\n",
              "      <td>2020-02-18</td>\n",
              "      <td>2020-03-04</td>\n",
              "      <td>USD</td>\n",
              "      <td>RV</td>\n",
              "      <td>1.0</td>\n",
              "      <td>36808.53</td>\n",
              "      <td>2020-02-18</td>\n",
              "      <td>NAA8</td>\n",
              "      <td>0</td>\n",
              "      <td>1.0</td>\n",
              "    </tr>\n",
              "  </tbody>\n",
              "</table>\n",
              "</div>"
            ],
            "text/plain": [
              "      business_code cust_number name_customer clear_date  buisness_year  \\\n",
              "49994          U001  0200726979     BJ'S  llc 2019-07-01         2019.0   \n",
              "49995          CA02  0140106408   WAL-M trust 2019-02-19         2019.0   \n",
              "49996          U001  0200759878         SA us 2019-10-15         2019.0   \n",
              "49997          U001  0200769623    WAL-MAR co 2019-04-09         2019.0   \n",
              "49999          U001  0200790710          F us 2020-03-05         2020.0   \n",
              "\n",
              "             doc_id posting_date document_create_date document_create_date.1  \\\n",
              "49994  1.929540e+09   2019-06-14           2019-06-25             2019-06-14   \n",
              "49995  2.960527e+09   2019-01-31           2019-01-31             2019-01-31   \n",
              "49996  1.929933e+09   2019-09-28           2019-09-27             2019-09-28   \n",
              "49997  1.929046e+09   2019-03-28           2019-03-28             2019-03-28   \n",
              "49999  1.930532e+09   2020-02-18           2020-02-15             2020-02-18   \n",
              "\n",
              "      due_in_date invoice_currency document type  posting_id  \\\n",
              "49994  2019-06-29              USD            RV         1.0   \n",
              "49995  2019-02-10              CAD            RV         1.0   \n",
              "49996  2019-10-13              USD            RV         1.0   \n",
              "49997  2019-04-12              USD            RV         1.0   \n",
              "49999  2020-03-04              USD            RV         1.0   \n",
              "\n",
              "       total_open_amount baseline_create_date cust_payment_terms  isOpen  \\\n",
              "49994             549.70           2019-06-14               NAA8       0   \n",
              "49995           19257.95           2019-01-31               CA10       0   \n",
              "49996           14257.87           2019-09-28               NAH4       0   \n",
              "49997           66064.40           2019-03-28               NAH4       0   \n",
              "49999           36808.53           2020-02-18               NAA8       0   \n",
              "\n",
              "       delay  \n",
              "49994    2.0  \n",
              "49995    9.0  \n",
              "49996    2.0  \n",
              "49997   -3.0  \n",
              "49999    1.0  "
            ]
          },
          "execution_count": 36,
          "metadata": {},
          "output_type": "execute_result"
        }
      ],
      "source": [
        "data.tail()\n"
      ]
    },
    {
      "cell_type": "markdown",
      "metadata": {
        "id": "EeM4isXSt4uO"
      },
      "source": [
        "# Splitting the dataset"
      ]
    },
    {
      "cell_type": "code",
      "execution_count": 37,
      "metadata": {
        "colab": {
          "base_uri": "https://localhost:8080/",
          "height": 461
        },
        "id": "_zcfzAjdfcN3",
        "outputId": "a0ffc9ff-93d4-40ed-96da-9430f16f0683"
      },
      "outputs": [
        {
          "data": {
            "text/html": [
              "<div>\n",
              "<style scoped>\n",
              "    .dataframe tbody tr th:only-of-type {\n",
              "        vertical-align: middle;\n",
              "    }\n",
              "\n",
              "    .dataframe tbody tr th {\n",
              "        vertical-align: top;\n",
              "    }\n",
              "\n",
              "    .dataframe thead th {\n",
              "        text-align: right;\n",
              "    }\n",
              "</style>\n",
              "<table border=\"1\" class=\"dataframe\">\n",
              "  <thead>\n",
              "    <tr style=\"text-align: right;\">\n",
              "      <th></th>\n",
              "      <th>business_code</th>\n",
              "      <th>cust_number</th>\n",
              "      <th>name_customer</th>\n",
              "      <th>clear_date</th>\n",
              "      <th>buisness_year</th>\n",
              "      <th>doc_id</th>\n",
              "      <th>posting_date</th>\n",
              "      <th>document_create_date</th>\n",
              "      <th>document_create_date.1</th>\n",
              "      <th>due_in_date</th>\n",
              "      <th>invoice_currency</th>\n",
              "      <th>document type</th>\n",
              "      <th>posting_id</th>\n",
              "      <th>total_open_amount</th>\n",
              "      <th>baseline_create_date</th>\n",
              "      <th>cust_payment_terms</th>\n",
              "      <th>isOpen</th>\n",
              "      <th>delay</th>\n",
              "    </tr>\n",
              "  </thead>\n",
              "  <tbody>\n",
              "    <tr>\n",
              "      <th>0</th>\n",
              "      <td>U001</td>\n",
              "      <td>0200769623</td>\n",
              "      <td>WAL-MAR corp</td>\n",
              "      <td>NaT</td>\n",
              "      <td>2020.0</td>\n",
              "      <td>1.930818e+09</td>\n",
              "      <td>2020-04-23</td>\n",
              "      <td>2020-04-23</td>\n",
              "      <td>2020-04-23</td>\n",
              "      <td>2020-05-08</td>\n",
              "      <td>USD</td>\n",
              "      <td>RV</td>\n",
              "      <td>1.0</td>\n",
              "      <td>12781.33</td>\n",
              "      <td>2020-04-23</td>\n",
              "      <td>NAH4</td>\n",
              "      <td>1</td>\n",
              "      <td>NaN</td>\n",
              "    </tr>\n",
              "    <tr>\n",
              "      <th>1</th>\n",
              "      <td>U001</td>\n",
              "      <td>0200769623</td>\n",
              "      <td>WAL-MAR associates</td>\n",
              "      <td>NaT</td>\n",
              "      <td>2020.0</td>\n",
              "      <td>1.930700e+09</td>\n",
              "      <td>2020-03-27</td>\n",
              "      <td>2020-03-25</td>\n",
              "      <td>2020-03-27</td>\n",
              "      <td>2020-04-11</td>\n",
              "      <td>USD</td>\n",
              "      <td>RV</td>\n",
              "      <td>1.0</td>\n",
              "      <td>5269.89</td>\n",
              "      <td>2020-03-27</td>\n",
              "      <td>NAH4</td>\n",
              "      <td>1</td>\n",
              "      <td>NaN</td>\n",
              "    </tr>\n",
              "    <tr>\n",
              "      <th>2</th>\n",
              "      <td>U001</td>\n",
              "      <td>0200707822</td>\n",
              "      <td>PUBLI us</td>\n",
              "      <td>NaT</td>\n",
              "      <td>2020.0</td>\n",
              "      <td>1.930670e+09</td>\n",
              "      <td>2020-03-18</td>\n",
              "      <td>2020-03-19</td>\n",
              "      <td>2020-03-18</td>\n",
              "      <td>2020-04-02</td>\n",
              "      <td>USD</td>\n",
              "      <td>RV</td>\n",
              "      <td>1.0</td>\n",
              "      <td>103792.96</td>\n",
              "      <td>2020-03-18</td>\n",
              "      <td>NAA8</td>\n",
              "      <td>1</td>\n",
              "      <td>NaN</td>\n",
              "    </tr>\n",
              "    <tr>\n",
              "      <th>3</th>\n",
              "      <td>U001</td>\n",
              "      <td>0200148860</td>\n",
              "      <td>DOLLA us</td>\n",
              "      <td>NaT</td>\n",
              "      <td>2020.0</td>\n",
              "      <td>1.930861e+09</td>\n",
              "      <td>2020-05-06</td>\n",
              "      <td>2020-05-05</td>\n",
              "      <td>2020-05-06</td>\n",
              "      <td>2020-05-21</td>\n",
              "      <td>USD</td>\n",
              "      <td>RV</td>\n",
              "      <td>1.0</td>\n",
              "      <td>93256.68</td>\n",
              "      <td>2020-05-06</td>\n",
              "      <td>NAA8</td>\n",
              "      <td>1</td>\n",
              "      <td>NaN</td>\n",
              "    </tr>\n",
              "    <tr>\n",
              "      <th>4</th>\n",
              "      <td>U001</td>\n",
              "      <td>200769623</td>\n",
              "      <td>WAL-MAR trust</td>\n",
              "      <td>NaT</td>\n",
              "      <td>2020.0</td>\n",
              "      <td>1.930683e+09</td>\n",
              "      <td>2020-03-23</td>\n",
              "      <td>2020-03-21</td>\n",
              "      <td>2020-03-23</td>\n",
              "      <td>2020-04-07</td>\n",
              "      <td>USD</td>\n",
              "      <td>RV</td>\n",
              "      <td>1.0</td>\n",
              "      <td>12924.68</td>\n",
              "      <td>2020-03-23</td>\n",
              "      <td>NAH4</td>\n",
              "      <td>1</td>\n",
              "      <td>NaN</td>\n",
              "    </tr>\n",
              "  </tbody>\n",
              "</table>\n",
              "</div>"
            ],
            "text/plain": [
              "  business_code cust_number       name_customer clear_date  buisness_year  \\\n",
              "0          U001  0200769623        WAL-MAR corp        NaT         2020.0   \n",
              "1          U001  0200769623  WAL-MAR associates        NaT         2020.0   \n",
              "2          U001  0200707822            PUBLI us        NaT         2020.0   \n",
              "3          U001  0200148860            DOLLA us        NaT         2020.0   \n",
              "4          U001   200769623       WAL-MAR trust        NaT         2020.0   \n",
              "\n",
              "         doc_id posting_date document_create_date document_create_date.1  \\\n",
              "0  1.930818e+09   2020-04-23           2020-04-23             2020-04-23   \n",
              "1  1.930700e+09   2020-03-27           2020-03-25             2020-03-27   \n",
              "2  1.930670e+09   2020-03-18           2020-03-19             2020-03-18   \n",
              "3  1.930861e+09   2020-05-06           2020-05-05             2020-05-06   \n",
              "4  1.930683e+09   2020-03-23           2020-03-21             2020-03-23   \n",
              "\n",
              "  due_in_date invoice_currency document type  posting_id  total_open_amount  \\\n",
              "0  2020-05-08              USD            RV         1.0           12781.33   \n",
              "1  2020-04-11              USD            RV         1.0            5269.89   \n",
              "2  2020-04-02              USD            RV         1.0          103792.96   \n",
              "3  2020-05-21              USD            RV         1.0           93256.68   \n",
              "4  2020-04-07              USD            RV         1.0           12924.68   \n",
              "\n",
              "  baseline_create_date cust_payment_terms  isOpen  delay  \n",
              "0           2020-04-23               NAH4       1    NaN  \n",
              "1           2020-03-27               NAH4       1    NaN  \n",
              "2           2020-03-18               NAA8       1    NaN  \n",
              "3           2020-05-06               NAA8       1    NaN  \n",
              "4           2020-03-23               NAH4       1    NaN  "
            ]
          },
          "execution_count": 37,
          "metadata": {},
          "output_type": "execute_result"
        }
      ],
      "source": [
        "# creating the test set which consists of the rows with null value for clear_date\r\n",
        "test_data = data[data.clear_date.isnull()].reset_index(drop=True)\r\n",
        "test_data.head()"
      ]
    },
    {
      "cell_type": "code",
      "execution_count": 38,
      "metadata": {
        "colab": {
          "base_uri": "https://localhost:8080/"
        },
        "id": "Mp_ihu6Qf9zX",
        "outputId": "05318453-fb60-4b9a-eccc-e88624d13af5"
      },
      "outputs": [
        {
          "data": {
            "text/plain": [
              "(9702, 18)"
            ]
          },
          "execution_count": 38,
          "metadata": {},
          "output_type": "execute_result"
        }
      ],
      "source": [
        "# All 10,000 clear_date nulls are now in the test_data set \r\n",
        "test_data.shape"
      ]
    },
    {
      "cell_type": "code",
      "execution_count": 39,
      "metadata": {
        "colab": {
          "base_uri": "https://localhost:8080/",
          "height": 496
        },
        "id": "ZuOsOaxsgLtv",
        "outputId": "84243733-8ea4-4f47-983b-d62019e479fc"
      },
      "outputs": [
        {
          "data": {
            "text/html": [
              "<div>\n",
              "<style scoped>\n",
              "    .dataframe tbody tr th:only-of-type {\n",
              "        vertical-align: middle;\n",
              "    }\n",
              "\n",
              "    .dataframe tbody tr th {\n",
              "        vertical-align: top;\n",
              "    }\n",
              "\n",
              "    .dataframe thead th {\n",
              "        text-align: right;\n",
              "    }\n",
              "</style>\n",
              "<table border=\"1\" class=\"dataframe\">\n",
              "  <thead>\n",
              "    <tr style=\"text-align: right;\">\n",
              "      <th></th>\n",
              "      <th>business_code</th>\n",
              "      <th>cust_number</th>\n",
              "      <th>name_customer</th>\n",
              "      <th>clear_date</th>\n",
              "      <th>buisness_year</th>\n",
              "      <th>doc_id</th>\n",
              "      <th>posting_date</th>\n",
              "      <th>document_create_date</th>\n",
              "      <th>document_create_date.1</th>\n",
              "      <th>due_in_date</th>\n",
              "      <th>invoice_currency</th>\n",
              "      <th>document type</th>\n",
              "      <th>posting_id</th>\n",
              "      <th>total_open_amount</th>\n",
              "      <th>baseline_create_date</th>\n",
              "      <th>cust_payment_terms</th>\n",
              "      <th>isOpen</th>\n",
              "      <th>delay</th>\n",
              "    </tr>\n",
              "  </thead>\n",
              "  <tbody>\n",
              "    <tr>\n",
              "      <th>0</th>\n",
              "      <td>U001</td>\n",
              "      <td>0200707005</td>\n",
              "      <td>KING S foundation</td>\n",
              "      <td>2019-10-16</td>\n",
              "      <td>2019.0</td>\n",
              "      <td>1.929941e+09</td>\n",
              "      <td>2019-10-01</td>\n",
              "      <td>2019-09-29</td>\n",
              "      <td>2019-10-01</td>\n",
              "      <td>2019-10-16</td>\n",
              "      <td>USD</td>\n",
              "      <td>RV</td>\n",
              "      <td>1.0</td>\n",
              "      <td>134552.81</td>\n",
              "      <td>2019-10-01</td>\n",
              "      <td>NAA8</td>\n",
              "      <td>0</td>\n",
              "      <td>0.0</td>\n",
              "    </tr>\n",
              "    <tr>\n",
              "      <th>1</th>\n",
              "      <td>U001</td>\n",
              "      <td>100001196</td>\n",
              "      <td>DOLLAR co</td>\n",
              "      <td>2019-08-01</td>\n",
              "      <td>2019.0</td>\n",
              "      <td>1.929617e+09</td>\n",
              "      <td>2019-07-16</td>\n",
              "      <td>2019-07-15</td>\n",
              "      <td>2019-07-16</td>\n",
              "      <td>2019-07-31</td>\n",
              "      <td>USD</td>\n",
              "      <td>RV</td>\n",
              "      <td>1.0</td>\n",
              "      <td>64587.66</td>\n",
              "      <td>2019-07-16</td>\n",
              "      <td>NAA8</td>\n",
              "      <td>0</td>\n",
              "      <td>1.0</td>\n",
              "    </tr>\n",
              "    <tr>\n",
              "      <th>2</th>\n",
              "      <td>U001</td>\n",
              "      <td>0200803720</td>\n",
              "      <td>DEC in</td>\n",
              "      <td>2020-01-29</td>\n",
              "      <td>2020.0</td>\n",
              "      <td>1.930443e+09</td>\n",
              "      <td>2020-01-27</td>\n",
              "      <td>2020-01-27</td>\n",
              "      <td>2020-01-27</td>\n",
              "      <td>2020-01-26</td>\n",
              "      <td>USD</td>\n",
              "      <td>RV</td>\n",
              "      <td>1.0</td>\n",
              "      <td>8707.89</td>\n",
              "      <td>2020-01-16</td>\n",
              "      <td>NAM2</td>\n",
              "      <td>0</td>\n",
              "      <td>3.0</td>\n",
              "    </tr>\n",
              "    <tr>\n",
              "      <th>3</th>\n",
              "      <td>U001</td>\n",
              "      <td>0200792734</td>\n",
              "      <td>MDV/ associates</td>\n",
              "      <td>2019-01-18</td>\n",
              "      <td>2019.0</td>\n",
              "      <td>1.928563e+09</td>\n",
              "      <td>2019-01-03</td>\n",
              "      <td>2019-01-03</td>\n",
              "      <td>2019-01-03</td>\n",
              "      <td>2019-01-18</td>\n",
              "      <td>USD</td>\n",
              "      <td>RV</td>\n",
              "      <td>1.0</td>\n",
              "      <td>8103.89</td>\n",
              "      <td>2019-01-03</td>\n",
              "      <td>NAA8</td>\n",
              "      <td>0</td>\n",
              "      <td>0.0</td>\n",
              "    </tr>\n",
              "    <tr>\n",
              "      <th>4</th>\n",
              "      <td>U001</td>\n",
              "      <td>0200416837</td>\n",
              "      <td>DEC trust</td>\n",
              "      <td>2019-12-02</td>\n",
              "      <td>2019.0</td>\n",
              "      <td>1.930183e+09</td>\n",
              "      <td>2019-11-22</td>\n",
              "      <td>2019-11-22</td>\n",
              "      <td>2019-11-22</td>\n",
              "      <td>2019-12-09</td>\n",
              "      <td>USD</td>\n",
              "      <td>RV</td>\n",
              "      <td>1.0</td>\n",
              "      <td>717.84</td>\n",
              "      <td>2019-11-16</td>\n",
              "      <td>NAM4</td>\n",
              "      <td>0</td>\n",
              "      <td>-7.0</td>\n",
              "    </tr>\n",
              "  </tbody>\n",
              "</table>\n",
              "</div>"
            ],
            "text/plain": [
              "  business_code cust_number      name_customer clear_date  buisness_year  \\\n",
              "0          U001  0200707005  KING S foundation 2019-10-16         2019.0   \n",
              "1          U001   100001196          DOLLAR co 2019-08-01         2019.0   \n",
              "2          U001  0200803720             DEC in 2020-01-29         2020.0   \n",
              "3          U001  0200792734    MDV/ associates 2019-01-18         2019.0   \n",
              "4          U001  0200416837          DEC trust 2019-12-02         2019.0   \n",
              "\n",
              "         doc_id posting_date document_create_date document_create_date.1  \\\n",
              "0  1.929941e+09   2019-10-01           2019-09-29             2019-10-01   \n",
              "1  1.929617e+09   2019-07-16           2019-07-15             2019-07-16   \n",
              "2  1.930443e+09   2020-01-27           2020-01-27             2020-01-27   \n",
              "3  1.928563e+09   2019-01-03           2019-01-03             2019-01-03   \n",
              "4  1.930183e+09   2019-11-22           2019-11-22             2019-11-22   \n",
              "\n",
              "  due_in_date invoice_currency document type  posting_id  total_open_amount  \\\n",
              "0  2019-10-16              USD            RV         1.0          134552.81   \n",
              "1  2019-07-31              USD            RV         1.0           64587.66   \n",
              "2  2020-01-26              USD            RV         1.0            8707.89   \n",
              "3  2019-01-18              USD            RV         1.0            8103.89   \n",
              "4  2019-12-09              USD            RV         1.0             717.84   \n",
              "\n",
              "  baseline_create_date cust_payment_terms  isOpen  delay  \n",
              "0           2019-10-01               NAA8       0    0.0  \n",
              "1           2019-07-16               NAA8       0    1.0  \n",
              "2           2020-01-16               NAM2       0    3.0  \n",
              "3           2019-01-03               NAA8       0    0.0  \n",
              "4           2019-11-16               NAM4       0   -7.0  "
            ]
          },
          "execution_count": 39,
          "metadata": {},
          "output_type": "execute_result"
        }
      ],
      "source": [
        "#The remaining data is shifted to big_set. big_set= Data - test_data\r\n",
        "big_set = data[data.clear_date.notnull()].reset_index(drop=True)\r\n",
        "big_set.head()"
      ]
    },
    {
      "cell_type": "code",
      "execution_count": 40,
      "metadata": {
        "colab": {
          "base_uri": "https://localhost:8080/"
        },
        "id": "pOpjuev10Egu",
        "outputId": "50794ad5-1b4b-40bc-aaa4-451b434fdf92"
      },
      "outputs": [
        {
          "data": {
            "text/plain": [
              "(39144, 18)"
            ]
          },
          "execution_count": 40,
          "metadata": {},
          "output_type": "execute_result"
        }
      ],
      "source": [
        "big_set.shape"
      ]
    },
    {
      "cell_type": "code",
      "execution_count": 41,
      "metadata": {},
      "outputs": [
        {
          "name": "stdout",
          "output_type": "stream",
          "text": [
            "big_test size====>39144\n",
            "test_data size===>9702\n",
            "data size========>48846\n"
          ]
        }
      ],
      "source": [
        "print(f'big_test size====>{big_set.shape[0]}\\ntest_data size===>{test_data.shape[0]}\\ndata size========>{data.shape[0]}')"
      ]
    },
    {
      "cell_type": "markdown",
      "metadata": {
        "id": "MmlGDpOzaZ7K"
      },
      "source": [
        "#### (big_set)39996 + (test_data)10000 == 49996(data)"
      ]
    },
    {
      "cell_type": "markdown",
      "metadata": {},
      "source": [
        "## Spliting Big_set into test data and validation data"
      ]
    },
    {
      "cell_type": "code",
      "execution_count": 42,
      "metadata": {
        "id": "UpqvDfo1khO1"
      },
      "outputs": [],
      "source": [
        "# creating val1, val2(validation sets) and train_data(train set) using big_set\r\n",
        "\r\n",
        "val2 = big_set[big_set['document_create_date.1'] > '2020-01-15']  # val2 conatins dates greater than 15th jan 2020\r\n",
        "temp = big_set[big_set['document_create_date.1'] <= '2020-01-15'] # temp variable with remaining dates\r\n",
        "\r\n",
        "val1 = temp[temp['document_create_date.1'] > '2019-11-15']  # val1 contains dates  15th Nov 2019 - 15th Jan 2020\r\n",
        "train_data = temp[temp['document_create_date.1'] <= '2019-11-15'] #train_data contains dates before 15th Nov 2020"
      ]
    },
    {
      "cell_type": "code",
      "execution_count": 43,
      "metadata": {
        "colab": {
          "base_uri": "https://localhost:8080/"
        },
        "id": "1-HYa1JMyK_a",
        "outputId": "7ccc71ef-e3e9-420c-96e8-d7aa59db1d8a"
      },
      "outputs": [
        {
          "name": "stdout",
          "output_type": "stream",
          "text": [
            "train_data: (31119, 18)\n",
            "val1      : (4328, 18)\n",
            "val2      : (3697, 18)\n"
          ]
        }
      ],
      "source": [
        "#checking shape of validtion data sets and training data\r\n",
        "print(\"train_data:\",train_data.shape)\r\n",
        "print(\"val1      :\",val1.shape)\r\n",
        "print(\"val2      :\",val2.shape)"
      ]
    },
    {
      "cell_type": "markdown",
      "metadata": {
        "id": "DS9ZK2DW0f9M"
      },
      "source": [
        "## Sorting all the datasets in increasing according by document_create_date.1\r\n",
        "\r\n",
        "\r\n"
      ]
    },
    {
      "cell_type": "code",
      "execution_count": 44,
      "metadata": {
        "id": "cuU6Su2P0fL7"
      },
      "outputs": [],
      "source": [
        "train_data = train_data.sort_values(by='document_create_date.1').reset_index(drop=True)\r\n",
        "val1 = val1.sort_values(by='document_create_date.1').reset_index(drop=True)\r\n",
        "val2 = val2.sort_values(by='document_create_date.1').reset_index(drop=True)\r\n",
        "test_data = test_data.sort_values(by='document_create_date.1').reset_index(drop=True)\r\n",
        "final_data_test=test_data[[\"name_customer\",\"cust_number\",\"doc_id\",\"total_open_amount\",\"due_in_date\"]]"
      ]
    },
    {
      "cell_type": "code",
      "execution_count": 45,
      "metadata": {},
      "outputs": [
        {
          "name": "stdout",
          "output_type": "stream",
          "text": [
            "<class 'pandas.core.frame.DataFrame'>\n",
            "RangeIndex: 9702 entries, 0 to 9701\n",
            "Data columns (total 5 columns):\n",
            " #   Column             Non-Null Count  Dtype         \n",
            "---  ------             --------------  -----         \n",
            " 0   name_customer      9702 non-null   object        \n",
            " 1   cust_number        9702 non-null   object        \n",
            " 2   doc_id             9702 non-null   float64       \n",
            " 3   total_open_amount  9702 non-null   float64       \n",
            " 4   due_in_date        9702 non-null   datetime64[ns]\n",
            "dtypes: datetime64[ns](1), float64(2), object(2)\n",
            "memory usage: 379.1+ KB\n"
          ]
        }
      ],
      "source": [
        "final_data_test.info()"
      ]
    },
    {
      "cell_type": "code",
      "execution_count": 46,
      "metadata": {
        "colab": {
          "base_uri": "https://localhost:8080/"
        },
        "id": "dB9Tk-XP13_E",
        "outputId": "a1256479-3f1d-4fdb-b868-c18b976562c2"
      },
      "outputs": [
        {
          "name": "stdout",
          "output_type": "stream",
          "text": [
            "train_data\n",
            "0       2018-12-30\n",
            "1       2018-12-30\n",
            "2       2018-12-30\n",
            "3       2018-12-30\n",
            "4       2018-12-30\n",
            "           ...    \n",
            "31114   2019-11-15\n",
            "31115   2019-11-15\n",
            "31116   2019-11-15\n",
            "31117   2019-11-15\n",
            "31118   2019-11-15\n",
            "Name: document_create_date.1, Length: 31119, dtype: datetime64[ns]\n",
            "~~~~~~~~~~~~~~~~~~~~~~~~~~~~~~~~~~~~~~~~~~~~~~~~~~\n",
            "val1\n",
            "0      2019-11-16\n",
            "1      2019-11-16\n",
            "2      2019-11-16\n",
            "3      2019-11-16\n",
            "4      2019-11-16\n",
            "          ...    \n",
            "4323   2020-01-15\n",
            "4324   2020-01-15\n",
            "4325   2020-01-15\n",
            "4326   2020-01-15\n",
            "4327   2020-01-15\n",
            "Name: document_create_date.1, Length: 4328, dtype: datetime64[ns]\n",
            "~~~~~~~~~~~~~~~~~~~~~~~~~~~~~~~~~~~~~~~~~~~~~~~~~~\n",
            "val2\n",
            "0      2020-01-16\n",
            "1      2020-01-16\n",
            "2      2020-01-16\n",
            "3      2020-01-16\n",
            "4      2020-01-16\n",
            "          ...    \n",
            "3692   2020-02-26\n",
            "3693   2020-02-26\n",
            "3694   2020-02-26\n",
            "3695   2020-02-27\n",
            "3696   2020-02-27\n",
            "Name: document_create_date.1, Length: 3697, dtype: datetime64[ns]\n",
            "~~~~~~~~~~~~~~~~~~~~~~~~~~~~~~~~~~~~~~~~~~~~~~~~~~\n",
            "test_data\n",
            "0      2020-02-27\n",
            "1      2020-02-27\n",
            "2      2020-02-27\n",
            "3      2020-02-27\n",
            "4      2020-02-27\n",
            "          ...    \n",
            "9697   2020-05-14\n",
            "9698   2020-05-14\n",
            "9699   2020-05-15\n",
            "9700   2020-05-18\n",
            "9701   2020-05-21\n",
            "Name: document_create_date.1, Length: 9702, dtype: datetime64[ns]\n"
          ]
        }
      ],
      "source": [
        "print(f\"train_data\\n{train_data['document_create_date.1']}\")\r\n",
        "print(\"~\" * 50)\r\n",
        "print(f\"val1\\n{val1['document_create_date.1']}\")\r\n",
        "print(\"~\" * 50)\r\n",
        "print(f\"val2\\n{val2['document_create_date.1']}\")\r\n",
        "print(\"~\" * 50)\r\n",
        "print(f\"test_data\\n{test_data['document_create_date.1']}\")"
      ]
    },
    {
      "cell_type": "markdown",
      "metadata": {
        "id": "u_TzmCaT3psa"
      },
      "source": [
        "## Seperating the Target Variable i.e. delay "
      ]
    },
    {
      "cell_type": "code",
      "execution_count": 47,
      "metadata": {},
      "outputs": [],
      "source": [
        "X_train = train_data[train_data.columns.difference(['delay'])]  # X_train = train_data - delay(i.e. Target variable)\r\n",
        "Y_train = train_data[['delay']]\r\n",
        "\r\n",
        "X_val1 = val1[val1.columns.difference(['delay'])] # X_val1 = val1 - delay\r\n",
        "Y_val1 = val1[['delay']]\r\n",
        "\r\n",
        "X_val2 = val2[val2.columns.difference(['delay'])] # X_val2 = val2 - delay\r\n",
        "Y_val2 = val2[['delay']]\r\n",
        "\r\n",
        "X_test = test_data[test_data.columns.difference(['delay'])] # X_test = test_data - delay\r\n",
        "Y_test = test_data[['delay']]"
      ]
    },
    {
      "cell_type": "markdown",
      "metadata": {
        "id": "x4vybYgs9VUN"
      },
      "source": [
        "# Checking for constant and Quasi constant columns"
      ]
    },
    {
      "cell_type": "code",
      "execution_count": 48,
      "metadata": {
        "colab": {
          "base_uri": "https://localhost:8080/"
        },
        "id": "HKAJkYE8BW4U",
        "outputId": "e160bfb9-20ea-4da6-c294-28817375af48"
      },
      "outputs": [
        {
          "data": {
            "text/plain": [
              "baseline_create_date        333\n",
              "buisness_year                 1\n",
              "business_code                 6\n",
              "clear_date                  297\n",
              "cust_number                1252\n",
              "cust_payment_terms           67\n",
              "doc_id                    31119\n",
              "document type                 1\n",
              "document_create_date        328\n",
              "document_create_date.1      321\n",
              "due_in_date                 364\n",
              "invoice_currency              2\n",
              "isOpen                        1\n",
              "name_customer              3488\n",
              "posting_date                321\n",
              "posting_id                    1\n",
              "total_open_amount         28461\n",
              "dtype: int64"
            ]
          },
          "execution_count": 48,
          "metadata": {},
          "output_type": "execute_result"
        }
      ],
      "source": [
        "X_train.nunique()"
      ]
    },
    {
      "cell_type": "markdown",
      "metadata": {
        "id": "_BcDZCsiLYx5"
      },
      "source": [
        "## Checking for constant columns."
      ]
    },
    {
      "cell_type": "code",
      "execution_count": 50,
      "metadata": {
        "colab": {
          "base_uri": "https://localhost:8080/"
        },
        "id": "eW1wUu6p9Uy2",
        "outputId": "88380d32-d2ff-4b8e-b24f-c318e3980ac9"
      },
      "outputs": [
        {
          "data": {
            "text/plain": [
              "['buisness_year', 'document type', 'isOpen', 'posting_id']"
            ]
          },
          "execution_count": 50,
          "metadata": {},
          "output_type": "execute_result"
        }
      ],
      "source": [
        "#checking for constant columns\n",
        "constant_features = [\n",
        "    col for col in X_train.columns if X_train[col].nunique() == 1\n",
        "]\n",
        "constant_features"
      ]
    },
    {
      "cell_type": "code",
      "execution_count": 51,
      "metadata": {
        "colab": {
          "base_uri": "https://localhost:8080/"
        },
        "id": "KoiQ5XA6-84P",
        "outputId": "aac2c649-c728-409b-9976-2ea8366fdd8d"
      },
      "outputs": [
        {
          "name": "stdout",
          "output_type": "stream",
          "text": [
            "(31119, 13)\n",
            "(4328, 13)\n",
            "(3697, 13)\n",
            "(9702, 13)\n"
          ]
        }
      ],
      "source": [
        "#dropping all the constant columns\r\n",
        "X_train.drop(labels = constant_features, axis=1, inplace=True)\r\n",
        "X_val1.drop(labels = constant_features, axis=1, inplace=True)\r\n",
        "X_val2.drop(labels = constant_features, axis=1, inplace=True)\r\n",
        "X_test.drop(labels = constant_features, axis=1, inplace=True)\r\n",
        "\r\n",
        "print(X_train.shape)\r\n",
        "print(X_val1.shape)\r\n",
        "print(X_val2.shape)\r\n",
        "print(X_test.shape)"
      ]
    },
    {
      "cell_type": "code",
      "execution_count": 52,
      "metadata": {
        "colab": {
          "base_uri": "https://localhost:8080/"
        },
        "id": "zbqTD-GyDaiF",
        "outputId": "5df538d9-c656-4869-a801-8345072fede8"
      },
      "outputs": [
        {
          "data": {
            "text/plain": [
              "baseline_create_date        333\n",
              "business_code                 6\n",
              "clear_date                  297\n",
              "cust_number                1252\n",
              "cust_payment_terms           67\n",
              "doc_id                    31119\n",
              "document_create_date        328\n",
              "document_create_date.1      321\n",
              "due_in_date                 364\n",
              "invoice_currency              2\n",
              "name_customer              3488\n",
              "posting_date                321\n",
              "total_open_amount         28461\n",
              "dtype: int64"
            ]
          },
          "execution_count": 52,
          "metadata": {},
          "output_type": "execute_result"
        }
      ],
      "source": [
        "X_train.nunique()"
      ]
    },
    {
      "cell_type": "markdown",
      "metadata": {},
      "source": [
        "#### no more columns with contant values"
      ]
    },
    {
      "cell_type": "markdown",
      "metadata": {
        "id": "wn1ITVtwRpU0"
      },
      "source": [
        "## Checking for Quasi constant columns"
      ]
    },
    {
      "cell_type": "code",
      "execution_count": 53,
      "metadata": {
        "colab": {
          "base_uri": "https://localhost:8080/"
        },
        "id": "VXEuS9-cChVA",
        "outputId": "994215cc-efc8-4f1f-cd98-f9a6197ba7ed"
      },
      "outputs": [
        {
          "data": {
            "text/plain": [
              "U001    90.401363\n",
              "CA02     7.731611\n",
              "U013     1.491050\n",
              "U002     0.334201\n",
              "U005     0.032135\n",
              "U007     0.009640\n",
              "Name: business_code, dtype: float64"
            ]
          },
          "execution_count": 53,
          "metadata": {},
          "output_type": "execute_result"
        }
      ],
      "source": [
        "X_train['business_code'].value_counts(normalize=True)*100"
      ]
    },
    {
      "cell_type": "code",
      "execution_count": 54,
      "metadata": {
        "colab": {
          "base_uri": "https://localhost:8080/"
        },
        "id": "ebW1rpLRDfEU",
        "outputId": "f66815a3-02a5-47b1-d53a-c845c110af4f"
      },
      "outputs": [
        {
          "data": {
            "text/plain": [
              "USD    92.268389\n",
              "CAD     7.731611\n",
              "Name: invoice_currency, dtype: float64"
            ]
          },
          "execution_count": 54,
          "metadata": {},
          "output_type": "execute_result"
        }
      ],
      "source": [
        "X_train['invoice_currency'].value_counts(normalize=True)*100"
      ]
    },
    {
      "cell_type": "code",
      "execution_count": 56,
      "metadata": {
        "colab": {
          "base_uri": "https://localhost:8080/"
        },
        "id": "Y_F5f0gEDqlt",
        "outputId": "de550a45-f168-4a03-c471-1e1b51779c4b"
      },
      "outputs": [
        {
          "data": {
            "text/plain": [
              "NAA8    40.383688\n",
              "NAH4    25.968058\n",
              "CA10     7.509881\n",
              "NAC6     3.190977\n",
              "NAM4     2.564350\n",
              "          ...    \n",
              "B112     0.003213\n",
              "MC15     0.003213\n",
              "BR12     0.003213\n",
              "NAUY     0.003213\n",
              "B052     0.003213\n",
              "Name: cust_payment_terms, Length: 67, dtype: float64"
            ]
          },
          "execution_count": 56,
          "metadata": {},
          "output_type": "execute_result"
        }
      ],
      "source": [
        "X_train['cust_payment_terms'].value_counts(normalize=True)*100"
      ]
    },
    {
      "cell_type": "markdown",
      "metadata": {
        "id": "a0ibbDb4Sl_0"
      },
      "source": [
        "#### We see that business_code and invoice_currency are quasi constant columns as in business_code 90.253639% values are U001 \r\n",
        "#### and in invoice_currency 91.986205% values are USD.\r\n"
      ]
    },
    {
      "cell_type": "code",
      "execution_count": 57,
      "metadata": {},
      "outputs": [
        {
          "data": {
            "text/html": [
              "<div>\n",
              "<style scoped>\n",
              "    .dataframe tbody tr th:only-of-type {\n",
              "        vertical-align: middle;\n",
              "    }\n",
              "\n",
              "    .dataframe tbody tr th {\n",
              "        vertical-align: top;\n",
              "    }\n",
              "\n",
              "    .dataframe thead th {\n",
              "        text-align: right;\n",
              "    }\n",
              "</style>\n",
              "<table border=\"1\" class=\"dataframe\">\n",
              "  <thead>\n",
              "    <tr style=\"text-align: right;\">\n",
              "      <th></th>\n",
              "      <th>total_open_amount</th>\n",
              "      <th>invoice_currency</th>\n",
              "    </tr>\n",
              "  </thead>\n",
              "  <tbody>\n",
              "    <tr>\n",
              "      <th>31114</th>\n",
              "      <td>94225.35</td>\n",
              "      <td>USD</td>\n",
              "    </tr>\n",
              "    <tr>\n",
              "      <th>31115</th>\n",
              "      <td>24933.47</td>\n",
              "      <td>USD</td>\n",
              "    </tr>\n",
              "    <tr>\n",
              "      <th>31116</th>\n",
              "      <td>78385.32</td>\n",
              "      <td>USD</td>\n",
              "    </tr>\n",
              "    <tr>\n",
              "      <th>31117</th>\n",
              "      <td>21733.06</td>\n",
              "      <td>CAD</td>\n",
              "    </tr>\n",
              "    <tr>\n",
              "      <th>31118</th>\n",
              "      <td>18845.67</td>\n",
              "      <td>USD</td>\n",
              "    </tr>\n",
              "  </tbody>\n",
              "</table>\n",
              "</div>"
            ],
            "text/plain": [
              "       total_open_amount invoice_currency\n",
              "31114           94225.35              USD\n",
              "31115           24933.47              USD\n",
              "31116           78385.32              USD\n",
              "31117           21733.06              CAD\n",
              "31118           18845.67              USD"
            ]
          },
          "execution_count": 57,
          "metadata": {},
          "output_type": "execute_result"
        }
      ],
      "source": [
        "X_train[['total_open_amount','invoice_currency']].tail()"
      ]
    },
    {
      "cell_type": "code",
      "execution_count": 58,
      "metadata": {},
      "outputs": [],
      "source": [
        "#changing the total_open_amount where invoice currency is CAD \r\n",
        "X_train.total_open_amount=np.where(X_train.invoice_currency==\"CAD\",X_train.total_open_amount*.8,X_train.total_open_amount)"
      ]
    },
    {
      "cell_type": "code",
      "execution_count": 59,
      "metadata": {
        "id": "dXPbKZP2SlDC"
      },
      "outputs": [],
      "source": [
        "# dropping quasi constant features\n",
        "X_train.drop('business_code', axis=1, inplace=True)\n",
        "X_val1.drop('business_code', axis=1, inplace=True)\n",
        "X_val2.drop('business_code', axis=1, inplace=True)\n",
        "X_test.drop('business_code', axis=1, inplace=True)\n",
        "\n",
        "\n",
        "X_train.drop('invoice_currency', axis=1, inplace=True)\n",
        "X_val1.drop('invoice_currency', axis=1, inplace=True)\n",
        "X_val2.drop('invoice_currency', axis=1, inplace=True)\n",
        "X_test.drop('invoice_currency', axis=1, inplace=True)"
      ]
    },
    {
      "cell_type": "code",
      "execution_count": 61,
      "metadata": {
        "colab": {
          "base_uri": "https://localhost:8080/"
        },
        "id": "4uK62r1oZhuJ",
        "outputId": "3a0a8e11-f67a-4ec0-a377-99b9bf587b4e"
      },
      "outputs": [
        {
          "name": "stdout",
          "output_type": "stream",
          "text": [
            "31119 31119\n"
          ]
        }
      ],
      "source": [
        "print(X_train.shape[0],len(np.where(X_train['document_create_date.1'] == X_train['posting_date'], X_train['document_create_date.1'], X_train['posting_date'])))"
      ]
    },
    {
      "cell_type": "markdown",
      "metadata": {
        "id": "UwGBESFIdQGG"
      },
      "source": [
        "#### We see that the positing_date and the document_create_date.1 are equal. So we'll drop posting_date."
      ]
    },
    {
      "cell_type": "code",
      "execution_count": 62,
      "metadata": {
        "id": "YkvCrF-zddJn"
      },
      "outputs": [],
      "source": [
        "X_train.drop('posting_date', axis=1, inplace=True)\n",
        "X_val1.drop('posting_date', axis=1, inplace=True)\n",
        "X_val2.drop('posting_date', axis=1, inplace=True)\n",
        "X_test.drop('posting_date', axis=1, inplace=True)"
      ]
    },
    {
      "cell_type": "code",
      "execution_count": 63,
      "metadata": {
        "id": "tiP8hPSbdvSY"
      },
      "outputs": [],
      "source": [
        "# dropping document_create_date as its normalized form is document_create_date.1\r\n",
        "X_train.drop('document_create_date', axis=1, inplace=True)\r\n",
        "X_val1.drop('document_create_date', axis=1, inplace=True)\r\n",
        "X_val2.drop('document_create_date', axis=1, inplace=True)\r\n",
        "X_test.drop('document_create_date', axis=1, inplace=True)"
      ]
    },
    {
      "cell_type": "code",
      "execution_count": 64,
      "metadata": {
        "id": "qpSwse_yewze"
      },
      "outputs": [],
      "source": [
        "# We do not use ID columns in train set hence dropping doc_id from X_train\r\n",
        "#because its non repeating \r\n",
        "X_train.drop('doc_id', axis=1, inplace=True)"
      ]
    },
    {
      "cell_type": "code",
      "execution_count": 65,
      "metadata": {
        "colab": {
          "base_uri": "https://localhost:8080/"
        },
        "id": "sKiMRYnyeL5K",
        "outputId": "dd48272e-6e8a-4622-d367-2e88d4056b73"
      },
      "outputs": [
        {
          "name": "stdout",
          "output_type": "stream",
          "text": [
            "(31119, 8)\n",
            "(4328, 9)\n",
            "(3697, 9)\n",
            "(9702, 9)\n"
          ]
        }
      ],
      "source": [
        "print(X_train.shape)\n",
        "print(X_val1.shape)\n",
        "print(X_val2.shape)\n",
        "print(X_test.shape)"
      ]
    },
    {
      "cell_type": "code",
      "execution_count": 66,
      "metadata": {
        "colab": {
          "base_uri": "https://localhost:8080/"
        },
        "id": "uwWG3_PveRWb",
        "outputId": "ab69c30b-e540-4b6f-d520-d05568ef7052"
      },
      "outputs": [
        {
          "data": {
            "text/plain": [
              "baseline_create_date      datetime64[ns]\n",
              "clear_date                datetime64[ns]\n",
              "cust_number                       object\n",
              "cust_payment_terms                object\n",
              "document_create_date.1    datetime64[ns]\n",
              "due_in_date               datetime64[ns]\n",
              "name_customer                     object\n",
              "total_open_amount                float64\n",
              "dtype: object"
            ]
          },
          "execution_count": 66,
          "metadata": {},
          "output_type": "execute_result"
        }
      ],
      "source": [
        "X_train.dtypes"
      ]
    },
    {
      "cell_type": "code",
      "execution_count": 67,
      "metadata": {
        "colab": {
          "base_uri": "https://localhost:8080/"
        },
        "id": "N-fMjmpCiNfQ",
        "outputId": "fa7ad7f6-9bb0-465d-ee1d-07a287f0ca48"
      },
      "outputs": [
        {
          "data": {
            "text/plain": [
              "dtype('int32')"
            ]
          },
          "execution_count": 67,
          "metadata": {},
          "output_type": "execute_result"
        }
      ],
      "source": [
        "#converting total_open_amount to integer type\n",
        "X_train['total_open_amount'] = X_train['total_open_amount'].astype(int)\n",
        "X_train['total_open_amount'].dtype"
      ]
    },
    {
      "cell_type": "code",
      "execution_count": 75,
      "metadata": {
        "colab": {
          "base_uri": "https://localhost:8080/",
          "height": 314
        },
        "id": "Y6xoFctvFlwL",
        "outputId": "1ae3c1bb-5386-4d9c-fb1b-5fea58b521a9"
      },
      "outputs": [
        {
          "data": {
            "text/plain": [
              "Text(0.5, 1.0, 'Scatterplot total_open_amount VS delay')"
            ]
          },
          "execution_count": 75,
          "metadata": {},
          "output_type": "execute_result"
        },
        {
          "data": {
            "image/png": "[encoded data removed]",
            "text/plain": [
              "<Figure size 432x288 with 1 Axes>"
            ]
          },
          "metadata": {
            "needs_background": "light"
          },
          "output_type": "display_data"
        }
      ],
      "source": [
        "plt.scatter(X_train['total_open_amount'], Y_train['delay'])\n",
        "plt.xlabel('total_open_amount')\n",
        "plt.ylabel('delay')\n",
        "plt.title('Scatterplot total_open_amount VS delay')"
      ]
    },
    {
      "cell_type": "markdown",
      "metadata": {},
      "source": [
        "#### mostly total_open_amount is below 2 lakhs anad paid within 100 days \r\n"
      ]
    },
    {
      "cell_type": "code",
      "execution_count": 76,
      "metadata": {
        "colab": {
          "base_uri": "https://localhost:8080/",
          "height": 296
        },
        "id": "ueqIoYvDFp-5",
        "outputId": "571ec2e9-e932-498a-e9d8-633af7f34e73"
      },
      "outputs": [
        {
          "data": {
            "image/png": "[encoded data removed]",
            "text/plain": [
              "<Figure size 432x288 with 1 Axes>"
            ]
          },
          "metadata": {
            "needs_background": "light"
          },
          "output_type": "display_data"
        }
      ],
      "source": [
        "bins=range(0,800000,100000)\r\n",
        "plt.hist(X_train['total_open_amount'],bins=bins)\r\n",
        "plt.xlabel('total_open_amount')\r\n",
        "plt.title('Distribution of total_open_amount')\r\n",
        "plt.show()"
      ]
    },
    {
      "cell_type": "markdown",
      "metadata": {},
      "source": [
        "##### most total_open_amount are in range 0-1lac  are arounf 30k"
      ]
    },
    {
      "cell_type": "code",
      "execution_count": 77,
      "metadata": {},
      "outputs": [
        {
          "data": {
            "text/plain": [
              "<AxesSubplot:xlabel='total_open_amount'>"
            ]
          },
          "execution_count": 77,
          "metadata": {},
          "output_type": "execute_result"
        },
        {
          "data": {
            "image/png": "[encoded data removed]",
            "text/plain": [
              "<Figure size 432x288 with 1 Axes>"
            ]
          },
          "metadata": {
            "needs_background": "light"
          },
          "output_type": "display_data"
        }
      ],
      "source": [
        "sns.boxplot(x=X_train['total_open_amount'])"
      ]
    },
    {
      "cell_type": "markdown",
      "metadata": {},
      "source": [
        "#### most of the outliers exist in the range 1-4 lacs"
      ]
    },
    {
      "cell_type": "code",
      "execution_count": 78,
      "metadata": {
        "colab": {
          "base_uri": "https://localhost:8080/"
        },
        "id": "nua1-1LuJPYE",
        "outputId": "cd603769-1c98-462e-da97-af8a9740a3d8"
      },
      "outputs": [
        {
          "name": "stdout",
          "output_type": "stream",
          "text": [
            "Q1 : 4549.5\n",
            "Q2 : 16977.0\n",
            "Q3 : 45628.5\n",
            "IQR : 41079.0\n",
            "~~~~~~~~~~~~~~~~~~~~\n",
            "Minimum : -57069.0\n",
            "Maximum : 107247.0\n"
          ]
        }
      ],
      "source": [
        "Q1 = X_train['total_open_amount'].quantile(0.25)\n",
        "Q2 = X_train['total_open_amount'].quantile(0.50)\n",
        "Q3 = X_train['total_open_amount'].quantile(0.75)\n",
        "IQR = Q3 - Q1\n",
        "print('Q1 : ' + str(Q1))\n",
        "print('Q2 : ' + str(Q2))\n",
        "print('Q3 : ' + str(Q3))\n",
        "print('IQR : ' + str(IQR))\n",
        "print('~'*20)\n",
        "print('Minimum : ' + str(Q1 - 1.5*IQR))\n",
        "print('Maximum : ' + str(Q3+1.5*IQR))"
      ]
    },
    {
      "cell_type": "code",
      "execution_count": 79,
      "metadata": {},
      "outputs": [
        {
          "data": {
            "text/plain": [
              "count    31119.000000\n",
              "mean         1.071660\n",
              "std         11.270278\n",
              "min        -83.000000\n",
              "25%         -3.000000\n",
              "50%          0.000000\n",
              "75%          2.000000\n",
              "max        297.000000\n",
              "Name: delay, dtype: float64"
            ]
          },
          "execution_count": 79,
          "metadata": {},
          "output_type": "execute_result"
        }
      ],
      "source": [
        "Y_train.delay.describe()"
      ]
    },
    {
      "cell_type": "code",
      "execution_count": 80,
      "metadata": {
        "colab": {
          "base_uri": "https://localhost:8080/",
          "height": 295
        },
        "id": "vsGxj2kCipCg",
        "outputId": "a8c6ed78-b21f-4e48-aa0b-7dc9e3049e65"
      },
      "outputs": [
        {
          "data": {
            "image/png": "[encoded data removed]",
            "text/plain": [
              "<Figure size 432x288 with 1 Axes>"
            ]
          },
          "metadata": {
            "needs_background": "light"
          },
          "output_type": "display_data"
        }
      ],
      "source": [
        "plt.hist(Y_train['delay'],bins=range(-100,300,59))\r\n",
        "plt.xlabel('delay')\r\n",
        "plt.title('Distribution of delay')\r\n",
        "plt.show()"
      ]
    },
    {
      "cell_type": "markdown",
      "metadata": {
        "id": "fwMIWCssyhK3"
      },
      "source": [
        "# Feature Engineering"
      ]
    },
    {
      "cell_type": "markdown",
      "metadata": {
        "id": "fRHKY5pkLihZ"
      },
      "source": [
        "## Baseline_create_date"
      ]
    },
    {
      "cell_type": "code",
      "execution_count": 81,
      "metadata": {
        "id": "KKwXxvE3oJRj"
      },
      "outputs": [],
      "source": [
        "# engineering the baseline_create_date using .dt\r\n",
        "X_train['baseline_create_date_month']      = X_train.baseline_create_date.dt.month   #extracting month from baseline_create_date\r\n",
        "X_train['baseline_create_date_quarter']    = X_train.baseline_create_date.dt.quarter  #extracting quarter from baseline_create_date\r\n",
        "X_train['baseline_create_date_dayofweek']  = X_train.baseline_create_date.dt.dayofweek  #extracting day from baseline_create_date\r\n",
        "X_train['baseline_create_date_isweekend']  = np.where(X_train['baseline_create_date_dayofweek'].isin([5, 6]),1,0)  #extracting weekends from baseline_create_date\r\n",
        "X_train.drop('baseline_create_date', axis=1, inplace=True)"
      ]
    },
    {
      "cell_type": "code",
      "execution_count": 82,
      "metadata": {
        "colab": {
          "base_uri": "https://localhost:8080/",
          "height": 243
        },
        "id": "Nh6oVB-X39uF",
        "outputId": "9d46ba9f-9284-4395-ebb7-924186160a79"
      },
      "outputs": [
        {
          "data": {
            "text/html": [
              "<div>\n",
              "<style scoped>\n",
              "    .dataframe tbody tr th:only-of-type {\n",
              "        vertical-align: middle;\n",
              "    }\n",
              "\n",
              "    .dataframe tbody tr th {\n",
              "        vertical-align: top;\n",
              "    }\n",
              "\n",
              "    .dataframe thead th {\n",
              "        text-align: right;\n",
              "    }\n",
              "</style>\n",
              "<table border=\"1\" class=\"dataframe\">\n",
              "  <thead>\n",
              "    <tr style=\"text-align: right;\">\n",
              "      <th></th>\n",
              "      <th>clear_date</th>\n",
              "      <th>cust_number</th>\n",
              "      <th>cust_payment_terms</th>\n",
              "      <th>document_create_date.1</th>\n",
              "      <th>due_in_date</th>\n",
              "      <th>name_customer</th>\n",
              "      <th>total_open_amount</th>\n",
              "      <th>baseline_create_date_month</th>\n",
              "      <th>baseline_create_date_quarter</th>\n",
              "      <th>baseline_create_date_dayofweek</th>\n",
              "      <th>baseline_create_date_isweekend</th>\n",
              "    </tr>\n",
              "  </thead>\n",
              "  <tbody>\n",
              "    <tr>\n",
              "      <th>0</th>\n",
              "      <td>2019-01-09</td>\n",
              "      <td>0200769623</td>\n",
              "      <td>NAH4</td>\n",
              "      <td>2018-12-30</td>\n",
              "      <td>2019-01-14</td>\n",
              "      <td>WAL-MAR foundation</td>\n",
              "      <td>16511</td>\n",
              "      <td>12</td>\n",
              "      <td>4</td>\n",
              "      <td>6</td>\n",
              "      <td>1</td>\n",
              "    </tr>\n",
              "    <tr>\n",
              "      <th>1</th>\n",
              "      <td>2019-01-14</td>\n",
              "      <td>0200707822</td>\n",
              "      <td>NAA8</td>\n",
              "      <td>2018-12-30</td>\n",
              "      <td>2019-01-14</td>\n",
              "      <td>PUBLI in</td>\n",
              "      <td>87305</td>\n",
              "      <td>12</td>\n",
              "      <td>4</td>\n",
              "      <td>6</td>\n",
              "      <td>1</td>\n",
              "    </tr>\n",
              "    <tr>\n",
              "      <th>2</th>\n",
              "      <td>2019-01-15</td>\n",
              "      <td>0200794332</td>\n",
              "      <td>NAAX</td>\n",
              "      <td>2018-12-30</td>\n",
              "      <td>2019-01-14</td>\n",
              "      <td>COST us</td>\n",
              "      <td>51473</td>\n",
              "      <td>12</td>\n",
              "      <td>4</td>\n",
              "      <td>6</td>\n",
              "      <td>1</td>\n",
              "    </tr>\n",
              "    <tr>\n",
              "      <th>3</th>\n",
              "      <td>2019-01-14</td>\n",
              "      <td>0200705372</td>\n",
              "      <td>NAA8</td>\n",
              "      <td>2018-12-30</td>\n",
              "      <td>2019-01-14</td>\n",
              "      <td>FR corp</td>\n",
              "      <td>11539</td>\n",
              "      <td>12</td>\n",
              "      <td>4</td>\n",
              "      <td>6</td>\n",
              "      <td>1</td>\n",
              "    </tr>\n",
              "    <tr>\n",
              "      <th>4</th>\n",
              "      <td>2019-01-22</td>\n",
              "      <td>0200744019</td>\n",
              "      <td>NAA8</td>\n",
              "      <td>2018-12-30</td>\n",
              "      <td>2019-01-14</td>\n",
              "      <td>TARG co</td>\n",
              "      <td>1372</td>\n",
              "      <td>12</td>\n",
              "      <td>4</td>\n",
              "      <td>6</td>\n",
              "      <td>1</td>\n",
              "    </tr>\n",
              "  </tbody>\n",
              "</table>\n",
              "</div>"
            ],
            "text/plain": [
              "  clear_date cust_number cust_payment_terms document_create_date.1  \\\n",
              "0 2019-01-09  0200769623               NAH4             2018-12-30   \n",
              "1 2019-01-14  0200707822               NAA8             2018-12-30   \n",
              "2 2019-01-15  0200794332               NAAX             2018-12-30   \n",
              "3 2019-01-14  0200705372               NAA8             2018-12-30   \n",
              "4 2019-01-22  0200744019               NAA8             2018-12-30   \n",
              "\n",
              "  due_in_date       name_customer  total_open_amount  \\\n",
              "0  2019-01-14  WAL-MAR foundation              16511   \n",
              "1  2019-01-14            PUBLI in              87305   \n",
              "2  2019-01-14             COST us              51473   \n",
              "3  2019-01-14             FR corp              11539   \n",
              "4  2019-01-14             TARG co               1372   \n",
              "\n",
              "   baseline_create_date_month  baseline_create_date_quarter  \\\n",
              "0                          12                             4   \n",
              "1                          12                             4   \n",
              "2                          12                             4   \n",
              "3                          12                             4   \n",
              "4                          12                             4   \n",
              "\n",
              "   baseline_create_date_dayofweek  baseline_create_date_isweekend  \n",
              "0                               6                               1  \n",
              "1                               6                               1  \n",
              "2                               6                               1  \n",
              "3                               6                               1  \n",
              "4                               6                               1  "
            ]
          },
          "execution_count": 82,
          "metadata": {},
          "output_type": "execute_result"
        }
      ],
      "source": [
        "X_train.head()"
      ]
    },
    {
      "cell_type": "markdown",
      "metadata": {
        "id": "dSYuy3YXLnL3"
      },
      "source": [
        "## Document_create_date.1"
      ]
    },
    {
      "cell_type": "code",
      "execution_count": 83,
      "metadata": {
        "id": "o6c3JGTw45uM"
      },
      "outputs": [],
      "source": [
        "# engineering the document_create_date.1 using .dt\r\n",
        "X_train['document_create_date.1_month'] = X_train['document_create_date.1'].dt.month   #extracting month from document_create_date\r\n",
        "X_train['document_create_date.1_quarter']  = X_train['document_create_date.1'].dt.quarter  #extracting quarter from document_create_date\r\n",
        "X_train['document_create_date.1_dayofweek']  = X_train['document_create_date.1'].dt.dayofweek  #extracting day from document_create_date\r\n",
        "X_train['document_create_date.1_isweekend']  = np.where(X_train['document_create_date.1_dayofweek'].isin([5, 6]),1,0)  #extracting weekends from document_create_date\r\n"
      ]
    },
    {
      "cell_type": "code",
      "execution_count": 84,
      "metadata": {
        "colab": {
          "base_uri": "https://localhost:8080/",
          "height": 243
        },
        "id": "L2DWYYJE5kAJ",
        "outputId": "930bf3fb-a754-441c-d85a-34f9ee0e3298"
      },
      "outputs": [
        {
          "data": {
            "text/html": [
              "<div>\n",
              "<style scoped>\n",
              "    .dataframe tbody tr th:only-of-type {\n",
              "        vertical-align: middle;\n",
              "    }\n",
              "\n",
              "    .dataframe tbody tr th {\n",
              "        vertical-align: top;\n",
              "    }\n",
              "\n",
              "    .dataframe thead th {\n",
              "        text-align: right;\n",
              "    }\n",
              "</style>\n",
              "<table border=\"1\" class=\"dataframe\">\n",
              "  <thead>\n",
              "    <tr style=\"text-align: right;\">\n",
              "      <th></th>\n",
              "      <th>clear_date</th>\n",
              "      <th>cust_number</th>\n",
              "      <th>cust_payment_terms</th>\n",
              "      <th>document_create_date.1</th>\n",
              "      <th>due_in_date</th>\n",
              "      <th>name_customer</th>\n",
              "      <th>total_open_amount</th>\n",
              "      <th>baseline_create_date_month</th>\n",
              "      <th>baseline_create_date_quarter</th>\n",
              "      <th>baseline_create_date_dayofweek</th>\n",
              "      <th>baseline_create_date_isweekend</th>\n",
              "      <th>document_create_date.1_month</th>\n",
              "      <th>document_create_date.1_quarter</th>\n",
              "      <th>document_create_date.1_dayofweek</th>\n",
              "      <th>document_create_date.1_isweekend</th>\n",
              "    </tr>\n",
              "  </thead>\n",
              "  <tbody>\n",
              "    <tr>\n",
              "      <th>0</th>\n",
              "      <td>2019-01-09</td>\n",
              "      <td>0200769623</td>\n",
              "      <td>NAH4</td>\n",
              "      <td>2018-12-30</td>\n",
              "      <td>2019-01-14</td>\n",
              "      <td>WAL-MAR foundation</td>\n",
              "      <td>16511</td>\n",
              "      <td>12</td>\n",
              "      <td>4</td>\n",
              "      <td>6</td>\n",
              "      <td>1</td>\n",
              "      <td>12</td>\n",
              "      <td>4</td>\n",
              "      <td>6</td>\n",
              "      <td>1</td>\n",
              "    </tr>\n",
              "    <tr>\n",
              "      <th>1</th>\n",
              "      <td>2019-01-14</td>\n",
              "      <td>0200707822</td>\n",
              "      <td>NAA8</td>\n",
              "      <td>2018-12-30</td>\n",
              "      <td>2019-01-14</td>\n",
              "      <td>PUBLI in</td>\n",
              "      <td>87305</td>\n",
              "      <td>12</td>\n",
              "      <td>4</td>\n",
              "      <td>6</td>\n",
              "      <td>1</td>\n",
              "      <td>12</td>\n",
              "      <td>4</td>\n",
              "      <td>6</td>\n",
              "      <td>1</td>\n",
              "    </tr>\n",
              "    <tr>\n",
              "      <th>2</th>\n",
              "      <td>2019-01-15</td>\n",
              "      <td>0200794332</td>\n",
              "      <td>NAAX</td>\n",
              "      <td>2018-12-30</td>\n",
              "      <td>2019-01-14</td>\n",
              "      <td>COST us</td>\n",
              "      <td>51473</td>\n",
              "      <td>12</td>\n",
              "      <td>4</td>\n",
              "      <td>6</td>\n",
              "      <td>1</td>\n",
              "      <td>12</td>\n",
              "      <td>4</td>\n",
              "      <td>6</td>\n",
              "      <td>1</td>\n",
              "    </tr>\n",
              "    <tr>\n",
              "      <th>3</th>\n",
              "      <td>2019-01-14</td>\n",
              "      <td>0200705372</td>\n",
              "      <td>NAA8</td>\n",
              "      <td>2018-12-30</td>\n",
              "      <td>2019-01-14</td>\n",
              "      <td>FR corp</td>\n",
              "      <td>11539</td>\n",
              "      <td>12</td>\n",
              "      <td>4</td>\n",
              "      <td>6</td>\n",
              "      <td>1</td>\n",
              "      <td>12</td>\n",
              "      <td>4</td>\n",
              "      <td>6</td>\n",
              "      <td>1</td>\n",
              "    </tr>\n",
              "    <tr>\n",
              "      <th>4</th>\n",
              "      <td>2019-01-22</td>\n",
              "      <td>0200744019</td>\n",
              "      <td>NAA8</td>\n",
              "      <td>2018-12-30</td>\n",
              "      <td>2019-01-14</td>\n",
              "      <td>TARG co</td>\n",
              "      <td>1372</td>\n",
              "      <td>12</td>\n",
              "      <td>4</td>\n",
              "      <td>6</td>\n",
              "      <td>1</td>\n",
              "      <td>12</td>\n",
              "      <td>4</td>\n",
              "      <td>6</td>\n",
              "      <td>1</td>\n",
              "    </tr>\n",
              "  </tbody>\n",
              "</table>\n",
              "</div>"
            ],
            "text/plain": [
              "  clear_date cust_number cust_payment_terms document_create_date.1  \\\n",
              "0 2019-01-09  0200769623               NAH4             2018-12-30   \n",
              "1 2019-01-14  0200707822               NAA8             2018-12-30   \n",
              "2 2019-01-15  0200794332               NAAX             2018-12-30   \n",
              "3 2019-01-14  0200705372               NAA8             2018-12-30   \n",
              "4 2019-01-22  0200744019               NAA8             2018-12-30   \n",
              "\n",
              "  due_in_date       name_customer  total_open_amount  \\\n",
              "0  2019-01-14  WAL-MAR foundation              16511   \n",
              "1  2019-01-14            PUBLI in              87305   \n",
              "2  2019-01-14             COST us              51473   \n",
              "3  2019-01-14             FR corp              11539   \n",
              "4  2019-01-14             TARG co               1372   \n",
              "\n",
              "   baseline_create_date_month  baseline_create_date_quarter  \\\n",
              "0                          12                             4   \n",
              "1                          12                             4   \n",
              "2                          12                             4   \n",
              "3                          12                             4   \n",
              "4                          12                             4   \n",
              "\n",
              "   baseline_create_date_dayofweek  baseline_create_date_isweekend  \\\n",
              "0                               6                               1   \n",
              "1                               6                               1   \n",
              "2                               6                               1   \n",
              "3                               6                               1   \n",
              "4                               6                               1   \n",
              "\n",
              "   document_create_date.1_month  document_create_date.1_quarter  \\\n",
              "0                            12                               4   \n",
              "1                            12                               4   \n",
              "2                            12                               4   \n",
              "3                            12                               4   \n",
              "4                            12                               4   \n",
              "\n",
              "   document_create_date.1_dayofweek  document_create_date.1_isweekend  \n",
              "0                                 6                                 1  \n",
              "1                                 6                                 1  \n",
              "2                                 6                                 1  \n",
              "3                                 6                                 1  \n",
              "4                                 6                                 1  "
            ]
          },
          "execution_count": 84,
          "metadata": {},
          "output_type": "execute_result"
        }
      ],
      "source": [
        "X_train.head()"
      ]
    },
    {
      "cell_type": "markdown",
      "metadata": {
        "id": "QeARLAAWiKAK"
      },
      "source": [
        "## Encoding Variables"
      ]
    },
    {
      "cell_type": "code",
      "execution_count": 85,
      "metadata": {
        "colab": {
          "base_uri": "https://localhost:8080/"
        },
        "id": "ABf11vTe6JmZ",
        "outputId": "506e2d88-d9e8-4bbf-ac3f-f52163e8c04b"
      },
      "outputs": [
        {
          "data": {
            "text/plain": [
              "3488"
            ]
          },
          "execution_count": 85,
          "metadata": {},
          "output_type": "execute_result"
        }
      ],
      "source": [
        "X_train['name_customer'].nunique()"
      ]
    },
    {
      "cell_type": "markdown",
      "metadata": {
        "id": "zRpDSIRc_dhf"
      },
      "source": [
        "#### We see that, out of 31780 rows 3488 name_customer are unique. We can put these names in a column"
      ]
    },
    {
      "cell_type": "code",
      "execution_count": 86,
      "metadata": {
        "colab": {
          "base_uri": "https://localhost:8080/"
        },
        "id": "ZTe-sQIz93Fu",
        "outputId": "ba1e89bf-359b-4550-aaa9-69494c09818e"
      },
      "outputs": [
        {
          "data": {
            "text/plain": [
              "WAL-MAR associates     694\n",
              "WAL-MAR systems        691\n",
              "WAL-MAR co             675\n",
              "WAL-MAR llc            669\n",
              "WAL-MAR corporation    667\n",
              "                      ... \n",
              "KEHE  llc                1\n",
              "POWE trust               1\n",
              "IRA HI corporation       1\n",
              "APPE corporation         1\n",
              "H.J. HEI foundation      1\n",
              "Name: name_customer, Length: 3488, dtype: int64"
            ]
          },
          "execution_count": 86,
          "metadata": {},
          "output_type": "execute_result"
        }
      ],
      "source": [
        "X_train['name_customer'].value_counts() "
      ]
    },
    {
      "cell_type": "code",
      "execution_count": 87,
      "metadata": {
        "colab": {
          "base_uri": "https://localhost:8080/"
        },
        "id": "huc4n9oT-N_f",
        "outputId": "16e5583b-3255-4870-e018-d1a69706c5da"
      },
      "outputs": [
        {
          "data": {
            "text/plain": [
              "False    1915\n",
              "True     1573\n",
              "Name: name_customer, dtype: int64"
            ]
          },
          "execution_count": 87,
          "metadata": {},
          "output_type": "execute_result"
        }
      ],
      "source": [
        "pd.Series(X_train['name_customer'].value_counts() < 2).value_counts()"
      ]
    },
    {
      "cell_type": "markdown",
      "metadata": {},
      "source": [
        " #### 1537 values are below 2"
      ]
    },
    {
      "cell_type": "code",
      "execution_count": 88,
      "metadata": {
        "colab": {
          "base_uri": "https://localhost:8080/"
        },
        "id": "bIktCdbaNdOb",
        "outputId": "5f46a0bd-072a-4839-959c-e05e9dd01f85"
      },
      "outputs": [
        {
          "data": {
            "text/plain": [
              "720"
            ]
          },
          "execution_count": 88,
          "metadata": {},
          "output_type": "execute_result"
        }
      ],
      "source": [
        "customer_labels = X_train['name_customer'].unique() #putting all the unique labels in customer_labels\n",
        "freq = X_train['name_customer'].value_counts()\n",
        "threshold = 0.01 * freq.max()\n",
        "customer_labels_final = [x for x in customer_labels if freq[x] > threshold]\n",
        "len(customer_labels_final)"
      ]
    },
    {
      "cell_type": "markdown",
      "metadata": {
        "id": "VWMwuGHEPDgt"
      },
      "source": [
        "#### By categorizing the labels with freq less than 0.01*max as others, the nunique value will change from 3488   to 660."
      ]
    },
    {
      "cell_type": "code",
      "execution_count": 89,
      "metadata": {
        "id": "HK_pJ2m3PjlH"
      },
      "outputs": [],
      "source": [
        "# changing the names of the customers for which the threshold is not met\r\n",
        "X_train['new_name_customer'] = pd.Series([x if x in customer_labels_final else 'others' for x in X_train['name_customer']])\r\n",
        "X_val1['new_name_customer'] = pd.Series([x if x in customer_labels_final else 'others' for x in X_val1['name_customer']])\r\n",
        "X_val2['new_name_customer'] = pd.Series([x if x in customer_labels_final else 'others' for x in X_val2['name_customer']])\r\n",
        "X_test['new_name_customer'] = pd.Series([x if x in customer_labels_final else 'others' for x in X_test['name_customer']])"
      ]
    },
    {
      "cell_type": "code",
      "execution_count": 90,
      "metadata": {
        "id": "3Ez8o5nuXMUx"
      },
      "outputs": [],
      "source": [
        "# encoding new_name_customer\n",
        "label_encoder = LabelEncoder()\n",
        "X_train['new_name_customer'] = label_encoder.fit_transform(X_train['new_name_customer'])\n",
        "X_val1['new_name_customer'] = label_encoder.transform(X_val1['new_name_customer'])\n",
        "X_val2['new_name_customer'] = label_encoder.transform(X_val2['new_name_customer'])\n",
        "X_test['new_name_customer'] = label_encoder.transform(X_test['new_name_customer'])"
      ]
    },
    {
      "cell_type": "code",
      "execution_count": 91,
      "metadata": {},
      "outputs": [
        {
          "data": {
            "text/html": [
              "<div>\n",
              "<style scoped>\n",
              "    .dataframe tbody tr th:only-of-type {\n",
              "        vertical-align: middle;\n",
              "    }\n",
              "\n",
              "    .dataframe tbody tr th {\n",
              "        vertical-align: top;\n",
              "    }\n",
              "\n",
              "    .dataframe thead th {\n",
              "        text-align: right;\n",
              "    }\n",
              "</style>\n",
              "<table border=\"1\" class=\"dataframe\">\n",
              "  <thead>\n",
              "    <tr style=\"text-align: right;\">\n",
              "      <th></th>\n",
              "      <th>clear_date</th>\n",
              "      <th>cust_number</th>\n",
              "      <th>cust_payment_terms</th>\n",
              "      <th>document_create_date.1</th>\n",
              "      <th>due_in_date</th>\n",
              "      <th>name_customer</th>\n",
              "      <th>total_open_amount</th>\n",
              "      <th>baseline_create_date_month</th>\n",
              "      <th>baseline_create_date_quarter</th>\n",
              "      <th>baseline_create_date_dayofweek</th>\n",
              "      <th>baseline_create_date_isweekend</th>\n",
              "      <th>document_create_date.1_month</th>\n",
              "      <th>document_create_date.1_quarter</th>\n",
              "      <th>document_create_date.1_dayofweek</th>\n",
              "      <th>document_create_date.1_isweekend</th>\n",
              "      <th>new_name_customer</th>\n",
              "    </tr>\n",
              "  </thead>\n",
              "  <tbody>\n",
              "    <tr>\n",
              "      <th>0</th>\n",
              "      <td>2019-01-09</td>\n",
              "      <td>0200769623</td>\n",
              "      <td>NAH4</td>\n",
              "      <td>2018-12-30</td>\n",
              "      <td>2019-01-14</td>\n",
              "      <td>WAL-MAR foundation</td>\n",
              "      <td>16511</td>\n",
              "      <td>12</td>\n",
              "      <td>4</td>\n",
              "      <td>6</td>\n",
              "      <td>1</td>\n",
              "      <td>12</td>\n",
              "      <td>4</td>\n",
              "      <td>6</td>\n",
              "      <td>1</td>\n",
              "      <td>694</td>\n",
              "    </tr>\n",
              "    <tr>\n",
              "      <th>1</th>\n",
              "      <td>2019-01-14</td>\n",
              "      <td>0200707822</td>\n",
              "      <td>NAA8</td>\n",
              "      <td>2018-12-30</td>\n",
              "      <td>2019-01-14</td>\n",
              "      <td>PUBLI in</td>\n",
              "      <td>87305</td>\n",
              "      <td>12</td>\n",
              "      <td>4</td>\n",
              "      <td>6</td>\n",
              "      <td>1</td>\n",
              "      <td>12</td>\n",
              "      <td>4</td>\n",
              "      <td>6</td>\n",
              "      <td>1</td>\n",
              "      <td>455</td>\n",
              "    </tr>\n",
              "    <tr>\n",
              "      <th>2</th>\n",
              "      <td>2019-01-15</td>\n",
              "      <td>0200794332</td>\n",
              "      <td>NAAX</td>\n",
              "      <td>2018-12-30</td>\n",
              "      <td>2019-01-14</td>\n",
              "      <td>COST us</td>\n",
              "      <td>51473</td>\n",
              "      <td>12</td>\n",
              "      <td>4</td>\n",
              "      <td>6</td>\n",
              "      <td>1</td>\n",
              "      <td>12</td>\n",
              "      <td>4</td>\n",
              "      <td>6</td>\n",
              "      <td>1</td>\n",
              "      <td>113</td>\n",
              "    </tr>\n",
              "    <tr>\n",
              "      <th>3</th>\n",
              "      <td>2019-01-14</td>\n",
              "      <td>0200705372</td>\n",
              "      <td>NAA8</td>\n",
              "      <td>2018-12-30</td>\n",
              "      <td>2019-01-14</td>\n",
              "      <td>FR corp</td>\n",
              "      <td>11539</td>\n",
              "      <td>12</td>\n",
              "      <td>4</td>\n",
              "      <td>6</td>\n",
              "      <td>1</td>\n",
              "      <td>12</td>\n",
              "      <td>4</td>\n",
              "      <td>6</td>\n",
              "      <td>1</td>\n",
              "      <td>190</td>\n",
              "    </tr>\n",
              "    <tr>\n",
              "      <th>4</th>\n",
              "      <td>2019-01-22</td>\n",
              "      <td>0200744019</td>\n",
              "      <td>NAA8</td>\n",
              "      <td>2018-12-30</td>\n",
              "      <td>2019-01-14</td>\n",
              "      <td>TARG co</td>\n",
              "      <td>1372</td>\n",
              "      <td>12</td>\n",
              "      <td>4</td>\n",
              "      <td>6</td>\n",
              "      <td>1</td>\n",
              "      <td>12</td>\n",
              "      <td>4</td>\n",
              "      <td>6</td>\n",
              "      <td>1</td>\n",
              "      <td>625</td>\n",
              "    </tr>\n",
              "  </tbody>\n",
              "</table>\n",
              "</div>"
            ],
            "text/plain": [
              "  clear_date cust_number cust_payment_terms document_create_date.1  \\\n",
              "0 2019-01-09  0200769623               NAH4             2018-12-30   \n",
              "1 2019-01-14  0200707822               NAA8             2018-12-30   \n",
              "2 2019-01-15  0200794332               NAAX             2018-12-30   \n",
              "3 2019-01-14  0200705372               NAA8             2018-12-30   \n",
              "4 2019-01-22  0200744019               NAA8             2018-12-30   \n",
              "\n",
              "  due_in_date       name_customer  total_open_amount  \\\n",
              "0  2019-01-14  WAL-MAR foundation              16511   \n",
              "1  2019-01-14            PUBLI in              87305   \n",
              "2  2019-01-14             COST us              51473   \n",
              "3  2019-01-14             FR corp              11539   \n",
              "4  2019-01-14             TARG co               1372   \n",
              "\n",
              "   baseline_create_date_month  baseline_create_date_quarter  \\\n",
              "0                          12                             4   \n",
              "1                          12                             4   \n",
              "2                          12                             4   \n",
              "3                          12                             4   \n",
              "4                          12                             4   \n",
              "\n",
              "   baseline_create_date_dayofweek  baseline_create_date_isweekend  \\\n",
              "0                               6                               1   \n",
              "1                               6                               1   \n",
              "2                               6                               1   \n",
              "3                               6                               1   \n",
              "4                               6                               1   \n",
              "\n",
              "   document_create_date.1_month  document_create_date.1_quarter  \\\n",
              "0                            12                               4   \n",
              "1                            12                               4   \n",
              "2                            12                               4   \n",
              "3                            12                               4   \n",
              "4                            12                               4   \n",
              "\n",
              "   document_create_date.1_dayofweek  document_create_date.1_isweekend  \\\n",
              "0                                 6                                 1   \n",
              "1                                 6                                 1   \n",
              "2                                 6                                 1   \n",
              "3                                 6                                 1   \n",
              "4                                 6                                 1   \n",
              "\n",
              "   new_name_customer  \n",
              "0                694  \n",
              "1                455  \n",
              "2                113  \n",
              "3                190  \n",
              "4                625  "
            ]
          },
          "execution_count": 91,
          "metadata": {},
          "output_type": "execute_result"
        }
      ],
      "source": [
        "X_train.head()"
      ]
    },
    {
      "cell_type": "code",
      "execution_count": 92,
      "metadata": {
        "colab": {
          "base_uri": "https://localhost:8080/"
        },
        "id": "T4qmdzVAcaWY",
        "outputId": "ccec14f0-e9ea-4d16-cb41-5ddd853bea0c"
      },
      "outputs": [
        {
          "data": {
            "text/plain": [
              "67"
            ]
          },
          "execution_count": 92,
          "metadata": {},
          "output_type": "execute_result"
        }
      ],
      "source": [
        "X_train.cust_payment_terms.nunique()"
      ]
    },
    {
      "cell_type": "code",
      "execution_count": 93,
      "metadata": {
        "colab": {
          "base_uri": "https://localhost:8080/"
        },
        "id": "fXt7yhqTcx1T",
        "outputId": "ee52f391-85fb-4b27-cfee-fcb74f534021"
      },
      "outputs": [
        {
          "data": {
            "text/plain": [
              "19"
            ]
          },
          "execution_count": 93,
          "metadata": {},
          "output_type": "execute_result"
        }
      ],
      "source": [
        "cust_payment_labels = X_train['cust_payment_terms'].unique() #putting all the unique labels in cust_payment_labels\n",
        "freq = X_train['cust_payment_terms'].value_counts()\n",
        "threshold = 0.01 * freq.max()\n",
        "cust_payment_terms_final = [x for x in cust_payment_labels if freq[x] > threshold]\n",
        "len(cust_payment_terms_final)"
      ]
    },
    {
      "cell_type": "markdown",
      "metadata": {},
      "source": [
        "#### By categorizing the labels with freq less than 0.01*max as others, the nunique value will change from 67 to 20."
      ]
    },
    {
      "cell_type": "code",
      "execution_count": 94,
      "metadata": {
        "id": "6tKj-MoNgs0B"
      },
      "outputs": [],
      "source": [
        "X_train['new_cust_payment_terms'] = pd.Series([x if x in cust_payment_terms_final else 'others' for x in X_train['cust_payment_terms']])\n",
        "X_val1['new_cust_payment_terms'] = pd.Series([x if x in cust_payment_terms_final else 'others' for x in X_val1['cust_payment_terms']])\n",
        "X_val2['new_cust_payment_terms'] = pd.Series([x if x in cust_payment_terms_final else 'others' for x in X_val2['cust_payment_terms']])\n",
        "X_test['new_cust_payment_terms'] = pd.Series([x if x in cust_payment_terms_final else 'others' for x in X_test['cust_payment_terms']])"
      ]
    },
    {
      "cell_type": "code",
      "execution_count": 95,
      "metadata": {
        "id": "RUYD3aVNhErN"
      },
      "outputs": [],
      "source": [
        "# encoding new_cust_payment_terms\n",
        "label_encoder = LabelEncoder()\n",
        "X_train['new_cust_payment_terms'] = label_encoder.fit_transform(X_train['new_cust_payment_terms'])\n",
        "X_val1['new_cust_payment_terms'] = label_encoder.transform(X_val1['new_cust_payment_terms'])\n",
        "X_val2['new_cust_payment_terms'] = label_encoder.transform(X_val2['new_cust_payment_terms'])\n",
        "X_test['new_cust_payment_terms'] = label_encoder.transform(X_test['new_cust_payment_terms'])"
      ]
    },
    {
      "cell_type": "code",
      "execution_count": 96,
      "metadata": {},
      "outputs": [
        {
          "data": {
            "text/html": [
              "<div>\n",
              "<style scoped>\n",
              "    .dataframe tbody tr th:only-of-type {\n",
              "        vertical-align: middle;\n",
              "    }\n",
              "\n",
              "    .dataframe tbody tr th {\n",
              "        vertical-align: top;\n",
              "    }\n",
              "\n",
              "    .dataframe thead th {\n",
              "        text-align: right;\n",
              "    }\n",
              "</style>\n",
              "<table border=\"1\" class=\"dataframe\">\n",
              "  <thead>\n",
              "    <tr style=\"text-align: right;\">\n",
              "      <th></th>\n",
              "      <th>clear_date</th>\n",
              "      <th>cust_number</th>\n",
              "      <th>cust_payment_terms</th>\n",
              "      <th>document_create_date.1</th>\n",
              "      <th>due_in_date</th>\n",
              "      <th>name_customer</th>\n",
              "      <th>total_open_amount</th>\n",
              "      <th>baseline_create_date_month</th>\n",
              "      <th>baseline_create_date_quarter</th>\n",
              "      <th>baseline_create_date_dayofweek</th>\n",
              "      <th>baseline_create_date_isweekend</th>\n",
              "      <th>document_create_date.1_month</th>\n",
              "      <th>document_create_date.1_quarter</th>\n",
              "      <th>document_create_date.1_dayofweek</th>\n",
              "      <th>document_create_date.1_isweekend</th>\n",
              "      <th>new_name_customer</th>\n",
              "      <th>new_cust_payment_terms</th>\n",
              "    </tr>\n",
              "  </thead>\n",
              "  <tbody>\n",
              "    <tr>\n",
              "      <th>0</th>\n",
              "      <td>2019-01-09</td>\n",
              "      <td>0200769623</td>\n",
              "      <td>NAH4</td>\n",
              "      <td>2018-12-30</td>\n",
              "      <td>2019-01-14</td>\n",
              "      <td>WAL-MAR foundation</td>\n",
              "      <td>16511</td>\n",
              "      <td>12</td>\n",
              "      <td>4</td>\n",
              "      <td>6</td>\n",
              "      <td>1</td>\n",
              "      <td>12</td>\n",
              "      <td>4</td>\n",
              "      <td>6</td>\n",
              "      <td>1</td>\n",
              "      <td>694</td>\n",
              "      <td>11</td>\n",
              "    </tr>\n",
              "    <tr>\n",
              "      <th>1</th>\n",
              "      <td>2019-01-14</td>\n",
              "      <td>0200707822</td>\n",
              "      <td>NAA8</td>\n",
              "      <td>2018-12-30</td>\n",
              "      <td>2019-01-14</td>\n",
              "      <td>PUBLI in</td>\n",
              "      <td>87305</td>\n",
              "      <td>12</td>\n",
              "      <td>4</td>\n",
              "      <td>6</td>\n",
              "      <td>1</td>\n",
              "      <td>12</td>\n",
              "      <td>4</td>\n",
              "      <td>6</td>\n",
              "      <td>1</td>\n",
              "      <td>455</td>\n",
              "      <td>3</td>\n",
              "    </tr>\n",
              "    <tr>\n",
              "      <th>2</th>\n",
              "      <td>2019-01-15</td>\n",
              "      <td>0200794332</td>\n",
              "      <td>NAAX</td>\n",
              "      <td>2018-12-30</td>\n",
              "      <td>2019-01-14</td>\n",
              "      <td>COST us</td>\n",
              "      <td>51473</td>\n",
              "      <td>12</td>\n",
              "      <td>4</td>\n",
              "      <td>6</td>\n",
              "      <td>1</td>\n",
              "      <td>12</td>\n",
              "      <td>4</td>\n",
              "      <td>6</td>\n",
              "      <td>1</td>\n",
              "      <td>113</td>\n",
              "      <td>5</td>\n",
              "    </tr>\n",
              "    <tr>\n",
              "      <th>3</th>\n",
              "      <td>2019-01-14</td>\n",
              "      <td>0200705372</td>\n",
              "      <td>NAA8</td>\n",
              "      <td>2018-12-30</td>\n",
              "      <td>2019-01-14</td>\n",
              "      <td>FR corp</td>\n",
              "      <td>11539</td>\n",
              "      <td>12</td>\n",
              "      <td>4</td>\n",
              "      <td>6</td>\n",
              "      <td>1</td>\n",
              "      <td>12</td>\n",
              "      <td>4</td>\n",
              "      <td>6</td>\n",
              "      <td>1</td>\n",
              "      <td>190</td>\n",
              "      <td>3</td>\n",
              "    </tr>\n",
              "    <tr>\n",
              "      <th>4</th>\n",
              "      <td>2019-01-22</td>\n",
              "      <td>0200744019</td>\n",
              "      <td>NAA8</td>\n",
              "      <td>2018-12-30</td>\n",
              "      <td>2019-01-14</td>\n",
              "      <td>TARG co</td>\n",
              "      <td>1372</td>\n",
              "      <td>12</td>\n",
              "      <td>4</td>\n",
              "      <td>6</td>\n",
              "      <td>1</td>\n",
              "      <td>12</td>\n",
              "      <td>4</td>\n",
              "      <td>6</td>\n",
              "      <td>1</td>\n",
              "      <td>625</td>\n",
              "      <td>3</td>\n",
              "    </tr>\n",
              "  </tbody>\n",
              "</table>\n",
              "</div>"
            ],
            "text/plain": [
              "  clear_date cust_number cust_payment_terms document_create_date.1  \\\n",
              "0 2019-01-09  0200769623               NAH4             2018-12-30   \n",
              "1 2019-01-14  0200707822               NAA8             2018-12-30   \n",
              "2 2019-01-15  0200794332               NAAX             2018-12-30   \n",
              "3 2019-01-14  0200705372               NAA8             2018-12-30   \n",
              "4 2019-01-22  0200744019               NAA8             2018-12-30   \n",
              "\n",
              "  due_in_date       name_customer  total_open_amount  \\\n",
              "0  2019-01-14  WAL-MAR foundation              16511   \n",
              "1  2019-01-14            PUBLI in              87305   \n",
              "2  2019-01-14             COST us              51473   \n",
              "3  2019-01-14             FR corp              11539   \n",
              "4  2019-01-14             TARG co               1372   \n",
              "\n",
              "   baseline_create_date_month  baseline_create_date_quarter  \\\n",
              "0                          12                             4   \n",
              "1                          12                             4   \n",
              "2                          12                             4   \n",
              "3                          12                             4   \n",
              "4                          12                             4   \n",
              "\n",
              "   baseline_create_date_dayofweek  baseline_create_date_isweekend  \\\n",
              "0                               6                               1   \n",
              "1                               6                               1   \n",
              "2                               6                               1   \n",
              "3                               6                               1   \n",
              "4                               6                               1   \n",
              "\n",
              "   document_create_date.1_month  document_create_date.1_quarter  \\\n",
              "0                            12                               4   \n",
              "1                            12                               4   \n",
              "2                            12                               4   \n",
              "3                            12                               4   \n",
              "4                            12                               4   \n",
              "\n",
              "   document_create_date.1_dayofweek  document_create_date.1_isweekend  \\\n",
              "0                                 6                                 1   \n",
              "1                                 6                                 1   \n",
              "2                                 6                                 1   \n",
              "3                                 6                                 1   \n",
              "4                                 6                                 1   \n",
              "\n",
              "   new_name_customer  new_cust_payment_terms  \n",
              "0                694                      11  \n",
              "1                455                       3  \n",
              "2                113                       5  \n",
              "3                190                       3  \n",
              "4                625                       3  "
            ]
          },
          "execution_count": 96,
          "metadata": {},
          "output_type": "execute_result"
        }
      ],
      "source": [
        "X_train.head()"
      ]
    },
    {
      "cell_type": "code",
      "execution_count": 98,
      "metadata": {
        "colab": {
          "base_uri": "https://localhost:8080/"
        },
        "id": "VMzc-4iLh_-k",
        "outputId": "6c7918b7-cc3d-4467-f2e5-0382b096a1be"
      },
      "outputs": [
        {
          "data": {
            "text/plain": [
              "1252"
            ]
          },
          "execution_count": 98,
          "metadata": {},
          "output_type": "execute_result"
        }
      ],
      "source": [
        "X_train.cust_number.nunique()"
      ]
    },
    {
      "cell_type": "code",
      "execution_count": 99,
      "metadata": {
        "colab": {
          "base_uri": "https://localhost:8080/"
        },
        "id": "H8mRSPHRihDp",
        "outputId": "0d9e55eb-c6b3-4382-cd46-987d00640bcd"
      },
      "outputs": [
        {
          "data": {
            "text/plain": [
              "72"
            ]
          },
          "execution_count": 99,
          "metadata": {},
          "output_type": "execute_result"
        }
      ],
      "source": [
        "cust_number_labels = X_train['cust_number'].unique() #putting all the unique labels in cust_number_labels\n",
        "freq = X_train['cust_number'].value_counts()\n",
        "threshold = 0.01 * freq.max()\n",
        "cust_number_final = [x for x in cust_number_labels if freq[x] > threshold]\n",
        "len(cust_number_final)"
      ]
    },
    {
      "cell_type": "markdown",
      "metadata": {},
      "source": [
        "#### By categorizing the labels with freq less than 0.01*max as others, the nunique value will change from 1252 to 72."
      ]
    },
    {
      "cell_type": "code",
      "execution_count": 100,
      "metadata": {
        "id": "sF-ebX0Qi2HP"
      },
      "outputs": [],
      "source": [
        "X_train['new_cust_number'] = pd.Series([x if x in cust_number_final else 'others' for x in X_train['cust_number']])\n",
        "X_val1['new_cust_number'] = pd.Series([x if x in cust_number_final else 'others' for x in X_val1['cust_number']])\n",
        "X_val2['new_cust_number'] = pd.Series([x if x in cust_number_final else 'others' for x in X_val2['cust_number']])\n",
        "X_test['new_cust_number'] = pd.Series([x if x in cust_number_final else 'others' for x in X_test['cust_number']])"
      ]
    },
    {
      "cell_type": "code",
      "execution_count": 101,
      "metadata": {
        "id": "lAd8kJI8j3W1"
      },
      "outputs": [],
      "source": [
        "# encoding new_cust_number\n",
        "label_encoder = LabelEncoder()\n",
        "X_train['new_cust_number'] = label_encoder.fit_transform(X_train['new_cust_number'])\n",
        "X_val1['new_cust_number'] = label_encoder.transform(X_val1['new_cust_number'])\n",
        "X_val2['new_cust_number'] = label_encoder.transform(X_val2['new_cust_number'])\n",
        "X_test['new_cust_number'] = label_encoder.transform(X_test['new_cust_number'])"
      ]
    },
    {
      "cell_type": "code",
      "execution_count": 102,
      "metadata": {},
      "outputs": [
        {
          "data": {
            "text/html": [
              "<div>\n",
              "<style scoped>\n",
              "    .dataframe tbody tr th:only-of-type {\n",
              "        vertical-align: middle;\n",
              "    }\n",
              "\n",
              "    .dataframe tbody tr th {\n",
              "        vertical-align: top;\n",
              "    }\n",
              "\n",
              "    .dataframe thead th {\n",
              "        text-align: right;\n",
              "    }\n",
              "</style>\n",
              "<table border=\"1\" class=\"dataframe\">\n",
              "  <thead>\n",
              "    <tr style=\"text-align: right;\">\n",
              "      <th></th>\n",
              "      <th>clear_date</th>\n",
              "      <th>cust_number</th>\n",
              "      <th>cust_payment_terms</th>\n",
              "      <th>document_create_date.1</th>\n",
              "      <th>due_in_date</th>\n",
              "      <th>name_customer</th>\n",
              "      <th>total_open_amount</th>\n",
              "      <th>baseline_create_date_month</th>\n",
              "      <th>baseline_create_date_quarter</th>\n",
              "      <th>baseline_create_date_dayofweek</th>\n",
              "      <th>baseline_create_date_isweekend</th>\n",
              "      <th>document_create_date.1_month</th>\n",
              "      <th>document_create_date.1_quarter</th>\n",
              "      <th>document_create_date.1_dayofweek</th>\n",
              "      <th>document_create_date.1_isweekend</th>\n",
              "      <th>new_name_customer</th>\n",
              "      <th>new_cust_payment_terms</th>\n",
              "      <th>new_cust_number</th>\n",
              "    </tr>\n",
              "  </thead>\n",
              "  <tbody>\n",
              "    <tr>\n",
              "      <th>0</th>\n",
              "      <td>2019-01-09</td>\n",
              "      <td>0200769623</td>\n",
              "      <td>NAH4</td>\n",
              "      <td>2018-12-30</td>\n",
              "      <td>2019-01-14</td>\n",
              "      <td>WAL-MAR foundation</td>\n",
              "      <td>16511</td>\n",
              "      <td>12</td>\n",
              "      <td>4</td>\n",
              "      <td>6</td>\n",
              "      <td>1</td>\n",
              "      <td>12</td>\n",
              "      <td>4</td>\n",
              "      <td>6</td>\n",
              "      <td>1</td>\n",
              "      <td>694</td>\n",
              "      <td>11</td>\n",
              "      <td>43</td>\n",
              "    </tr>\n",
              "    <tr>\n",
              "      <th>1</th>\n",
              "      <td>2019-01-14</td>\n",
              "      <td>0200707822</td>\n",
              "      <td>NAA8</td>\n",
              "      <td>2018-12-30</td>\n",
              "      <td>2019-01-14</td>\n",
              "      <td>PUBLI in</td>\n",
              "      <td>87305</td>\n",
              "      <td>12</td>\n",
              "      <td>4</td>\n",
              "      <td>6</td>\n",
              "      <td>1</td>\n",
              "      <td>12</td>\n",
              "      <td>4</td>\n",
              "      <td>6</td>\n",
              "      <td>1</td>\n",
              "      <td>455</td>\n",
              "      <td>3</td>\n",
              "      <td>28</td>\n",
              "    </tr>\n",
              "    <tr>\n",
              "      <th>2</th>\n",
              "      <td>2019-01-15</td>\n",
              "      <td>0200794332</td>\n",
              "      <td>NAAX</td>\n",
              "      <td>2018-12-30</td>\n",
              "      <td>2019-01-14</td>\n",
              "      <td>COST us</td>\n",
              "      <td>51473</td>\n",
              "      <td>12</td>\n",
              "      <td>4</td>\n",
              "      <td>6</td>\n",
              "      <td>1</td>\n",
              "      <td>12</td>\n",
              "      <td>4</td>\n",
              "      <td>6</td>\n",
              "      <td>1</td>\n",
              "      <td>113</td>\n",
              "      <td>5</td>\n",
              "      <td>58</td>\n",
              "    </tr>\n",
              "    <tr>\n",
              "      <th>3</th>\n",
              "      <td>2019-01-14</td>\n",
              "      <td>0200705372</td>\n",
              "      <td>NAA8</td>\n",
              "      <td>2018-12-30</td>\n",
              "      <td>2019-01-14</td>\n",
              "      <td>FR corp</td>\n",
              "      <td>11539</td>\n",
              "      <td>12</td>\n",
              "      <td>4</td>\n",
              "      <td>6</td>\n",
              "      <td>1</td>\n",
              "      <td>12</td>\n",
              "      <td>4</td>\n",
              "      <td>6</td>\n",
              "      <td>1</td>\n",
              "      <td>190</td>\n",
              "      <td>3</td>\n",
              "      <td>24</td>\n",
              "    </tr>\n",
              "    <tr>\n",
              "      <th>4</th>\n",
              "      <td>2019-01-22</td>\n",
              "      <td>0200744019</td>\n",
              "      <td>NAA8</td>\n",
              "      <td>2018-12-30</td>\n",
              "      <td>2019-01-14</td>\n",
              "      <td>TARG co</td>\n",
              "      <td>1372</td>\n",
              "      <td>12</td>\n",
              "      <td>4</td>\n",
              "      <td>6</td>\n",
              "      <td>1</td>\n",
              "      <td>12</td>\n",
              "      <td>4</td>\n",
              "      <td>6</td>\n",
              "      <td>1</td>\n",
              "      <td>625</td>\n",
              "      <td>3</td>\n",
              "      <td>35</td>\n",
              "    </tr>\n",
              "  </tbody>\n",
              "</table>\n",
              "</div>"
            ],
            "text/plain": [
              "  clear_date cust_number cust_payment_terms document_create_date.1  \\\n",
              "0 2019-01-09  0200769623               NAH4             2018-12-30   \n",
              "1 2019-01-14  0200707822               NAA8             2018-12-30   \n",
              "2 2019-01-15  0200794332               NAAX             2018-12-30   \n",
              "3 2019-01-14  0200705372               NAA8             2018-12-30   \n",
              "4 2019-01-22  0200744019               NAA8             2018-12-30   \n",
              "\n",
              "  due_in_date       name_customer  total_open_amount  \\\n",
              "0  2019-01-14  WAL-MAR foundation              16511   \n",
              "1  2019-01-14            PUBLI in              87305   \n",
              "2  2019-01-14             COST us              51473   \n",
              "3  2019-01-14             FR corp              11539   \n",
              "4  2019-01-14             TARG co               1372   \n",
              "\n",
              "   baseline_create_date_month  baseline_create_date_quarter  \\\n",
              "0                          12                             4   \n",
              "1                          12                             4   \n",
              "2                          12                             4   \n",
              "3                          12                             4   \n",
              "4                          12                             4   \n",
              "\n",
              "   baseline_create_date_dayofweek  baseline_create_date_isweekend  \\\n",
              "0                               6                               1   \n",
              "1                               6                               1   \n",
              "2                               6                               1   \n",
              "3                               6                               1   \n",
              "4                               6                               1   \n",
              "\n",
              "   document_create_date.1_month  document_create_date.1_quarter  \\\n",
              "0                            12                               4   \n",
              "1                            12                               4   \n",
              "2                            12                               4   \n",
              "3                            12                               4   \n",
              "4                            12                               4   \n",
              "\n",
              "   document_create_date.1_dayofweek  document_create_date.1_isweekend  \\\n",
              "0                                 6                                 1   \n",
              "1                                 6                                 1   \n",
              "2                                 6                                 1   \n",
              "3                                 6                                 1   \n",
              "4                                 6                                 1   \n",
              "\n",
              "   new_name_customer  new_cust_payment_terms  new_cust_number  \n",
              "0                694                      11               43  \n",
              "1                455                       3               28  \n",
              "2                113                       5               58  \n",
              "3                190                       3               24  \n",
              "4                625                       3               35  "
            ]
          },
          "execution_count": 102,
          "metadata": {},
          "output_type": "execute_result"
        }
      ],
      "source": [
        "X_train.head()"
      ]
    },
    {
      "cell_type": "markdown",
      "metadata": {
        "id": "vlFQl7A_k2uy"
      },
      "source": [
        "#### Now that we have encoded name_customer, cust_payment_terms and cust_number we can drop these columns."
      ]
    },
    {
      "cell_type": "code",
      "execution_count": 105,
      "metadata": {
        "id": "20gIcMJelG06"
      },
      "outputs": [
        {
          "ename": "KeyError",
          "evalue": "\"['name_customer' 'cust_payment_terms' 'cust_number'] not found in axis\"",
          "output_type": "error",
          "traceback": [
            "\u001b[1;31m---------------------------------------------------------------------------\u001b[0m",
            "\u001b[1;31mKeyError\u001b[0m                                  Traceback (most recent call last)",
            "\u001b[1;32m<ipython-input-105-92ba656d013c>\u001b[0m in \u001b[0;36m<module>\u001b[1;34m\u001b[0m\n\u001b[1;32m----> 1\u001b[1;33m \u001b[0mX_train\u001b[0m\u001b[1;33m.\u001b[0m\u001b[0mdrop\u001b[0m\u001b[1;33m(\u001b[0m\u001b[1;33m[\u001b[0m\u001b[1;34m'name_customer'\u001b[0m\u001b[1;33m,\u001b[0m\u001b[1;34m'cust_payment_terms'\u001b[0m\u001b[1;33m,\u001b[0m\u001b[1;34m'cust_number'\u001b[0m\u001b[1;33m]\u001b[0m\u001b[1;33m,\u001b[0m \u001b[0maxis\u001b[0m\u001b[1;33m=\u001b[0m\u001b[1;36m1\u001b[0m\u001b[1;33m,\u001b[0m \u001b[0minplace\u001b[0m\u001b[1;33m=\u001b[0m\u001b[1;32mTrue\u001b[0m\u001b[1;33m)\u001b[0m\u001b[1;33m\u001b[0m\u001b[1;33m\u001b[0m\u001b[0m\n\u001b[0m\u001b[0;32m      2\u001b[0m \u001b[0mX_val1\u001b[0m\u001b[1;33m.\u001b[0m\u001b[0mdrop\u001b[0m\u001b[1;33m(\u001b[0m\u001b[1;33m[\u001b[0m\u001b[1;34m'name_customer'\u001b[0m\u001b[1;33m,\u001b[0m\u001b[1;34m'cust_payment_terms'\u001b[0m\u001b[1;33m,\u001b[0m\u001b[1;34m'cust_number'\u001b[0m\u001b[1;33m]\u001b[0m\u001b[1;33m,\u001b[0m \u001b[0maxis\u001b[0m\u001b[1;33m=\u001b[0m\u001b[1;36m1\u001b[0m\u001b[1;33m,\u001b[0m \u001b[0minplace\u001b[0m\u001b[1;33m=\u001b[0m\u001b[1;32mTrue\u001b[0m\u001b[1;33m)\u001b[0m\u001b[1;33m\u001b[0m\u001b[1;33m\u001b[0m\u001b[0m\n\u001b[0;32m      3\u001b[0m \u001b[0mX_val2\u001b[0m\u001b[1;33m.\u001b[0m\u001b[0mdrop\u001b[0m\u001b[1;33m(\u001b[0m\u001b[1;33m[\u001b[0m\u001b[1;34m'name_customer'\u001b[0m\u001b[1;33m,\u001b[0m\u001b[1;34m'cust_payment_terms'\u001b[0m\u001b[1;33m,\u001b[0m\u001b[1;34m'cust_number'\u001b[0m\u001b[1;33m]\u001b[0m\u001b[1;33m,\u001b[0m \u001b[0maxis\u001b[0m\u001b[1;33m=\u001b[0m\u001b[1;36m1\u001b[0m\u001b[1;33m,\u001b[0m \u001b[0minplace\u001b[0m\u001b[1;33m=\u001b[0m\u001b[1;32mTrue\u001b[0m\u001b[1;33m)\u001b[0m\u001b[1;33m\u001b[0m\u001b[1;33m\u001b[0m\u001b[0m\n\u001b[0;32m      4\u001b[0m \u001b[0mX_test\u001b[0m\u001b[1;33m.\u001b[0m\u001b[0mdrop\u001b[0m\u001b[1;33m(\u001b[0m\u001b[1;33m[\u001b[0m\u001b[1;34m'name_customer'\u001b[0m\u001b[1;33m,\u001b[0m\u001b[1;34m'cust_payment_terms'\u001b[0m\u001b[1;33m,\u001b[0m\u001b[1;34m'cust_number'\u001b[0m\u001b[1;33m]\u001b[0m\u001b[1;33m,\u001b[0m \u001b[0maxis\u001b[0m\u001b[1;33m=\u001b[0m\u001b[1;36m1\u001b[0m\u001b[1;33m,\u001b[0m \u001b[0minplace\u001b[0m\u001b[1;33m=\u001b[0m\u001b[1;32mTrue\u001b[0m\u001b[1;33m)\u001b[0m\u001b[1;33m\u001b[0m\u001b[1;33m\u001b[0m\u001b[0m\n",
            "\u001b[1;32m~\\AppData\\Local\\Programs\\Python\\Python39\\lib\\site-packages\\pandas\\core\\frame.py\u001b[0m in \u001b[0;36mdrop\u001b[1;34m(self, labels, axis, index, columns, level, inplace, errors)\u001b[0m\n\u001b[0;32m   4303\u001b[0m                 \u001b[0mweight\u001b[0m  \u001b[1;36m1.0\u001b[0m     \u001b[1;36m0.8\u001b[0m\u001b[1;33m\u001b[0m\u001b[1;33m\u001b[0m\u001b[0m\n\u001b[0;32m   4304\u001b[0m         \"\"\"\n\u001b[1;32m-> 4305\u001b[1;33m         return super().drop(\n\u001b[0m\u001b[0;32m   4306\u001b[0m             \u001b[0mlabels\u001b[0m\u001b[1;33m=\u001b[0m\u001b[0mlabels\u001b[0m\u001b[1;33m,\u001b[0m\u001b[1;33m\u001b[0m\u001b[1;33m\u001b[0m\u001b[0m\n\u001b[0;32m   4307\u001b[0m             \u001b[0maxis\u001b[0m\u001b[1;33m=\u001b[0m\u001b[0maxis\u001b[0m\u001b[1;33m,\u001b[0m\u001b[1;33m\u001b[0m\u001b[1;33m\u001b[0m\u001b[0m\n",
            "\u001b[1;32m~\\AppData\\Local\\Programs\\Python\\Python39\\lib\\site-packages\\pandas\\core\\generic.py\u001b[0m in \u001b[0;36mdrop\u001b[1;34m(self, labels, axis, index, columns, level, inplace, errors)\u001b[0m\n\u001b[0;32m   4150\u001b[0m         \u001b[1;32mfor\u001b[0m \u001b[0maxis\u001b[0m\u001b[1;33m,\u001b[0m \u001b[0mlabels\u001b[0m \u001b[1;32min\u001b[0m \u001b[0maxes\u001b[0m\u001b[1;33m.\u001b[0m\u001b[0mitems\u001b[0m\u001b[1;33m(\u001b[0m\u001b[1;33m)\u001b[0m\u001b[1;33m:\u001b[0m\u001b[1;33m\u001b[0m\u001b[1;33m\u001b[0m\u001b[0m\n\u001b[0;32m   4151\u001b[0m             \u001b[1;32mif\u001b[0m \u001b[0mlabels\u001b[0m \u001b[1;32mis\u001b[0m \u001b[1;32mnot\u001b[0m \u001b[1;32mNone\u001b[0m\u001b[1;33m:\u001b[0m\u001b[1;33m\u001b[0m\u001b[1;33m\u001b[0m\u001b[0m\n\u001b[1;32m-> 4152\u001b[1;33m                 \u001b[0mobj\u001b[0m \u001b[1;33m=\u001b[0m \u001b[0mobj\u001b[0m\u001b[1;33m.\u001b[0m\u001b[0m_drop_axis\u001b[0m\u001b[1;33m(\u001b[0m\u001b[0mlabels\u001b[0m\u001b[1;33m,\u001b[0m \u001b[0maxis\u001b[0m\u001b[1;33m,\u001b[0m \u001b[0mlevel\u001b[0m\u001b[1;33m=\u001b[0m\u001b[0mlevel\u001b[0m\u001b[1;33m,\u001b[0m \u001b[0merrors\u001b[0m\u001b[1;33m=\u001b[0m\u001b[0merrors\u001b[0m\u001b[1;33m)\u001b[0m\u001b[1;33m\u001b[0m\u001b[1;33m\u001b[0m\u001b[0m\n\u001b[0m\u001b[0;32m   4153\u001b[0m \u001b[1;33m\u001b[0m\u001b[0m\n\u001b[0;32m   4154\u001b[0m         \u001b[1;32mif\u001b[0m \u001b[0minplace\u001b[0m\u001b[1;33m:\u001b[0m\u001b[1;33m\u001b[0m\u001b[1;33m\u001b[0m\u001b[0m\n",
            "\u001b[1;32m~\\AppData\\Local\\Programs\\Python\\Python39\\lib\\site-packages\\pandas\\core\\generic.py\u001b[0m in \u001b[0;36m_drop_axis\u001b[1;34m(self, labels, axis, level, errors)\u001b[0m\n\u001b[0;32m   4185\u001b[0m                 \u001b[0mnew_axis\u001b[0m \u001b[1;33m=\u001b[0m \u001b[0maxis\u001b[0m\u001b[1;33m.\u001b[0m\u001b[0mdrop\u001b[0m\u001b[1;33m(\u001b[0m\u001b[0mlabels\u001b[0m\u001b[1;33m,\u001b[0m \u001b[0mlevel\u001b[0m\u001b[1;33m=\u001b[0m\u001b[0mlevel\u001b[0m\u001b[1;33m,\u001b[0m \u001b[0merrors\u001b[0m\u001b[1;33m=\u001b[0m\u001b[0merrors\u001b[0m\u001b[1;33m)\u001b[0m\u001b[1;33m\u001b[0m\u001b[1;33m\u001b[0m\u001b[0m\n\u001b[0;32m   4186\u001b[0m             \u001b[1;32melse\u001b[0m\u001b[1;33m:\u001b[0m\u001b[1;33m\u001b[0m\u001b[1;33m\u001b[0m\u001b[0m\n\u001b[1;32m-> 4187\u001b[1;33m                 \u001b[0mnew_axis\u001b[0m \u001b[1;33m=\u001b[0m \u001b[0maxis\u001b[0m\u001b[1;33m.\u001b[0m\u001b[0mdrop\u001b[0m\u001b[1;33m(\u001b[0m\u001b[0mlabels\u001b[0m\u001b[1;33m,\u001b[0m \u001b[0merrors\u001b[0m\u001b[1;33m=\u001b[0m\u001b[0merrors\u001b[0m\u001b[1;33m)\u001b[0m\u001b[1;33m\u001b[0m\u001b[1;33m\u001b[0m\u001b[0m\n\u001b[0m\u001b[0;32m   4188\u001b[0m             \u001b[0mresult\u001b[0m \u001b[1;33m=\u001b[0m \u001b[0mself\u001b[0m\u001b[1;33m.\u001b[0m\u001b[0mreindex\u001b[0m\u001b[1;33m(\u001b[0m\u001b[1;33m**\u001b[0m\u001b[1;33m{\u001b[0m\u001b[0maxis_name\u001b[0m\u001b[1;33m:\u001b[0m \u001b[0mnew_axis\u001b[0m\u001b[1;33m}\u001b[0m\u001b[1;33m)\u001b[0m\u001b[1;33m\u001b[0m\u001b[1;33m\u001b[0m\u001b[0m\n\u001b[0;32m   4189\u001b[0m \u001b[1;33m\u001b[0m\u001b[0m\n",
            "\u001b[1;32m~\\AppData\\Local\\Programs\\Python\\Python39\\lib\\site-packages\\pandas\\core\\indexes\\base.py\u001b[0m in \u001b[0;36mdrop\u001b[1;34m(self, labels, errors)\u001b[0m\n\u001b[0;32m   5589\u001b[0m         \u001b[1;32mif\u001b[0m \u001b[0mmask\u001b[0m\u001b[1;33m.\u001b[0m\u001b[0many\u001b[0m\u001b[1;33m(\u001b[0m\u001b[1;33m)\u001b[0m\u001b[1;33m:\u001b[0m\u001b[1;33m\u001b[0m\u001b[1;33m\u001b[0m\u001b[0m\n\u001b[0;32m   5590\u001b[0m             \u001b[1;32mif\u001b[0m \u001b[0merrors\u001b[0m \u001b[1;33m!=\u001b[0m \u001b[1;34m\"ignore\"\u001b[0m\u001b[1;33m:\u001b[0m\u001b[1;33m\u001b[0m\u001b[1;33m\u001b[0m\u001b[0m\n\u001b[1;32m-> 5591\u001b[1;33m                 \u001b[1;32mraise\u001b[0m \u001b[0mKeyError\u001b[0m\u001b[1;33m(\u001b[0m\u001b[1;34mf\"{labels[mask]} not found in axis\"\u001b[0m\u001b[1;33m)\u001b[0m\u001b[1;33m\u001b[0m\u001b[1;33m\u001b[0m\u001b[0m\n\u001b[0m\u001b[0;32m   5592\u001b[0m             \u001b[0mindexer\u001b[0m \u001b[1;33m=\u001b[0m \u001b[0mindexer\u001b[0m\u001b[1;33m[\u001b[0m\u001b[1;33m~\u001b[0m\u001b[0mmask\u001b[0m\u001b[1;33m]\u001b[0m\u001b[1;33m\u001b[0m\u001b[1;33m\u001b[0m\u001b[0m\n\u001b[0;32m   5593\u001b[0m         \u001b[1;32mreturn\u001b[0m \u001b[0mself\u001b[0m\u001b[1;33m.\u001b[0m\u001b[0mdelete\u001b[0m\u001b[1;33m(\u001b[0m\u001b[0mindexer\u001b[0m\u001b[1;33m)\u001b[0m\u001b[1;33m\u001b[0m\u001b[1;33m\u001b[0m\u001b[0m\n",
            "\u001b[1;31mKeyError\u001b[0m: \"['name_customer' 'cust_payment_terms' 'cust_number'] not found in axis\""
          ]
        }
      ],
      "source": [
        "X_train.drop(['name_customer','cust_payment_terms','cust_number'], axis=1, inplace=True)\n",
        "X_val1.drop(['name_customer','cust_payment_terms','cust_number'], axis=1, inplace=True)\n",
        "X_val2.drop(['name_customer','cust_payment_terms','cust_number'], axis=1, inplace=True)\n",
        "X_test.drop(['name_customer','cust_payment_terms','cust_number'], axis=1, inplace=True)"
      ]
    },
    {
      "cell_type": "code",
      "execution_count": 106,
      "metadata": {
        "colab": {
          "base_uri": "https://localhost:8080/",
          "height": 226
        },
        "id": "cT-_peMmmCjA",
        "outputId": "2055e99e-8308-403f-f3b2-00f5d4c1f84d"
      },
      "outputs": [
        {
          "data": {
            "text/html": [
              "<div>\n",
              "<style scoped>\n",
              "    .dataframe tbody tr th:only-of-type {\n",
              "        vertical-align: middle;\n",
              "    }\n",
              "\n",
              "    .dataframe tbody tr th {\n",
              "        vertical-align: top;\n",
              "    }\n",
              "\n",
              "    .dataframe thead th {\n",
              "        text-align: right;\n",
              "    }\n",
              "</style>\n",
              "<table border=\"1\" class=\"dataframe\">\n",
              "  <thead>\n",
              "    <tr style=\"text-align: right;\">\n",
              "      <th></th>\n",
              "      <th>clear_date</th>\n",
              "      <th>document_create_date.1</th>\n",
              "      <th>due_in_date</th>\n",
              "      <th>total_open_amount</th>\n",
              "      <th>baseline_create_date_month</th>\n",
              "      <th>baseline_create_date_quarter</th>\n",
              "      <th>baseline_create_date_dayofweek</th>\n",
              "      <th>baseline_create_date_isweekend</th>\n",
              "      <th>document_create_date.1_month</th>\n",
              "      <th>document_create_date.1_quarter</th>\n",
              "      <th>document_create_date.1_dayofweek</th>\n",
              "      <th>document_create_date.1_isweekend</th>\n",
              "      <th>new_name_customer</th>\n",
              "      <th>new_cust_payment_terms</th>\n",
              "      <th>new_cust_number</th>\n",
              "    </tr>\n",
              "  </thead>\n",
              "  <tbody>\n",
              "    <tr>\n",
              "      <th>0</th>\n",
              "      <td>2019-01-09</td>\n",
              "      <td>2018-12-30</td>\n",
              "      <td>2019-01-14</td>\n",
              "      <td>16511</td>\n",
              "      <td>12</td>\n",
              "      <td>4</td>\n",
              "      <td>6</td>\n",
              "      <td>1</td>\n",
              "      <td>12</td>\n",
              "      <td>4</td>\n",
              "      <td>6</td>\n",
              "      <td>1</td>\n",
              "      <td>694</td>\n",
              "      <td>11</td>\n",
              "      <td>43</td>\n",
              "    </tr>\n",
              "    <tr>\n",
              "      <th>1</th>\n",
              "      <td>2019-01-14</td>\n",
              "      <td>2018-12-30</td>\n",
              "      <td>2019-01-14</td>\n",
              "      <td>87305</td>\n",
              "      <td>12</td>\n",
              "      <td>4</td>\n",
              "      <td>6</td>\n",
              "      <td>1</td>\n",
              "      <td>12</td>\n",
              "      <td>4</td>\n",
              "      <td>6</td>\n",
              "      <td>1</td>\n",
              "      <td>455</td>\n",
              "      <td>3</td>\n",
              "      <td>28</td>\n",
              "    </tr>\n",
              "    <tr>\n",
              "      <th>2</th>\n",
              "      <td>2019-01-15</td>\n",
              "      <td>2018-12-30</td>\n",
              "      <td>2019-01-14</td>\n",
              "      <td>51473</td>\n",
              "      <td>12</td>\n",
              "      <td>4</td>\n",
              "      <td>6</td>\n",
              "      <td>1</td>\n",
              "      <td>12</td>\n",
              "      <td>4</td>\n",
              "      <td>6</td>\n",
              "      <td>1</td>\n",
              "      <td>113</td>\n",
              "      <td>5</td>\n",
              "      <td>58</td>\n",
              "    </tr>\n",
              "    <tr>\n",
              "      <th>3</th>\n",
              "      <td>2019-01-14</td>\n",
              "      <td>2018-12-30</td>\n",
              "      <td>2019-01-14</td>\n",
              "      <td>11539</td>\n",
              "      <td>12</td>\n",
              "      <td>4</td>\n",
              "      <td>6</td>\n",
              "      <td>1</td>\n",
              "      <td>12</td>\n",
              "      <td>4</td>\n",
              "      <td>6</td>\n",
              "      <td>1</td>\n",
              "      <td>190</td>\n",
              "      <td>3</td>\n",
              "      <td>24</td>\n",
              "    </tr>\n",
              "    <tr>\n",
              "      <th>4</th>\n",
              "      <td>2019-01-22</td>\n",
              "      <td>2018-12-30</td>\n",
              "      <td>2019-01-14</td>\n",
              "      <td>1372</td>\n",
              "      <td>12</td>\n",
              "      <td>4</td>\n",
              "      <td>6</td>\n",
              "      <td>1</td>\n",
              "      <td>12</td>\n",
              "      <td>4</td>\n",
              "      <td>6</td>\n",
              "      <td>1</td>\n",
              "      <td>625</td>\n",
              "      <td>3</td>\n",
              "      <td>35</td>\n",
              "    </tr>\n",
              "  </tbody>\n",
              "</table>\n",
              "</div>"
            ],
            "text/plain": [
              "  clear_date document_create_date.1 due_in_date  total_open_amount  \\\n",
              "0 2019-01-09             2018-12-30  2019-01-14              16511   \n",
              "1 2019-01-14             2018-12-30  2019-01-14              87305   \n",
              "2 2019-01-15             2018-12-30  2019-01-14              51473   \n",
              "3 2019-01-14             2018-12-30  2019-01-14              11539   \n",
              "4 2019-01-22             2018-12-30  2019-01-14               1372   \n",
              "\n",
              "   baseline_create_date_month  baseline_create_date_quarter  \\\n",
              "0                          12                             4   \n",
              "1                          12                             4   \n",
              "2                          12                             4   \n",
              "3                          12                             4   \n",
              "4                          12                             4   \n",
              "\n",
              "   baseline_create_date_dayofweek  baseline_create_date_isweekend  \\\n",
              "0                               6                               1   \n",
              "1                               6                               1   \n",
              "2                               6                               1   \n",
              "3                               6                               1   \n",
              "4                               6                               1   \n",
              "\n",
              "   document_create_date.1_month  document_create_date.1_quarter  \\\n",
              "0                            12                               4   \n",
              "1                            12                               4   \n",
              "2                            12                               4   \n",
              "3                            12                               4   \n",
              "4                            12                               4   \n",
              "\n",
              "   document_create_date.1_dayofweek  document_create_date.1_isweekend  \\\n",
              "0                                 6                                 1   \n",
              "1                                 6                                 1   \n",
              "2                                 6                                 1   \n",
              "3                                 6                                 1   \n",
              "4                                 6                                 1   \n",
              "\n",
              "   new_name_customer  new_cust_payment_terms  new_cust_number  \n",
              "0                694                      11               43  \n",
              "1                455                       3               28  \n",
              "2                113                       5               58  \n",
              "3                190                       3               24  \n",
              "4                625                       3               35  "
            ]
          },
          "execution_count": 106,
          "metadata": {},
          "output_type": "execute_result"
        }
      ],
      "source": [
        "X_train.head()"
      ]
    },
    {
      "cell_type": "code",
      "execution_count": 107,
      "metadata": {
        "id": "7IVNHuxHssPI"
      },
      "outputs": [],
      "source": [
        "# delay = clear - due\n",
        "# +ve -> paid early\n",
        "# -ve -> late payment\n",
        "X_train['paid_early'] = np.where(Y_train['delay'] >= 0, 1,0)"
      ]
    },
    {
      "cell_type": "code",
      "execution_count": 108,
      "metadata": {
        "colab": {
          "base_uri": "https://localhost:8080/",
          "height": 1000
        },
        "id": "wqKA0SfR7b1V",
        "outputId": "ef6df462-7f16-42d7-a891-13af82cd28c5"
      },
      "outputs": [
        {
          "data": {
            "image/png": "[encoded data removed]",
            "text/plain": [
              "<Figure size 432x288 with 1 Axes>"
            ]
          },
          "metadata": {
            "needs_background": "light"
          },
          "output_type": "display_data"
        },
        {
          "data": {
            "image/png": "[encoded data removed]",
            "text/plain": [
              "<Figure size 432x288 with 1 Axes>"
            ]
          },
          "metadata": {
            "needs_background": "light"
          },
          "output_type": "display_data"
        },
        {
          "data": {
            "image/png": "[encoded data removed]",
            "text/plain": [
              "<Figure size 432x288 with 1 Axes>"
            ]
          },
          "metadata": {
            "needs_background": "light"
          },
          "output_type": "display_data"
        },
        {
          "data": {
            "image/png": "[encoded data removed]",
            "text/plain": [
              "<Figure size 432x288 with 1 Axes>"
            ]
          },
          "metadata": {
            "needs_background": "light"
          },
          "output_type": "display_data"
        },
        {
          "data": {
            "image/png": "[encoded data removed]",
            "text/plain": [
              "<Figure size 432x288 with 1 Axes>"
            ]
          },
          "metadata": {
            "needs_background": "light"
          },
          "output_type": "display_data"
        },
        {
          "data": {
            "image/png": "[encoded data removed]",
            "text/plain": [
              "<Figure size 432x288 with 1 Axes>"
            ]
          },
          "metadata": {
            "needs_background": "light"
          },
          "output_type": "display_data"
        },
        {
          "data": {
            "image/png": "[encoded data removed]",
            "text/plain": [
              "<Figure size 432x288 with 1 Axes>"
            ]
          },
          "metadata": {
            "needs_background": "light"
          },
          "output_type": "display_data"
        },
        {
          "data": {
            "image/png": "[encoded data removed]",
            "text/plain": [
              "<Figure size 432x288 with 1 Axes>"
            ]
          },
          "metadata": {
            "needs_background": "light"
          },
          "output_type": "display_data"
        },
        {
          "data": {
            "image/png": "[encoded data removed]",
            "text/plain": [
              "<Figure size 432x288 with 1 Axes>"
            ]
          },
          "metadata": {
            "needs_background": "light"
          },
          "output_type": "display_data"
        },
        {
          "data": {
            "image/png": "[encoded data removed]",
            "text/plain": [
              "<Figure size 432x288 with 1 Axes>"
            ]
          },
          "metadata": {
            "needs_background": "light"
          },
          "output_type": "display_data"
        },
        {
          "data": {
            "image/png": "[encoded data removed]",
            "text/plain": [
              "<Figure size 432x288 with 1 Axes>"
            ]
          },
          "metadata": {
            "needs_background": "light"
          },
          "output_type": "display_data"
        },
        {
          "data": {
            "image/png": "[encoded data removed]",
            "text/plain": [
              "<Figure size 432x288 with 1 Axes>"
            ]
          },
          "metadata": {
            "needs_background": "light"
          },
          "output_type": "display_data"
        },
        {
          "data": {
            "image/png": "[encoded data removed]",
            "text/plain": [
              "<Figure size 432x288 with 1 Axes>"
            ]
          },
          "metadata": {
            "needs_background": "light"
          },
          "output_type": "display_data"
        }
      ],
      "source": [
        "# boxplots of all the features\n",
        "for cols in X_train.iloc[ :  , 3: ]:\n",
        "  plt.figure()\n",
        "  plt.title(\"Distribution of \" + cols)\n",
        "  X_train.boxplot(cols)"
      ]
    },
    {
      "cell_type": "code",
      "execution_count": 109,
      "metadata": {
        "colab": {
          "base_uri": "https://localhost:8080/",
          "height": 1000
        },
        "id": "ySDolo3wxwbI",
        "outputId": "3ba16364-41b7-43f7-9adf-8fe12d77ad3d"
      },
      "outputs": [
        {
          "data": {
            "image/png": "[encoded data removed]",
            "text/plain": [
              "<Figure size 432x288 with 1 Axes>"
            ]
          },
          "metadata": {
            "needs_background": "light"
          },
          "output_type": "display_data"
        },
        {
          "data": {
            "image/png": "[encoded data removed]",
            "text/plain": [
              "<Figure size 432x288 with 1 Axes>"
            ]
          },
          "metadata": {
            "needs_background": "light"
          },
          "output_type": "display_data"
        },
        {
          "data": {
            "image/png": "[encoded data removed]",
            "text/plain": [
              "<Figure size 432x288 with 1 Axes>"
            ]
          },
          "metadata": {
            "needs_background": "light"
          },
          "output_type": "display_data"
        },
        {
          "data": {
            "image/png": "[encoded data removed]",
            "text/plain": [
              "<Figure size 432x288 with 1 Axes>"
            ]
          },
          "metadata": {
            "needs_background": "light"
          },
          "output_type": "display_data"
        },
        {
          "data": {
            "image/png": "[encoded data removed]",
            "text/plain": [
              "<Figure size 432x288 with 1 Axes>"
            ]
          },
          "metadata": {
            "needs_background": "light"
          },
          "output_type": "display_data"
        },
        {
          "data": {
            "image/png": "[encoded data removed]",
            "text/plain": [
              "<Figure size 432x288 with 1 Axes>"
            ]
          },
          "metadata": {
            "needs_background": "light"
          },
          "output_type": "display_data"
        },
        {
          "data": {
            "image/png": "[encoded data removed]",
            "text/plain": [
              "<Figure size 432x288 with 1 Axes>"
            ]
          },
          "metadata": {
            "needs_background": "light"
          },
          "output_type": "display_data"
        },
        {
          "data": {
            "image/png": "[encoded data removed]",
            "text/plain": [
              "<Figure size 432x288 with 1 Axes>"
            ]
          },
          "metadata": {
            "needs_background": "light"
          },
          "output_type": "display_data"
        },
        {
          "data": {
            "image/png": "[encoded data removed]",
            "text/plain": [
              "<Figure size 432x288 with 1 Axes>"
            ]
          },
          "metadata": {
            "needs_background": "light"
          },
          "output_type": "display_data"
        },
        {
          "data": {
            "image/png": "[encoded data removed]",
            "text/plain": [
              "<Figure size 432x288 with 1 Axes>"
            ]
          },
          "metadata": {
            "needs_background": "light"
          },
          "output_type": "display_data"
        },
        {
          "data": {
            "image/png": "[encoded data removed]",
            "text/plain": [
              "<Figure size 432x288 with 1 Axes>"
            ]
          },
          "metadata": {
            "needs_background": "light"
          },
          "output_type": "display_data"
        },
        {
          "data": {
            "image/png": "[encoded data removed]",
            "text/plain": [
              "<Figure size 432x288 with 1 Axes>"
            ]
          },
          "metadata": {
            "needs_background": "light"
          },
          "output_type": "display_data"
        },
        {
          "data": {
            "image/png": "[encoded data removed]",
            "text/plain": [
              "<Figure size 432x288 with 1 Axes>"
            ]
          },
          "metadata": {
            "needs_background": "light"
          },
          "output_type": "display_data"
        }
      ],
      "source": [
        "# histograms of all the features.\n",
        "for cols in X_train.iloc[ :  , 3: ]:\n",
        "  plt.hist(X_train[cols])\n",
        "  plt.xlabel(cols)\n",
        "  plt.title(\"Distribution of \" + cols)\n",
        "  plt.show()"
      ]
    },
    {
      "cell_type": "code",
      "execution_count": 111,
      "metadata": {
        "colab": {
          "base_uri": "https://localhost:8080/"
        },
        "id": "RXN741gODfTX",
        "outputId": "a0c01e77-bf97-4be5-df0a-ace70670521b"
      },
      "outputs": [
        {
          "data": {
            "text/plain": [
              "(31119, 16)"
            ]
          },
          "execution_count": 111,
          "metadata": {},
          "output_type": "execute_result"
        }
      ],
      "source": [
        "X_train.shape"
      ]
    },
    {
      "cell_type": "markdown",
      "metadata": {
        "id": "J7xZYmDHMLt7"
      },
      "source": [
        "#Feature Selection"
      ]
    },
    {
      "cell_type": "markdown",
      "metadata": {
        "id": "AclLn-pRMmA_"
      },
      "source": [
        "## Correlation "
      ]
    },
    {
      "cell_type": "code",
      "execution_count": 112,
      "metadata": {
        "colab": {
          "base_uri": "https://localhost:8080/",
          "height": 841
        },
        "id": "Tm8ortSzLmkU",
        "outputId": "d2e495ae-89c0-4663-b9a4-34bb3feeb0a7"
      },
      "outputs": [
        {
          "data": {
            "text/plain": [
              "<AxesSubplot:>"
            ]
          },
          "execution_count": 112,
          "metadata": {},
          "output_type": "execute_result"
        },
        {
          "data": {
            "image/png": "[encoded data removed]",
            "text/plain": [
              "<Figure size 792x792 with 2 Axes>"
            ]
          },
          "metadata": {
            "needs_background": "light"
          },
          "output_type": "display_data"
        }
      ],
      "source": [
        "# creating set to hold the correlated features\n",
        "corr_features = set()\n",
        "\n",
        "# create the correlation matrix (default to pearson)\n",
        "corr_matrix = X_train.corr()\n",
        "\n",
        "# optional: display a heatmap of the correlation matrix\n",
        "plt.figure(figsize=(11,11))\n",
        "sns.heatmap(corr_matrix, annot=True)\n",
        "\n"
      ]
    },
    {
      "cell_type": "markdown",
      "metadata": {
        "id": "p_WDqB0o6FCu"
      },
      "source": [
        "#### If two variables are highly correlated among themselves, they provide redundant information in regards to the target.  Essentially, we can make an accurate prediction on the target with just one of the redundant variables.\r\n",
        "\r\n",
        "#### In these case, the second variable doesn’t add additional information, so removing it can help reduce the dimensionality and also the added noise."
      ]
    },
    {
      "cell_type": "code",
      "execution_count": 113,
      "metadata": {
        "colab": {
          "base_uri": "https://localhost:8080/"
        },
        "id": "O0RSj8t36ezW",
        "outputId": "b4d70a3f-ae45-4437-ad3c-168afd634f63"
      },
      "outputs": [
        {
          "name": "stdout",
          "output_type": "stream",
          "text": [
            "{'baseline_create_date_quarter', 'document_create_date.1_dayofweek', 'document_create_date.1_month', 'document_create_date.1_quarter', 'document_create_date.1_isweekend'}\n"
          ]
        }
      ],
      "source": [
        "# selecting the columns with correlation greater than 0.90\n",
        "for i in range(len(corr_matrix .columns)):\n",
        "    for j in range(i):\n",
        "        if abs(corr_matrix.iloc[i, j]) > 0.90:\n",
        "            colname = corr_matrix.columns[i]\n",
        "            corr_features.add(colname)\n",
        "\n",
        "print(corr_features)\n",
        "X_train.drop(labels=corr_features, axis=1, inplace=True)"
      ]
    },
    {
      "cell_type": "code",
      "execution_count": 114,
      "metadata": {
        "colab": {
          "base_uri": "https://localhost:8080/",
          "height": 226
        },
        "id": "iWQtIcKi4NEV",
        "outputId": "6b0d1872-4eba-4bb1-9457-7eba400d9541"
      },
      "outputs": [
        {
          "data": {
            "text/html": [
              "<div>\n",
              "<style scoped>\n",
              "    .dataframe tbody tr th:only-of-type {\n",
              "        vertical-align: middle;\n",
              "    }\n",
              "\n",
              "    .dataframe tbody tr th {\n",
              "        vertical-align: top;\n",
              "    }\n",
              "\n",
              "    .dataframe thead th {\n",
              "        text-align: right;\n",
              "    }\n",
              "</style>\n",
              "<table border=\"1\" class=\"dataframe\">\n",
              "  <thead>\n",
              "    <tr style=\"text-align: right;\">\n",
              "      <th></th>\n",
              "      <th>clear_date</th>\n",
              "      <th>document_create_date.1</th>\n",
              "      <th>due_in_date</th>\n",
              "      <th>total_open_amount</th>\n",
              "      <th>baseline_create_date_month</th>\n",
              "      <th>baseline_create_date_dayofweek</th>\n",
              "      <th>baseline_create_date_isweekend</th>\n",
              "      <th>new_name_customer</th>\n",
              "      <th>new_cust_payment_terms</th>\n",
              "      <th>new_cust_number</th>\n",
              "      <th>paid_early</th>\n",
              "    </tr>\n",
              "  </thead>\n",
              "  <tbody>\n",
              "    <tr>\n",
              "      <th>0</th>\n",
              "      <td>2019-01-09</td>\n",
              "      <td>2018-12-30</td>\n",
              "      <td>2019-01-14</td>\n",
              "      <td>16511</td>\n",
              "      <td>12</td>\n",
              "      <td>6</td>\n",
              "      <td>1</td>\n",
              "      <td>694</td>\n",
              "      <td>11</td>\n",
              "      <td>43</td>\n",
              "      <td>0</td>\n",
              "    </tr>\n",
              "    <tr>\n",
              "      <th>1</th>\n",
              "      <td>2019-01-14</td>\n",
              "      <td>2018-12-30</td>\n",
              "      <td>2019-01-14</td>\n",
              "      <td>87305</td>\n",
              "      <td>12</td>\n",
              "      <td>6</td>\n",
              "      <td>1</td>\n",
              "      <td>455</td>\n",
              "      <td>3</td>\n",
              "      <td>28</td>\n",
              "      <td>1</td>\n",
              "    </tr>\n",
              "    <tr>\n",
              "      <th>2</th>\n",
              "      <td>2019-01-15</td>\n",
              "      <td>2018-12-30</td>\n",
              "      <td>2019-01-14</td>\n",
              "      <td>51473</td>\n",
              "      <td>12</td>\n",
              "      <td>6</td>\n",
              "      <td>1</td>\n",
              "      <td>113</td>\n",
              "      <td>5</td>\n",
              "      <td>58</td>\n",
              "      <td>1</td>\n",
              "    </tr>\n",
              "    <tr>\n",
              "      <th>3</th>\n",
              "      <td>2019-01-14</td>\n",
              "      <td>2018-12-30</td>\n",
              "      <td>2019-01-14</td>\n",
              "      <td>11539</td>\n",
              "      <td>12</td>\n",
              "      <td>6</td>\n",
              "      <td>1</td>\n",
              "      <td>190</td>\n",
              "      <td>3</td>\n",
              "      <td>24</td>\n",
              "      <td>1</td>\n",
              "    </tr>\n",
              "    <tr>\n",
              "      <th>4</th>\n",
              "      <td>2019-01-22</td>\n",
              "      <td>2018-12-30</td>\n",
              "      <td>2019-01-14</td>\n",
              "      <td>1372</td>\n",
              "      <td>12</td>\n",
              "      <td>6</td>\n",
              "      <td>1</td>\n",
              "      <td>625</td>\n",
              "      <td>3</td>\n",
              "      <td>35</td>\n",
              "      <td>1</td>\n",
              "    </tr>\n",
              "  </tbody>\n",
              "</table>\n",
              "</div>"
            ],
            "text/plain": [
              "  clear_date document_create_date.1 due_in_date  total_open_amount  \\\n",
              "0 2019-01-09             2018-12-30  2019-01-14              16511   \n",
              "1 2019-01-14             2018-12-30  2019-01-14              87305   \n",
              "2 2019-01-15             2018-12-30  2019-01-14              51473   \n",
              "3 2019-01-14             2018-12-30  2019-01-14              11539   \n",
              "4 2019-01-22             2018-12-30  2019-01-14               1372   \n",
              "\n",
              "   baseline_create_date_month  baseline_create_date_dayofweek  \\\n",
              "0                          12                               6   \n",
              "1                          12                               6   \n",
              "2                          12                               6   \n",
              "3                          12                               6   \n",
              "4                          12                               6   \n",
              "\n",
              "   baseline_create_date_isweekend  new_name_customer  new_cust_payment_terms  \\\n",
              "0                               1                694                      11   \n",
              "1                               1                455                       3   \n",
              "2                               1                113                       5   \n",
              "3                               1                190                       3   \n",
              "4                               1                625                       3   \n",
              "\n",
              "   new_cust_number  paid_early  \n",
              "0               43           0  \n",
              "1               28           1  \n",
              "2               58           1  \n",
              "3               24           1  \n",
              "4               35           1  "
            ]
          },
          "execution_count": 114,
          "metadata": {},
          "output_type": "execute_result"
        }
      ],
      "source": [
        "X_train.head()"
      ]
    },
    {
      "cell_type": "code",
      "execution_count": 115,
      "metadata": {
        "colab": {
          "base_uri": "https://localhost:8080/"
        },
        "id": "w8rJ9WsD_Imb",
        "outputId": "2fc0b517-c943-477b-8bd6-a982a17147f3"
      },
      "outputs": [
        {
          "data": {
            "text/plain": [
              "(31119, 11)"
            ]
          },
          "execution_count": 115,
          "metadata": {},
          "output_type": "execute_result"
        }
      ],
      "source": [
        "X_train.shape"
      ]
    },
    {
      "cell_type": "code",
      "execution_count": 116,
      "metadata": {
        "colab": {
          "base_uri": "https://localhost:8080/",
          "height": 823
        },
        "id": "OAI6DtRs_Qih",
        "outputId": "bc99a493-4e38-48e5-9afd-742fe8fe6856"
      },
      "outputs": [
        {
          "data": {
            "text/plain": [
              "<AxesSubplot:>"
            ]
          },
          "execution_count": 116,
          "metadata": {},
          "output_type": "execute_result"
        },
        {
          "data": {
            "image/png": "[encoded data removed]",
            "text/plain": [
              "<Figure size 792x792 with 2 Axes>"
            ]
          },
          "metadata": {
            "needs_background": "light"
          },
          "output_type": "display_data"
        }
      ],
      "source": [
        "# Heatmap after dropping the features with correlation greater than 0.90\n",
        "# creating set to hold the correlated features\n",
        "corr_features = set()\n",
        "\n",
        "# create the correlation matrix (default to pearson)\n",
        "corr_matrix = X_train.corr()\n",
        "\n",
        "# optional: display a heatmap of the correlation matrix\n",
        "plt.figure(figsize=(11,11))\n",
        "sns.heatmap(corr_matrix, annot=True)"
      ]
    },
    {
      "cell_type": "markdown",
      "metadata": {
        "id": "tK1NTCmQMwgu"
      },
      "source": [
        "## Random Forest"
      ]
    },
    {
      "cell_type": "markdown",
      "metadata": {
        "id": "AmQcK0izI8-E"
      },
      "source": [
        "#### When training a tree, feature importance is calculated as the decrease in node impurity weighted in a tree.  The higher the value, the more important the feature."
      ]
    },
    {
      "cell_type": "code",
      "execution_count": 117,
      "metadata": {
        "colab": {
          "base_uri": "https://localhost:8080/",
          "height": 447
        },
        "id": "OSHaNkzpJ0MI",
        "outputId": "6dc32304-ee50-4fc1-f6b9-3e0eaa8137ca"
      },
      "outputs": [
        {
          "name": "stdout",
          "output_type": "stream",
          "text": [
            "                         Features  Importances\n",
            "3  baseline_create_date_isweekend     0.019404\n",
            "6                 new_cust_number     0.071606\n",
            "5          new_cust_payment_terms     0.088864\n",
            "7                      paid_early     0.089857\n",
            "1      baseline_create_date_month     0.131034\n",
            "2  baseline_create_date_dayofweek     0.142375\n",
            "4               new_name_customer     0.170351\n",
            "0               total_open_amount     0.286509\n"
          ]
        },
        {
          "data": {
            "text/plain": [
              "<AxesSubplot:ylabel='Features'>"
            ]
          },
          "execution_count": 117,
          "metadata": {},
          "output_type": "execute_result"
        },
        {
          "data": {
            "image/png": "[encoded data removed]",
            "text/plain": [
              "<Figure size 432x288 with 1 Axes>"
            ]
          },
          "metadata": {
            "needs_background": "light"
          },
          "output_type": "display_data"
        }
      ],
      "source": [
        "X_train_random_forest = X_train.iloc[ : , 3:]\r\n",
        "from sklearn.ensemble import RandomForestClassifier\r\n",
        "\r\n",
        "# create the random forest with your hyperparameters.\r\n",
        "model = RandomForestClassifier()\r\n",
        "\r\n",
        "# fit the model to start training.\r\n",
        "model.fit(X_train_random_forest, Y_train)\r\n",
        "\r\n",
        "# get the importance of the resulting features.\r\n",
        "importances = model.feature_importances_\r\n",
        "\r\n",
        "# create a data frame for visualization.\r\n",
        "final_df = pd.DataFrame({\"Features\": X_train_random_forest.columns, \"Importances\":importances})\r\n",
        "final_df.set_index('Importances')\r\n",
        "\r\n",
        "# sort in ascending order to better visualization.\r\n",
        "final_df = final_df.sort_values('Importances')\r\n",
        "print(final_df)\r\n",
        "\r\n",
        "# plot the feature importances in bars.\r\n",
        "final_df.plot.barh(x='Features')"
      ]
    },
    {
      "cell_type": "code",
      "execution_count": 118,
      "metadata": {
        "colab": {
          "base_uri": "https://localhost:8080/"
        },
        "id": "yVrJhEpncscp",
        "outputId": "b4b9df4d-2eb9-463c-8b9d-67441635e706"
      },
      "outputs": [
        {
          "name": "stdout",
          "output_type": "stream",
          "text": [
            "(31119, 11)\n",
            "(4328, 9)\n",
            "(3697, 9)\n",
            "(9702, 9)\n"
          ]
        }
      ],
      "source": [
        "print(X_train.shape)\n",
        "print(X_val1.shape)\n",
        "print(X_val2.shape)\n",
        "print(X_test.shape)"
      ]
    },
    {
      "cell_type": "code",
      "execution_count": 119,
      "metadata": {
        "colab": {
          "base_uri": "https://localhost:8080/"
        },
        "id": "AYoeti8Uc2zR",
        "outputId": "7466c939-91bb-4ce3-9b5c-dd73159d09b2"
      },
      "outputs": [
        {
          "name": "stdout",
          "output_type": "stream",
          "text": [
            "Index(['clear_date', 'document_create_date.1', 'due_in_date',\n",
            "       'total_open_amount', 'baseline_create_date_month',\n",
            "       'baseline_create_date_dayofweek', 'baseline_create_date_isweekend',\n",
            "       'new_name_customer', 'new_cust_payment_terms', 'new_cust_number',\n",
            "       'paid_early'],\n",
            "      dtype='object')\n",
            "~~~~~~~~~~~~~~~~~~~~~~~~~~~~~~~~~~~~~~~~~~~~~~~~~~\n",
            "Index(['baseline_create_date', 'clear_date', 'doc_id',\n",
            "       'document_create_date.1', 'due_in_date', 'total_open_amount',\n",
            "       'new_name_customer', 'new_cust_payment_terms', 'new_cust_number'],\n",
            "      dtype='object')\n",
            "~~~~~~~~~~~~~~~~~~~~~~~~~~~~~~~~~~~~~~~~~~~~~~~~~~\n",
            "Index(['baseline_create_date', 'clear_date', 'doc_id',\n",
            "       'document_create_date.1', 'due_in_date', 'total_open_amount',\n",
            "       'new_name_customer', 'new_cust_payment_terms', 'new_cust_number'],\n",
            "      dtype='object')\n",
            "~~~~~~~~~~~~~~~~~~~~~~~~~~~~~~~~~~~~~~~~~~~~~~~~~~\n",
            "Index(['baseline_create_date', 'clear_date', 'doc_id',\n",
            "       'document_create_date.1', 'due_in_date', 'total_open_amount',\n",
            "       'new_name_customer', 'new_cust_payment_terms', 'new_cust_number'],\n",
            "      dtype='object')\n"
          ]
        }
      ],
      "source": [
        "print(X_train.columns)\n",
        "print('~'*50)\n",
        "print(X_val1.columns)\n",
        "print(\"~\"*50)\n",
        "print(X_val2.columns)\n",
        "print(\"~\"*50)\n",
        "print(X_test.columns)"
      ]
    },
    {
      "cell_type": "code",
      "execution_count": 120,
      "metadata": {
        "colab": {
          "base_uri": "https://localhost:8080/",
          "height": 424
        },
        "id": "6BxBeQYNec09",
        "outputId": "a8f2ef06-7af4-482e-82d2-2366fe7e48db"
      },
      "outputs": [
        {
          "data": {
            "text/html": [
              "<div>\n",
              "<style scoped>\n",
              "    .dataframe tbody tr th:only-of-type {\n",
              "        vertical-align: middle;\n",
              "    }\n",
              "\n",
              "    .dataframe tbody tr th {\n",
              "        vertical-align: top;\n",
              "    }\n",
              "\n",
              "    .dataframe thead th {\n",
              "        text-align: right;\n",
              "    }\n",
              "</style>\n",
              "<table border=\"1\" class=\"dataframe\">\n",
              "  <thead>\n",
              "    <tr style=\"text-align: right;\">\n",
              "      <th></th>\n",
              "      <th>total_open_amount</th>\n",
              "      <th>new_name_customer</th>\n",
              "      <th>baseline_create_date_dayofweek</th>\n",
              "      <th>baseline_create_date_month</th>\n",
              "    </tr>\n",
              "  </thead>\n",
              "  <tbody>\n",
              "    <tr>\n",
              "      <th>0</th>\n",
              "      <td>16511</td>\n",
              "      <td>694</td>\n",
              "      <td>6</td>\n",
              "      <td>12</td>\n",
              "    </tr>\n",
              "    <tr>\n",
              "      <th>1</th>\n",
              "      <td>87305</td>\n",
              "      <td>455</td>\n",
              "      <td>6</td>\n",
              "      <td>12</td>\n",
              "    </tr>\n",
              "    <tr>\n",
              "      <th>2</th>\n",
              "      <td>51473</td>\n",
              "      <td>113</td>\n",
              "      <td>6</td>\n",
              "      <td>12</td>\n",
              "    </tr>\n",
              "    <tr>\n",
              "      <th>3</th>\n",
              "      <td>11539</td>\n",
              "      <td>190</td>\n",
              "      <td>6</td>\n",
              "      <td>12</td>\n",
              "    </tr>\n",
              "    <tr>\n",
              "      <th>4</th>\n",
              "      <td>1372</td>\n",
              "      <td>625</td>\n",
              "      <td>6</td>\n",
              "      <td>12</td>\n",
              "    </tr>\n",
              "    <tr>\n",
              "      <th>...</th>\n",
              "      <td>...</td>\n",
              "      <td>...</td>\n",
              "      <td>...</td>\n",
              "      <td>...</td>\n",
              "    </tr>\n",
              "    <tr>\n",
              "      <th>31114</th>\n",
              "      <td>94225</td>\n",
              "      <td>720</td>\n",
              "      <td>4</td>\n",
              "      <td>11</td>\n",
              "    </tr>\n",
              "    <tr>\n",
              "      <th>31115</th>\n",
              "      <td>24933</td>\n",
              "      <td>495</td>\n",
              "      <td>4</td>\n",
              "      <td>11</td>\n",
              "    </tr>\n",
              "    <tr>\n",
              "      <th>31116</th>\n",
              "      <td>78385</td>\n",
              "      <td>456</td>\n",
              "      <td>4</td>\n",
              "      <td>11</td>\n",
              "    </tr>\n",
              "    <tr>\n",
              "      <th>31117</th>\n",
              "      <td>17386</td>\n",
              "      <td>346</td>\n",
              "      <td>5</td>\n",
              "      <td>11</td>\n",
              "    </tr>\n",
              "    <tr>\n",
              "      <th>31118</th>\n",
              "      <td>18845</td>\n",
              "      <td>699</td>\n",
              "      <td>4</td>\n",
              "      <td>11</td>\n",
              "    </tr>\n",
              "  </tbody>\n",
              "</table>\n",
              "<p>31119 rows × 4 columns</p>\n",
              "</div>"
            ],
            "text/plain": [
              "       total_open_amount  new_name_customer  baseline_create_date_dayofweek  \\\n",
              "0                  16511                694                               6   \n",
              "1                  87305                455                               6   \n",
              "2                  51473                113                               6   \n",
              "3                  11539                190                               6   \n",
              "4                   1372                625                               6   \n",
              "...                  ...                ...                             ...   \n",
              "31114              94225                720                               4   \n",
              "31115              24933                495                               4   \n",
              "31116              78385                456                               4   \n",
              "31117              17386                346                               5   \n",
              "31118              18845                699                               4   \n",
              "\n",
              "       baseline_create_date_month  \n",
              "0                              12  \n",
              "1                              12  \n",
              "2                              12  \n",
              "3                              12  \n",
              "4                              12  \n",
              "...                           ...  \n",
              "31114                          11  \n",
              "31115                          11  \n",
              "31116                          11  \n",
              "31117                          11  \n",
              "31118                          11  \n",
              "\n",
              "[31119 rows x 4 columns]"
            ]
          },
          "execution_count": 120,
          "metadata": {},
          "output_type": "execute_result"
        }
      ],
      "source": [
        "#Selecting the features with importances greater than 0.1\n",
        "X_train_new = X_train[['total_open_amount', 'new_name_customer', 'baseline_create_date_dayofweek', 'baseline_create_date_month']]\n",
        "X_train_new"
      ]
    },
    {
      "cell_type": "code",
      "execution_count": 121,
      "metadata": {
        "colab": {
          "base_uri": "https://localhost:8080/",
          "height": 444
        },
        "id": "s1-M4OicgaTk",
        "outputId": "6a3a6bfa-6fc4-4671-cec8-84b9007e41c9"
      },
      "outputs": [
        {
          "data": {
            "text/html": [
              "<div>\n",
              "<style scoped>\n",
              "    .dataframe tbody tr th:only-of-type {\n",
              "        vertical-align: middle;\n",
              "    }\n",
              "\n",
              "    .dataframe tbody tr th {\n",
              "        vertical-align: top;\n",
              "    }\n",
              "\n",
              "    .dataframe thead th {\n",
              "        text-align: right;\n",
              "    }\n",
              "</style>\n",
              "<table border=\"1\" class=\"dataframe\">\n",
              "  <thead>\n",
              "    <tr style=\"text-align: right;\">\n",
              "      <th></th>\n",
              "      <th>baseline_create_date</th>\n",
              "      <th>clear_date</th>\n",
              "      <th>doc_id</th>\n",
              "      <th>document_create_date.1</th>\n",
              "      <th>due_in_date</th>\n",
              "      <th>total_open_amount</th>\n",
              "      <th>new_name_customer</th>\n",
              "      <th>new_cust_payment_terms</th>\n",
              "      <th>new_cust_number</th>\n",
              "    </tr>\n",
              "  </thead>\n",
              "  <tbody>\n",
              "    <tr>\n",
              "      <th>0</th>\n",
              "      <td>2019-11-16</td>\n",
              "      <td>2019-11-26</td>\n",
              "      <td>1.930154e+09</td>\n",
              "      <td>2019-11-16</td>\n",
              "      <td>2019-12-01</td>\n",
              "      <td>16103.50</td>\n",
              "      <td>699</td>\n",
              "      <td>11</td>\n",
              "      <td>43</td>\n",
              "    </tr>\n",
              "    <tr>\n",
              "      <th>1</th>\n",
              "      <td>2019-11-16</td>\n",
              "      <td>2019-11-29</td>\n",
              "      <td>1.930158e+09</td>\n",
              "      <td>2019-11-16</td>\n",
              "      <td>2019-12-01</td>\n",
              "      <td>8868.50</td>\n",
              "      <td>720</td>\n",
              "      <td>3</td>\n",
              "      <td>72</td>\n",
              "    </tr>\n",
              "    <tr>\n",
              "      <th>2</th>\n",
              "      <td>2019-11-21</td>\n",
              "      <td>2019-11-25</td>\n",
              "      <td>2.960593e+09</td>\n",
              "      <td>2019-11-16</td>\n",
              "      <td>2019-12-01</td>\n",
              "      <td>29542.58</td>\n",
              "      <td>349</td>\n",
              "      <td>0</td>\n",
              "      <td>3</td>\n",
              "    </tr>\n",
              "    <tr>\n",
              "      <th>3</th>\n",
              "      <td>2019-11-26</td>\n",
              "      <td>2019-12-17</td>\n",
              "      <td>2.960591e+09</td>\n",
              "      <td>2019-11-16</td>\n",
              "      <td>2019-12-06</td>\n",
              "      <td>67401.52</td>\n",
              "      <td>720</td>\n",
              "      <td>0</td>\n",
              "      <td>72</td>\n",
              "    </tr>\n",
              "    <tr>\n",
              "      <th>4</th>\n",
              "      <td>2019-11-16</td>\n",
              "      <td>2019-11-27</td>\n",
              "      <td>1.930161e+09</td>\n",
              "      <td>2019-11-16</td>\n",
              "      <td>2019-12-01</td>\n",
              "      <td>378.67</td>\n",
              "      <td>689</td>\n",
              "      <td>11</td>\n",
              "      <td>43</td>\n",
              "    </tr>\n",
              "    <tr>\n",
              "      <th>...</th>\n",
              "      <td>...</td>\n",
              "      <td>...</td>\n",
              "      <td>...</td>\n",
              "      <td>...</td>\n",
              "      <td>...</td>\n",
              "      <td>...</td>\n",
              "      <td>...</td>\n",
              "      <td>...</td>\n",
              "      <td>...</td>\n",
              "    </tr>\n",
              "    <tr>\n",
              "      <th>4323</th>\n",
              "      <td>2020-01-15</td>\n",
              "      <td>2020-01-29</td>\n",
              "      <td>1.930400e+09</td>\n",
              "      <td>2020-01-15</td>\n",
              "      <td>2020-01-30</td>\n",
              "      <td>17605.87</td>\n",
              "      <td>720</td>\n",
              "      <td>3</td>\n",
              "      <td>72</td>\n",
              "    </tr>\n",
              "    <tr>\n",
              "      <th>4324</th>\n",
              "      <td>2020-01-15</td>\n",
              "      <td>2020-01-30</td>\n",
              "      <td>1.930396e+09</td>\n",
              "      <td>2020-01-15</td>\n",
              "      <td>2020-01-30</td>\n",
              "      <td>135083.60</td>\n",
              "      <td>396</td>\n",
              "      <td>3</td>\n",
              "      <td>49</td>\n",
              "    </tr>\n",
              "    <tr>\n",
              "      <th>4325</th>\n",
              "      <td>2020-01-15</td>\n",
              "      <td>2020-01-28</td>\n",
              "      <td>1.930401e+09</td>\n",
              "      <td>2020-01-15</td>\n",
              "      <td>2020-01-30</td>\n",
              "      <td>2710.56</td>\n",
              "      <td>692</td>\n",
              "      <td>11</td>\n",
              "      <td>43</td>\n",
              "    </tr>\n",
              "    <tr>\n",
              "      <th>4326</th>\n",
              "      <td>2020-01-15</td>\n",
              "      <td>2020-01-30</td>\n",
              "      <td>1.930401e+09</td>\n",
              "      <td>2020-01-15</td>\n",
              "      <td>2020-01-22</td>\n",
              "      <td>74039.90</td>\n",
              "      <td>720</td>\n",
              "      <td>19</td>\n",
              "      <td>72</td>\n",
              "    </tr>\n",
              "    <tr>\n",
              "      <th>4327</th>\n",
              "      <td>2020-01-15</td>\n",
              "      <td>2020-03-18</td>\n",
              "      <td>1.930382e+09</td>\n",
              "      <td>2020-01-15</td>\n",
              "      <td>2020-03-15</td>\n",
              "      <td>8890.88</td>\n",
              "      <td>720</td>\n",
              "      <td>19</td>\n",
              "      <td>72</td>\n",
              "    </tr>\n",
              "  </tbody>\n",
              "</table>\n",
              "<p>4328 rows × 9 columns</p>\n",
              "</div>"
            ],
            "text/plain": [
              "     baseline_create_date clear_date        doc_id document_create_date.1  \\\n",
              "0              2019-11-16 2019-11-26  1.930154e+09             2019-11-16   \n",
              "1              2019-11-16 2019-11-29  1.930158e+09             2019-11-16   \n",
              "2              2019-11-21 2019-11-25  2.960593e+09             2019-11-16   \n",
              "3              2019-11-26 2019-12-17  2.960591e+09             2019-11-16   \n",
              "4              2019-11-16 2019-11-27  1.930161e+09             2019-11-16   \n",
              "...                   ...        ...           ...                    ...   \n",
              "4323           2020-01-15 2020-01-29  1.930400e+09             2020-01-15   \n",
              "4324           2020-01-15 2020-01-30  1.930396e+09             2020-01-15   \n",
              "4325           2020-01-15 2020-01-28  1.930401e+09             2020-01-15   \n",
              "4326           2020-01-15 2020-01-30  1.930401e+09             2020-01-15   \n",
              "4327           2020-01-15 2020-03-18  1.930382e+09             2020-01-15   \n",
              "\n",
              "     due_in_date  total_open_amount  new_name_customer  \\\n",
              "0     2019-12-01           16103.50                699   \n",
              "1     2019-12-01            8868.50                720   \n",
              "2     2019-12-01           29542.58                349   \n",
              "3     2019-12-06           67401.52                720   \n",
              "4     2019-12-01             378.67                689   \n",
              "...          ...                ...                ...   \n",
              "4323  2020-01-30           17605.87                720   \n",
              "4324  2020-01-30          135083.60                396   \n",
              "4325  2020-01-30            2710.56                692   \n",
              "4326  2020-01-22           74039.90                720   \n",
              "4327  2020-03-15            8890.88                720   \n",
              "\n",
              "      new_cust_payment_terms  new_cust_number  \n",
              "0                         11               43  \n",
              "1                          3               72  \n",
              "2                          0                3  \n",
              "3                          0               72  \n",
              "4                         11               43  \n",
              "...                      ...              ...  \n",
              "4323                       3               72  \n",
              "4324                       3               49  \n",
              "4325                      11               43  \n",
              "4326                      19               72  \n",
              "4327                      19               72  \n",
              "\n",
              "[4328 rows x 9 columns]"
            ]
          },
          "execution_count": 121,
          "metadata": {},
          "output_type": "execute_result"
        }
      ],
      "source": [
        "X_val1"
      ]
    },
    {
      "cell_type": "code",
      "execution_count": 123,
      "metadata": {
        "id": "fveHEusogf9R"
      },
      "outputs": [],
      "source": [
        "X_val1['baseline_create_date_dayofweek'] = X_val1.baseline_create_date.dt.dayofweek #extracting dayofweek from baseline_create_date\n",
        "X_val1['baseline_create_date_month'] = X_val1.baseline_create_date.dt.month   #extracting month from baseline_create_date\n",
        "\n",
        "X_val2['baseline_create_date_dayofweek'] = X_val2.baseline_create_date.dt.dayofweek #extracting dayofweek from baseline_create_date\n",
        "X_val2['baseline_create_date_month'] = X_val2.baseline_create_date.dt.month   #extracting month from baseline_create_date\n",
        "\n",
        "X_test['baseline_create_date_dayofweek'] = X_test.baseline_create_date.dt.dayofweek #extracting dayofweek from baseline_create_date\n",
        "X_test['baseline_create_date_month'] = X_test.baseline_create_date.dt.month   #extracting month from baseline_create_date\n"
      ]
    },
    {
      "cell_type": "code",
      "execution_count": 126,
      "metadata": {
        "id": "FdJ4_fhMf9Kf"
      },
      "outputs": [],
      "source": [
        "X_val1_new = X_val1[['total_open_amount', 'new_name_customer', 'baseline_create_date_dayofweek', 'baseline_create_date_month']]\n",
        "X_val2_new = X_val2[['total_open_amount', 'new_name_customer', 'baseline_create_date_dayofweek', 'baseline_create_date_month']]\n",
        "X_test_new = X_test[['total_open_amount', 'new_name_customer', 'baseline_create_date_dayofweek', 'baseline_create_date_month']]"
      ]
    },
    {
      "cell_type": "code",
      "execution_count": 127,
      "metadata": {
        "colab": {
          "base_uri": "https://localhost:8080/",
          "height": 424
        },
        "id": "isbujPVVhTEA",
        "outputId": "30679ff9-9e3c-4d92-f491-c8f2cd4d0dc0"
      },
      "outputs": [
        {
          "data": {
            "text/html": [
              "<div>\n",
              "<style scoped>\n",
              "    .dataframe tbody tr th:only-of-type {\n",
              "        vertical-align: middle;\n",
              "    }\n",
              "\n",
              "    .dataframe tbody tr th {\n",
              "        vertical-align: top;\n",
              "    }\n",
              "\n",
              "    .dataframe thead th {\n",
              "        text-align: right;\n",
              "    }\n",
              "</style>\n",
              "<table border=\"1\" class=\"dataframe\">\n",
              "  <thead>\n",
              "    <tr style=\"text-align: right;\">\n",
              "      <th></th>\n",
              "      <th>total_open_amount</th>\n",
              "      <th>new_name_customer</th>\n",
              "      <th>baseline_create_date_dayofweek</th>\n",
              "      <th>baseline_create_date_month</th>\n",
              "    </tr>\n",
              "  </thead>\n",
              "  <tbody>\n",
              "    <tr>\n",
              "      <th>0</th>\n",
              "      <td>16103.50</td>\n",
              "      <td>699</td>\n",
              "      <td>5</td>\n",
              "      <td>11</td>\n",
              "    </tr>\n",
              "    <tr>\n",
              "      <th>1</th>\n",
              "      <td>8868.50</td>\n",
              "      <td>720</td>\n",
              "      <td>5</td>\n",
              "      <td>11</td>\n",
              "    </tr>\n",
              "    <tr>\n",
              "      <th>2</th>\n",
              "      <td>29542.58</td>\n",
              "      <td>349</td>\n",
              "      <td>3</td>\n",
              "      <td>11</td>\n",
              "    </tr>\n",
              "    <tr>\n",
              "      <th>3</th>\n",
              "      <td>67401.52</td>\n",
              "      <td>720</td>\n",
              "      <td>1</td>\n",
              "      <td>11</td>\n",
              "    </tr>\n",
              "    <tr>\n",
              "      <th>4</th>\n",
              "      <td>378.67</td>\n",
              "      <td>689</td>\n",
              "      <td>5</td>\n",
              "      <td>11</td>\n",
              "    </tr>\n",
              "    <tr>\n",
              "      <th>...</th>\n",
              "      <td>...</td>\n",
              "      <td>...</td>\n",
              "      <td>...</td>\n",
              "      <td>...</td>\n",
              "    </tr>\n",
              "    <tr>\n",
              "      <th>4323</th>\n",
              "      <td>17605.87</td>\n",
              "      <td>720</td>\n",
              "      <td>2</td>\n",
              "      <td>1</td>\n",
              "    </tr>\n",
              "    <tr>\n",
              "      <th>4324</th>\n",
              "      <td>135083.60</td>\n",
              "      <td>396</td>\n",
              "      <td>2</td>\n",
              "      <td>1</td>\n",
              "    </tr>\n",
              "    <tr>\n",
              "      <th>4325</th>\n",
              "      <td>2710.56</td>\n",
              "      <td>692</td>\n",
              "      <td>2</td>\n",
              "      <td>1</td>\n",
              "    </tr>\n",
              "    <tr>\n",
              "      <th>4326</th>\n",
              "      <td>74039.90</td>\n",
              "      <td>720</td>\n",
              "      <td>2</td>\n",
              "      <td>1</td>\n",
              "    </tr>\n",
              "    <tr>\n",
              "      <th>4327</th>\n",
              "      <td>8890.88</td>\n",
              "      <td>720</td>\n",
              "      <td>2</td>\n",
              "      <td>1</td>\n",
              "    </tr>\n",
              "  </tbody>\n",
              "</table>\n",
              "<p>4328 rows × 4 columns</p>\n",
              "</div>"
            ],
            "text/plain": [
              "      total_open_amount  new_name_customer  baseline_create_date_dayofweek  \\\n",
              "0              16103.50                699                               5   \n",
              "1               8868.50                720                               5   \n",
              "2              29542.58                349                               3   \n",
              "3              67401.52                720                               1   \n",
              "4                378.67                689                               5   \n",
              "...                 ...                ...                             ...   \n",
              "4323           17605.87                720                               2   \n",
              "4324          135083.60                396                               2   \n",
              "4325            2710.56                692                               2   \n",
              "4326           74039.90                720                               2   \n",
              "4327            8890.88                720                               2   \n",
              "\n",
              "      baseline_create_date_month  \n",
              "0                             11  \n",
              "1                             11  \n",
              "2                             11  \n",
              "3                             11  \n",
              "4                             11  \n",
              "...                          ...  \n",
              "4323                           1  \n",
              "4324                           1  \n",
              "4325                           1  \n",
              "4326                           1  \n",
              "4327                           1  \n",
              "\n",
              "[4328 rows x 4 columns]"
            ]
          },
          "execution_count": 127,
          "metadata": {},
          "output_type": "execute_result"
        }
      ],
      "source": [
        "X_val1_new"
      ]
    },
    {
      "cell_type": "markdown",
      "metadata": {
        "id": "CuL55c-bNGVO"
      },
      "source": [
        "# Modeling"
      ]
    },
    {
      "cell_type": "code",
      "execution_count": 133,
      "metadata": {
        "id": "XhoRHUGk0_-g"
      },
      "outputs": [],
      "source": [
        "# Modeling & Accuracy Metrics\r\n",
        "from sklearn.linear_model import LinearRegression\r\n",
        "from sklearn.svm import SVR\r\n",
        "from sklearn.tree import DecisionTreeRegressor\r\n",
        "from sklearn.ensemble import RandomForestRegressor\r\n",
        "import xgboost as xgb\r\n",
        "from sklearn.metrics import mean_squared_error\r\n",
        "from sklearn.metrics import r2_score"
      ]
    },
    {
      "cell_type": "code",
      "execution_count": 134,
      "metadata": {
        "id": "1rH5uY9Y1Bdn"
      },
      "outputs": [],
      "source": [
        "# Defining Lists to Store in the Results and Names of Algorithms\n",
        "MSE_Score = []\n",
        "R2_Score = []\n",
        "Algorithm = []"
      ]
    },
    {
      "cell_type": "markdown",
      "metadata": {},
      "source": [
        "# Linear regression"
      ]
    },
    {
      "cell_type": "code",
      "execution_count": 135,
      "metadata": {
        "id": "jp0SMkkwjqfQ"
      },
      "outputs": [],
      "source": [
        "# Fitting Simple Linear Regression to the Training Set\r\n",
        "Algorithm.append('Linear Regression train_new')\r\n",
        "clf = LinearRegression()\r\n",
        "clf.fit(X_train_new, Y_train)\r\n",
        "\r\n",
        "# Predicting the Test Set Results\r\n",
        "predicted = clf.predict(X_train_new)\r\n",
        "\r\n",
        "# Appending the Scores For Visualisation at a Later Part\r\n",
        "MSE_Score.append(mean_squared_error(Y_train, predicted))\r\n",
        "R2_Score.append(r2_score(Y_train, predicted))\r\n"
      ]
    },
    {
      "cell_type": "code",
      "execution_count": 136,
      "metadata": {
        "id": "TfjX9H0Q1I5d"
      },
      "outputs": [],
      "source": [
        "Algorithm.append('Linear Regression val1_new')\r\n",
        "\r\n",
        "# Predicting the Test Set Results\r\n",
        "predicted = clf.predict(X_val1_new)\r\n",
        "\r\n",
        "# Appending the Scores For Visualisation at a Later Part\r\n",
        "MSE_Score.append(mean_squared_error(Y_val1, predicted))\r\n",
        "R2_Score.append(r2_score(Y_val1, predicted))\r\n"
      ]
    },
    {
      "cell_type": "code",
      "execution_count": 137,
      "metadata": {
        "id": "9brFLnMG7SGp"
      },
      "outputs": [],
      "source": [
        "Algorithm.append('Linear Regression val2_new')\r\n",
        "\r\n",
        "# Predicting the Test Set Results\r\n",
        "predicted = clf.predict(X_val2_new)\r\n",
        "\r\n",
        "# Appending the Scores For Visualisation at a Later Part\r\n",
        "MSE_Score.append(mean_squared_error(Y_val2, predicted))\r\n",
        "R2_Score.append(r2_score(Y_val2, predicted))\r\n"
      ]
    },
    {
      "cell_type": "markdown",
      "metadata": {
        "id": "FFFkHGxe22p-"
      },
      "source": [
        "## 2.Support Vector Regression"
      ]
    },
    {
      "cell_type": "code",
      "execution_count": 138,
      "metadata": {
        "colab": {
          "background_save": true
        },
        "id": "jWOL_CTejzdm"
      },
      "outputs": [],
      "source": [
        "# Fitting SVR to the Training Set\n",
        "Algorithm.append('Support Vector Regression train_new')\n",
        "clf = SVR()\n",
        "clf.fit(X_train_new, Y_train)\n",
        "\n",
        "# Predicting the Test Set Results\n",
        "predicted = clf.predict(X_train_new)\n",
        "\n",
        "# Appending the Scores For Visualisation at a Later Part\n",
        "MSE_Score.append(mean_squared_error(Y_train, predicted))\n",
        "R2_Score.append(r2_score(Y_train, predicted))\n"
      ]
    },
    {
      "cell_type": "code",
      "execution_count": 139,
      "metadata": {
        "colab": {
          "background_save": true
        },
        "id": "W8EPmTq826ph"
      },
      "outputs": [],
      "source": [
        "Algorithm.append('Support Vector Regression val1_new')\r\n",
        "\r\n",
        "# Predicting the Test Set Results\r\n",
        "predicted = clf.predict(X_val1_new)\r\n",
        "\r\n",
        "# Appending the Scores For Visualisation at a Later Part\r\n",
        "MSE_Score.append(mean_squared_error(Y_val1, predicted))\r\n",
        "R2_Score.append(r2_score(Y_val1, predicted))"
      ]
    },
    {
      "cell_type": "code",
      "execution_count": 140,
      "metadata": {
        "colab": {
          "background_save": true
        },
        "id": "Lr44mI05JFLb"
      },
      "outputs": [],
      "source": [
        "Algorithm.append('Support Vector Regression val2_new')\r\n",
        "\r\n",
        "# Predicting the Test Set Results\r\n",
        "predicted = clf.predict(X_val2_new)\r\n",
        "\r\n",
        "# Appending the Scores For Visualisation at a Later Part\r\n",
        "MSE_Score.append(mean_squared_error(Y_val2, predicted))\r\n",
        "R2_Score.append(r2_score(Y_val2, predicted))\r\n"
      ]
    },
    {
      "cell_type": "markdown",
      "metadata": {
        "id": "jGELG5e_C4pM"
      },
      "source": [
        "## 3.Decision Tree Regressor "
      ]
    },
    {
      "cell_type": "code",
      "execution_count": 141,
      "metadata": {
        "colab": {
          "background_save": true
        },
        "id": "ehKvWu2XkJ1y"
      },
      "outputs": [],
      "source": [
        "# Fitting Decision Tree to the Training Set\n",
        "Algorithm.append('Decision Tree Regressor val1_new')\n",
        "clf = DecisionTreeRegressor()\n",
        "clf.fit(X_train_new, Y_train)\n",
        "\n",
        "# Predicting the Test Set Results\n",
        "predicted = clf.predict(X_train_new)\n",
        "\n",
        "# Appending the Scores For Visualisation at a Later Part\n",
        "MSE_Score.append(mean_squared_error(Y_train, predicted))\n",
        "R2_Score.append(r2_score(Y_train, predicted))\n"
      ]
    },
    {
      "cell_type": "code",
      "execution_count": 142,
      "metadata": {
        "colab": {
          "background_save": true
        },
        "id": "cOinerczC2m7"
      },
      "outputs": [],
      "source": [
        "Algorithm.append('Decision Tree Regressor val1_new')\r\n",
        "\r\n",
        "# Predicting the Test Set Results\r\n",
        "predicted = clf.predict(X_val1_new)\r\n",
        "\r\n",
        "# Appending the Scores For Visualisation at a Later Part\r\n",
        "MSE_Score.append(mean_squared_error(Y_val1, predicted))\r\n",
        "R2_Score.append(r2_score(Y_val1, predicted))\r\n"
      ]
    },
    {
      "cell_type": "code",
      "execution_count": 143,
      "metadata": {
        "colab": {
          "background_save": true
        },
        "id": "Ob-Jdn5VEna_"
      },
      "outputs": [],
      "source": [
        "Algorithm.append('Decision Tree Regressor val2_new')\r\n",
        "\r\n",
        "# Predicting the Test Set Results\r\n",
        "predicted = clf.predict(X_val2_new)\r\n",
        "\r\n",
        "# Appending the Scores For Visualisation at a Later Part\r\n",
        "MSE_Score.append(mean_squared_error(Y_val2, predicted))\r\n",
        "R2_Score.append(r2_score(Y_val2, predicted))\r\n"
      ]
    },
    {
      "cell_type": "markdown",
      "metadata": {
        "id": "I7-2lFrSFrT-"
      },
      "source": [
        "## 4.Random Forest Regressor"
      ]
    },
    {
      "cell_type": "code",
      "execution_count": 144,
      "metadata": {
        "colab": {
          "background_save": true
        },
        "id": "rXwcTbcfkSwP"
      },
      "outputs": [],
      "source": [
        "# Fitting Random Forest Regressor Tree to the Training Set\r\n",
        "Algorithm.append('Random Forest Regressor train_new')\r\n",
        "clf = RandomForestRegressor()\r\n",
        "clf.fit(X_train_new, Y_train)\r\n",
        "\r\n",
        "# Predicting the Test Set Results\r\n",
        "predicted = clf.predict(X_train_new)\r\n",
        "\r\n",
        "# Appending the Scores For Visualisation at a Later Part\r\n",
        "MSE_Score.append(mean_squared_error(Y_train, predicted))\r\n",
        "R2_Score.append(r2_score(Y_train, predicted))\r\n"
      ]
    },
    {
      "cell_type": "code",
      "execution_count": 145,
      "metadata": {
        "colab": {
          "background_save": true
        },
        "id": "9SyyfQePGKwq"
      },
      "outputs": [],
      "source": [
        "Algorithm.append('Random Forest Regressor val1_new')\r\n",
        "\r\n",
        "# Predicting the Test Set Results\r\n",
        "predicted = clf.predict(X_val1_new)\r\n",
        "\r\n",
        "# Appending the Scores For Visualisation at a Later Part\r\n",
        "MSE_Score.append(mean_squared_error(Y_val1, predicted))\r\n",
        "R2_Score.append(r2_score(Y_val1, predicted))"
      ]
    },
    {
      "cell_type": "code",
      "execution_count": 146,
      "metadata": {
        "colab": {
          "background_save": true
        },
        "id": "1kj4L4QPGntT"
      },
      "outputs": [],
      "source": [
        "Algorithm.append('Random Forest Regressor val2_new')\r\n",
        "\r\n",
        "# Predicting the Test Set Results\r\n",
        "predicted = clf.predict(X_val2_new)\r\n",
        "\r\n",
        "# Appending the Scores For Visualisation at a Later Part\r\n",
        "MSE_Score.append(mean_squared_error(Y_val2, predicted))\r\n",
        "R2_Score.append(r2_score(Y_val2, predicted))\r\n"
      ]
    },
    {
      "cell_type": "markdown",
      "metadata": {
        "id": "QiwZswVvHR9r"
      },
      "source": [
        "## 5.XGB Regressor"
      ]
    },
    {
      "cell_type": "code",
      "execution_count": 147,
      "metadata": {
        "colab": {
          "background_save": true
        },
        "id": "co99GgA5kc-k",
        "outputId": "85a7ad70-7160-4c8d-932f-47f0892476fb"
      },
      "outputs": [],
      "source": [
        "# Fitting XGBoost Regressor to the Training Set\r\n",
        "Algorithm.append('XGB Regressor train_new')\r\n",
        "clf = xgb.XGBRegressor()\r\n",
        "clf.fit(X_train_new, Y_train)\r\n",
        "\r\n",
        "# Predicting the Test Set Results\r\n",
        "predicted = clf.predict(X_train_new)\r\n",
        "\r\n",
        "# Appending the Scores For Visualisation at a Later Part\r\n",
        "MSE_Score.append(mean_squared_error(Y_train, predicted))\r\n",
        "R2_Score.append(r2_score(Y_train, predicted))\r\n"
      ]
    },
    {
      "cell_type": "code",
      "execution_count": 148,
      "metadata": {
        "colab": {
          "background_save": true
        },
        "id": "eRnkf_TCHaZF",
        "outputId": "61776849-ffee-4e08-da21-4f5ea0fd600c"
      },
      "outputs": [],
      "source": [
        "Algorithm.append('XGB Regressor val1_new')\r\n",
        "\r\n",
        "# Predicting the Test Set Results\r\n",
        "predicted = clf.predict(X_val1_new)\r\n",
        "\r\n",
        "# Appending the Scores For Visualisation at a Later Part\r\n",
        "MSE_Score.append(mean_squared_error(Y_val1, predicted))\r\n",
        "R2_Score.append(r2_score(Y_val1, predicted))\r\n"
      ]
    },
    {
      "cell_type": "code",
      "execution_count": 149,
      "metadata": {
        "colab": {
          "background_save": true
        },
        "id": "pw7BvgbNH9av",
        "outputId": "00e58b39-a2a6-42d4-858d-4baf372f3883"
      },
      "outputs": [],
      "source": [
        "Algorithm.append('XGB Regressor val2_new')\r\n",
        "\r\n",
        "# Predicting the Test Set Results\r\n",
        "predicted = clf.predict(X_val2_new)\r\n",
        "\r\n",
        "# Appending the Scores For Visualisation at a Later Part\r\n",
        "MSE_Score.append(mean_squared_error(Y_val2, predicted))\r\n",
        "R2_Score.append(r2_score(Y_val2, predicted))\r\n"
      ]
    },
    {
      "cell_type": "markdown",
      "metadata": {
        "id": "rueuORkOKAa5"
      },
      "source": [
        "##Printing The MSE and R2 Scores"
      ]
    },
    {
      "cell_type": "code",
      "execution_count": 150,
      "metadata": {
        "id": "OGhlJ6e6KF9A"
      },
      "outputs": [],
      "source": [
        "# Just Combining the Lists into a DataFrame for a Better Visualisation\n",
        "Comparison = pd.DataFrame(list(zip(Algorithm, MSE_Score, R2_Score)), columns = ['Algorithm', 'MSE_Score', 'R2_Score'])"
      ]
    },
    {
      "cell_type": "code",
      "execution_count": 151,
      "metadata": {
        "colab": {
          "background_save": true
        },
        "id": "xACJH4u4KHuK",
        "outputId": "7e282034-3067-4616-f2b1-fb8a040518e4"
      },
      "outputs": [
        {
          "data": {
            "text/html": [
              "<div>\n",
              "<style scoped>\n",
              "    .dataframe tbody tr th:only-of-type {\n",
              "        vertical-align: middle;\n",
              "    }\n",
              "\n",
              "    .dataframe tbody tr th {\n",
              "        vertical-align: top;\n",
              "    }\n",
              "\n",
              "    .dataframe thead th {\n",
              "        text-align: right;\n",
              "    }\n",
              "</style>\n",
              "<table border=\"1\" class=\"dataframe\">\n",
              "  <thead>\n",
              "    <tr style=\"text-align: right;\">\n",
              "      <th></th>\n",
              "      <th>Algorithm</th>\n",
              "      <th>MSE_Score</th>\n",
              "      <th>R2_Score</th>\n",
              "    </tr>\n",
              "  </thead>\n",
              "  <tbody>\n",
              "    <tr>\n",
              "      <th>0</th>\n",
              "      <td>Linear Regression train_new</td>\n",
              "      <td>126.941726</td>\n",
              "      <td>0.000578</td>\n",
              "    </tr>\n",
              "    <tr>\n",
              "      <th>1</th>\n",
              "      <td>Linear Regression val1_new</td>\n",
              "      <td>63.410919</td>\n",
              "      <td>-0.003771</td>\n",
              "    </tr>\n",
              "    <tr>\n",
              "      <th>2</th>\n",
              "      <td>Linear Regression val2_new</td>\n",
              "      <td>113.668816</td>\n",
              "      <td>-0.006969</td>\n",
              "    </tr>\n",
              "    <tr>\n",
              "      <th>3</th>\n",
              "      <td>Support Vector Regression train_new</td>\n",
              "      <td>127.973846</td>\n",
              "      <td>-0.007548</td>\n",
              "    </tr>\n",
              "    <tr>\n",
              "      <th>4</th>\n",
              "      <td>Support Vector Regression val1_new</td>\n",
              "      <td>63.074121</td>\n",
              "      <td>0.001561</td>\n",
              "    </tr>\n",
              "    <tr>\n",
              "      <th>5</th>\n",
              "      <td>Support Vector Regression val2_new</td>\n",
              "      <td>112.978162</td>\n",
              "      <td>-0.000850</td>\n",
              "    </tr>\n",
              "    <tr>\n",
              "      <th>6</th>\n",
              "      <td>Decision Tree Regressor val1_new</td>\n",
              "      <td>0.077300</td>\n",
              "      <td>0.999391</td>\n",
              "    </tr>\n",
              "    <tr>\n",
              "      <th>7</th>\n",
              "      <td>Decision Tree Regressor val1_new</td>\n",
              "      <td>179.283503</td>\n",
              "      <td>-1.837989</td>\n",
              "    </tr>\n",
              "    <tr>\n",
              "      <th>8</th>\n",
              "      <td>Decision Tree Regressor val2_new</td>\n",
              "      <td>236.242764</td>\n",
              "      <td>-1.092826</td>\n",
              "    </tr>\n",
              "    <tr>\n",
              "      <th>9</th>\n",
              "      <td>Random Forest Regressor train_new</td>\n",
              "      <td>14.102507</td>\n",
              "      <td>0.888970</td>\n",
              "    </tr>\n",
              "    <tr>\n",
              "      <th>10</th>\n",
              "      <td>Random Forest Regressor val1_new</td>\n",
              "      <td>77.764718</td>\n",
              "      <td>-0.230986</td>\n",
              "    </tr>\n",
              "    <tr>\n",
              "      <th>11</th>\n",
              "      <td>Random Forest Regressor val2_new</td>\n",
              "      <td>102.988482</td>\n",
              "      <td>0.087646</td>\n",
              "    </tr>\n",
              "    <tr>\n",
              "      <th>12</th>\n",
              "      <td>XGB Regressor train_new</td>\n",
              "      <td>49.008014</td>\n",
              "      <td>0.614156</td>\n",
              "    </tr>\n",
              "    <tr>\n",
              "      <th>13</th>\n",
              "      <td>XGB Regressor val1_new</td>\n",
              "      <td>75.866908</td>\n",
              "      <td>-0.200944</td>\n",
              "    </tr>\n",
              "    <tr>\n",
              "      <th>14</th>\n",
              "      <td>XGB Regressor val2_new</td>\n",
              "      <td>89.165903</td>\n",
              "      <td>0.210098</td>\n",
              "    </tr>\n",
              "  </tbody>\n",
              "</table>\n",
              "</div>"
            ],
            "text/plain": [
              "                              Algorithm   MSE_Score  R2_Score\n",
              "0           Linear Regression train_new  126.941726  0.000578\n",
              "1            Linear Regression val1_new   63.410919 -0.003771\n",
              "2            Linear Regression val2_new  113.668816 -0.006969\n",
              "3   Support Vector Regression train_new  127.973846 -0.007548\n",
              "4    Support Vector Regression val1_new   63.074121  0.001561\n",
              "5    Support Vector Regression val2_new  112.978162 -0.000850\n",
              "6      Decision Tree Regressor val1_new    0.077300  0.999391\n",
              "7      Decision Tree Regressor val1_new  179.283503 -1.837989\n",
              "8      Decision Tree Regressor val2_new  236.242764 -1.092826\n",
              "9     Random Forest Regressor train_new   14.102507  0.888970\n",
              "10     Random Forest Regressor val1_new   77.764718 -0.230986\n",
              "11     Random Forest Regressor val2_new  102.988482  0.087646\n",
              "12              XGB Regressor train_new   49.008014  0.614156\n",
              "13               XGB Regressor val1_new   75.866908 -0.200944\n",
              "14               XGB Regressor val2_new   89.165903  0.210098"
            ]
          },
          "execution_count": 151,
          "metadata": {},
          "output_type": "execute_result"
        }
      ],
      "source": [
        "# Score Card\n",
        "Comparison"
      ]
    },
    {
      "cell_type": "markdown",
      "metadata": {},
      "source": [
        "# saving model"
      ]
    },
    {
      "cell_type": "code",
      "execution_count": 152,
      "metadata": {},
      "outputs": [],
      "source": [
        "import pickle\r\n",
        "# pickle.dump(clf,open('model_final','wb'))\r\n",
        "clf=pickle.load(open('model_final','rb'))\r\n"
      ]
    },
    {
      "cell_type": "markdown",
      "metadata": {},
      "source": [
        "# Predicting Delay\r\n"
      ]
    },
    {
      "cell_type": "code",
      "execution_count": 153,
      "metadata": {
        "colab": {
          "background_save": true
        },
        "id": "eIABE_AQmobm",
        "outputId": "76214853-98a7-44e0-dada-5ff81b46d9b1"
      },
      "outputs": [],
      "source": [
        "# Fitting XGBoost Regressor to the Training Set\r\n",
        "clf = xgb.XGBRegressor()\r\n",
        "clf.fit(X_train_new, Y_train)\r\n",
        "\r\n",
        "# Predicting the Test Set Results\r\n",
        "predicted = clf.predict(X_test_new)\r\n"
      ]
    },
    {
      "cell_type": "code",
      "execution_count": 154,
      "metadata": {
        "id": "EN7gmG9FmvNd"
      },
      "outputs": [
        {
          "data": {
            "text/plain": [
              "array([8.8229817e-01, 6.1293030e-01, 2.7070639e+00, ..., 5.1425118e-04,\n",
              "       5.4777622e+00, 1.1381931e+00], dtype=float32)"
            ]
          },
          "execution_count": 154,
          "metadata": {},
          "output_type": "execute_result"
        }
      ],
      "source": [
        "predicted"
      ]
    },
    {
      "cell_type": "code",
      "execution_count": 155,
      "metadata": {
        "id": "fh_kYnPVm2z8"
      },
      "outputs": [],
      "source": [
        "Y_test['delay'] = predicted.astype(int)"
      ]
    },
    {
      "cell_type": "code",
      "execution_count": 156,
      "metadata": {
        "id": "dMjUYVxGnJkU"
      },
      "outputs": [
        {
          "data": {
            "text/html": [
              "<div>\n",
              "<style scoped>\n",
              "    .dataframe tbody tr th:only-of-type {\n",
              "        vertical-align: middle;\n",
              "    }\n",
              "\n",
              "    .dataframe tbody tr th {\n",
              "        vertical-align: top;\n",
              "    }\n",
              "\n",
              "    .dataframe thead th {\n",
              "        text-align: right;\n",
              "    }\n",
              "</style>\n",
              "<table border=\"1\" class=\"dataframe\">\n",
              "  <thead>\n",
              "    <tr style=\"text-align: right;\">\n",
              "      <th></th>\n",
              "      <th>delay</th>\n",
              "    </tr>\n",
              "  </thead>\n",
              "  <tbody>\n",
              "    <tr>\n",
              "      <th>0</th>\n",
              "      <td>0</td>\n",
              "    </tr>\n",
              "    <tr>\n",
              "      <th>1</th>\n",
              "      <td>0</td>\n",
              "    </tr>\n",
              "    <tr>\n",
              "      <th>2</th>\n",
              "      <td>2</td>\n",
              "    </tr>\n",
              "    <tr>\n",
              "      <th>3</th>\n",
              "      <td>1</td>\n",
              "    </tr>\n",
              "    <tr>\n",
              "      <th>4</th>\n",
              "      <td>0</td>\n",
              "    </tr>\n",
              "    <tr>\n",
              "      <th>...</th>\n",
              "      <td>...</td>\n",
              "    </tr>\n",
              "    <tr>\n",
              "      <th>9697</th>\n",
              "      <td>3</td>\n",
              "    </tr>\n",
              "    <tr>\n",
              "      <th>9698</th>\n",
              "      <td>4</td>\n",
              "    </tr>\n",
              "    <tr>\n",
              "      <th>9699</th>\n",
              "      <td>0</td>\n",
              "    </tr>\n",
              "    <tr>\n",
              "      <th>9700</th>\n",
              "      <td>5</td>\n",
              "    </tr>\n",
              "    <tr>\n",
              "      <th>9701</th>\n",
              "      <td>1</td>\n",
              "    </tr>\n",
              "  </tbody>\n",
              "</table>\n",
              "<p>9702 rows × 1 columns</p>\n",
              "</div>"
            ],
            "text/plain": [
              "      delay\n",
              "0         0\n",
              "1         0\n",
              "2         2\n",
              "3         1\n",
              "4         0\n",
              "...     ...\n",
              "9697      3\n",
              "9698      4\n",
              "9699      0\n",
              "9700      5\n",
              "9701      1\n",
              "\n",
              "[9702 rows x 1 columns]"
            ]
          },
          "execution_count": 156,
          "metadata": {},
          "output_type": "execute_result"
        }
      ],
      "source": [
        "Y_test"
      ]
    },
    {
      "cell_type": "code",
      "execution_count": 157,
      "metadata": {
        "id": "d4DpuQG-sogv"
      },
      "outputs": [],
      "source": [
        "X_test['clear_date'] = pd.to_datetime(X_test['clear_date'])\n",
        "X_test['clear_date'] = X_test['due_in_date']+pd.to_timedelta(Y_train['delay'], unit='d')"
      ]
    },
    {
      "cell_type": "code",
      "execution_count": 158,
      "metadata": {
        "id": "P6k1C2aUtE4p"
      },
      "outputs": [
        {
          "data": {
            "text/html": [
              "<div>\n",
              "<style scoped>\n",
              "    .dataframe tbody tr th:only-of-type {\n",
              "        vertical-align: middle;\n",
              "    }\n",
              "\n",
              "    .dataframe tbody tr th {\n",
              "        vertical-align: top;\n",
              "    }\n",
              "\n",
              "    .dataframe thead th {\n",
              "        text-align: right;\n",
              "    }\n",
              "</style>\n",
              "<table border=\"1\" class=\"dataframe\">\n",
              "  <thead>\n",
              "    <tr style=\"text-align: right;\">\n",
              "      <th></th>\n",
              "      <th>baseline_create_date</th>\n",
              "      <th>clear_date</th>\n",
              "      <th>doc_id</th>\n",
              "      <th>document_create_date.1</th>\n",
              "      <th>due_in_date</th>\n",
              "      <th>total_open_amount</th>\n",
              "      <th>new_name_customer</th>\n",
              "      <th>new_cust_payment_terms</th>\n",
              "      <th>new_cust_number</th>\n",
              "      <th>baseline_create_date_dayofweek</th>\n",
              "      <th>baseline_create_date_month</th>\n",
              "    </tr>\n",
              "  </thead>\n",
              "  <tbody>\n",
              "    <tr>\n",
              "      <th>0</th>\n",
              "      <td>2020-02-27</td>\n",
              "      <td>2020-04-27</td>\n",
              "      <td>1.930571e+09</td>\n",
              "      <td>2020-02-27</td>\n",
              "      <td>2020-05-02</td>\n",
              "      <td>8510.40</td>\n",
              "      <td>492</td>\n",
              "      <td>10</td>\n",
              "      <td>38</td>\n",
              "      <td>3</td>\n",
              "      <td>2</td>\n",
              "    </tr>\n",
              "    <tr>\n",
              "      <th>1</th>\n",
              "      <td>2020-02-27</td>\n",
              "      <td>2020-03-13</td>\n",
              "      <td>1.930568e+09</td>\n",
              "      <td>2020-02-27</td>\n",
              "      <td>2020-03-13</td>\n",
              "      <td>15672.80</td>\n",
              "      <td>321</td>\n",
              "      <td>3</td>\n",
              "      <td>46</td>\n",
              "      <td>3</td>\n",
              "      <td>2</td>\n",
              "    </tr>\n",
              "    <tr>\n",
              "      <th>2</th>\n",
              "      <td>2020-02-27</td>\n",
              "      <td>2020-03-14</td>\n",
              "      <td>1.930570e+09</td>\n",
              "      <td>2020-02-27</td>\n",
              "      <td>2020-03-13</td>\n",
              "      <td>72076.42</td>\n",
              "      <td>720</td>\n",
              "      <td>3</td>\n",
              "      <td>72</td>\n",
              "      <td>3</td>\n",
              "      <td>2</td>\n",
              "    </tr>\n",
              "    <tr>\n",
              "      <th>3</th>\n",
              "      <td>2020-02-28</td>\n",
              "      <td>2020-03-09</td>\n",
              "      <td>2.960617e+09</td>\n",
              "      <td>2020-02-27</td>\n",
              "      <td>2020-03-09</td>\n",
              "      <td>131893.29</td>\n",
              "      <td>720</td>\n",
              "      <td>0</td>\n",
              "      <td>72</td>\n",
              "      <td>4</td>\n",
              "      <td>2</td>\n",
              "    </tr>\n",
              "    <tr>\n",
              "      <th>4</th>\n",
              "      <td>2020-02-27</td>\n",
              "      <td>2020-03-21</td>\n",
              "      <td>1.930578e+09</td>\n",
              "      <td>2020-02-27</td>\n",
              "      <td>2020-03-13</td>\n",
              "      <td>7257.60</td>\n",
              "      <td>720</td>\n",
              "      <td>3</td>\n",
              "      <td>72</td>\n",
              "      <td>3</td>\n",
              "      <td>2</td>\n",
              "    </tr>\n",
              "    <tr>\n",
              "      <th>...</th>\n",
              "      <td>...</td>\n",
              "      <td>...</td>\n",
              "      <td>...</td>\n",
              "      <td>...</td>\n",
              "      <td>...</td>\n",
              "      <td>...</td>\n",
              "      <td>...</td>\n",
              "      <td>...</td>\n",
              "      <td>...</td>\n",
              "      <td>...</td>\n",
              "      <td>...</td>\n",
              "    </tr>\n",
              "    <tr>\n",
              "      <th>9697</th>\n",
              "      <td>2020-05-14</td>\n",
              "      <td>2020-05-29</td>\n",
              "      <td>2.960634e+09</td>\n",
              "      <td>2020-05-14</td>\n",
              "      <td>2020-05-24</td>\n",
              "      <td>7032.80</td>\n",
              "      <td>720</td>\n",
              "      <td>0</td>\n",
              "      <td>72</td>\n",
              "      <td>3</td>\n",
              "      <td>5</td>\n",
              "    </tr>\n",
              "    <tr>\n",
              "      <th>9698</th>\n",
              "      <td>2020-05-14</td>\n",
              "      <td>2020-05-27</td>\n",
              "      <td>1.930904e+09</td>\n",
              "      <td>2020-05-14</td>\n",
              "      <td>2020-05-29</td>\n",
              "      <td>16099.20</td>\n",
              "      <td>720</td>\n",
              "      <td>3</td>\n",
              "      <td>72</td>\n",
              "      <td>3</td>\n",
              "      <td>5</td>\n",
              "    </tr>\n",
              "    <tr>\n",
              "      <th>9699</th>\n",
              "      <td>2020-05-15</td>\n",
              "      <td>2020-06-02</td>\n",
              "      <td>1.930902e+09</td>\n",
              "      <td>2020-05-15</td>\n",
              "      <td>2020-05-30</td>\n",
              "      <td>19798.67</td>\n",
              "      <td>720</td>\n",
              "      <td>3</td>\n",
              "      <td>72</td>\n",
              "      <td>4</td>\n",
              "      <td>5</td>\n",
              "    </tr>\n",
              "    <tr>\n",
              "      <th>9700</th>\n",
              "      <td>2020-05-18</td>\n",
              "      <td>2020-05-29</td>\n",
              "      <td>1.930915e+09</td>\n",
              "      <td>2020-05-18</td>\n",
              "      <td>2020-06-02</td>\n",
              "      <td>21362.82</td>\n",
              "      <td>720</td>\n",
              "      <td>3</td>\n",
              "      <td>72</td>\n",
              "      <td>0</td>\n",
              "      <td>5</td>\n",
              "    </tr>\n",
              "    <tr>\n",
              "      <th>9701</th>\n",
              "      <td>2020-05-21</td>\n",
              "      <td>2020-06-05</td>\n",
              "      <td>1.930910e+09</td>\n",
              "      <td>2020-05-21</td>\n",
              "      <td>2020-06-05</td>\n",
              "      <td>42360.00</td>\n",
              "      <td>720</td>\n",
              "      <td>3</td>\n",
              "      <td>72</td>\n",
              "      <td>3</td>\n",
              "      <td>5</td>\n",
              "    </tr>\n",
              "  </tbody>\n",
              "</table>\n",
              "<p>9702 rows × 11 columns</p>\n",
              "</div>"
            ],
            "text/plain": [
              "     baseline_create_date clear_date        doc_id document_create_date.1  \\\n",
              "0              2020-02-27 2020-04-27  1.930571e+09             2020-02-27   \n",
              "1              2020-02-27 2020-03-13  1.930568e+09             2020-02-27   \n",
              "2              2020-02-27 2020-03-14  1.930570e+09             2020-02-27   \n",
              "3              2020-02-28 2020-03-09  2.960617e+09             2020-02-27   \n",
              "4              2020-02-27 2020-03-21  1.930578e+09             2020-02-27   \n",
              "...                   ...        ...           ...                    ...   \n",
              "9697           2020-05-14 2020-05-29  2.960634e+09             2020-05-14   \n",
              "9698           2020-05-14 2020-05-27  1.930904e+09             2020-05-14   \n",
              "9699           2020-05-15 2020-06-02  1.930902e+09             2020-05-15   \n",
              "9700           2020-05-18 2020-05-29  1.930915e+09             2020-05-18   \n",
              "9701           2020-05-21 2020-06-05  1.930910e+09             2020-05-21   \n",
              "\n",
              "     due_in_date  total_open_amount  new_name_customer  \\\n",
              "0     2020-05-02            8510.40                492   \n",
              "1     2020-03-13           15672.80                321   \n",
              "2     2020-03-13           72076.42                720   \n",
              "3     2020-03-09          131893.29                720   \n",
              "4     2020-03-13            7257.60                720   \n",
              "...          ...                ...                ...   \n",
              "9697  2020-05-24            7032.80                720   \n",
              "9698  2020-05-29           16099.20                720   \n",
              "9699  2020-05-30           19798.67                720   \n",
              "9700  2020-06-02           21362.82                720   \n",
              "9701  2020-06-05           42360.00                720   \n",
              "\n",
              "      new_cust_payment_terms  new_cust_number  baseline_create_date_dayofweek  \\\n",
              "0                         10               38                               3   \n",
              "1                          3               46                               3   \n",
              "2                          3               72                               3   \n",
              "3                          0               72                               4   \n",
              "4                          3               72                               3   \n",
              "...                      ...              ...                             ...   \n",
              "9697                       0               72                               3   \n",
              "9698                       3               72                               3   \n",
              "9699                       3               72                               4   \n",
              "9700                       3               72                               0   \n",
              "9701                       3               72                               3   \n",
              "\n",
              "      baseline_create_date_month  \n",
              "0                              2  \n",
              "1                              2  \n",
              "2                              2  \n",
              "3                              2  \n",
              "4                              2  \n",
              "...                          ...  \n",
              "9697                           5  \n",
              "9698                           5  \n",
              "9699                           5  \n",
              "9700                           5  \n",
              "9701                           5  \n",
              "\n",
              "[9702 rows x 11 columns]"
            ]
          },
          "execution_count": 158,
          "metadata": {},
          "output_type": "execute_result"
        }
      ],
      "source": [
        "#checking clear_date\n",
        "X_test"
      ]
    },
    {
      "cell_type": "code",
      "execution_count": 159,
      "metadata": {
        "id": "dC4yyYwGtVLE"
      },
      "outputs": [
        {
          "data": {
            "text/html": [
              "<div>\n",
              "<style scoped>\n",
              "    .dataframe tbody tr th:only-of-type {\n",
              "        vertical-align: middle;\n",
              "    }\n",
              "\n",
              "    .dataframe tbody tr th {\n",
              "        vertical-align: top;\n",
              "    }\n",
              "\n",
              "    .dataframe thead th {\n",
              "        text-align: right;\n",
              "    }\n",
              "</style>\n",
              "<table border=\"1\" class=\"dataframe\">\n",
              "  <thead>\n",
              "    <tr style=\"text-align: right;\">\n",
              "      <th></th>\n",
              "      <th>due_in_date</th>\n",
              "      <th>clear_date</th>\n",
              "      <th>aging_bucket</th>\n",
              "    </tr>\n",
              "  </thead>\n",
              "  <tbody>\n",
              "    <tr>\n",
              "      <th>0</th>\n",
              "      <td>2020-05-02</td>\n",
              "      <td>2020-04-27</td>\n",
              "      <td>0-15 Days</td>\n",
              "    </tr>\n",
              "    <tr>\n",
              "      <th>1</th>\n",
              "      <td>2020-03-13</td>\n",
              "      <td>2020-03-13</td>\n",
              "      <td>0-15 Days</td>\n",
              "    </tr>\n",
              "    <tr>\n",
              "      <th>2</th>\n",
              "      <td>2020-03-13</td>\n",
              "      <td>2020-03-14</td>\n",
              "      <td>0-15 Days</td>\n",
              "    </tr>\n",
              "    <tr>\n",
              "      <th>3</th>\n",
              "      <td>2020-03-09</td>\n",
              "      <td>2020-03-09</td>\n",
              "      <td>0-15 Days</td>\n",
              "    </tr>\n",
              "    <tr>\n",
              "      <th>4</th>\n",
              "      <td>2020-03-13</td>\n",
              "      <td>2020-03-21</td>\n",
              "      <td>0-15 Days</td>\n",
              "    </tr>\n",
              "    <tr>\n",
              "      <th>...</th>\n",
              "      <td>...</td>\n",
              "      <td>...</td>\n",
              "      <td>...</td>\n",
              "    </tr>\n",
              "    <tr>\n",
              "      <th>9697</th>\n",
              "      <td>2020-05-24</td>\n",
              "      <td>2020-05-29</td>\n",
              "      <td>0-15 Days</td>\n",
              "    </tr>\n",
              "    <tr>\n",
              "      <th>9698</th>\n",
              "      <td>2020-05-29</td>\n",
              "      <td>2020-05-27</td>\n",
              "      <td>0-15 Days</td>\n",
              "    </tr>\n",
              "    <tr>\n",
              "      <th>9699</th>\n",
              "      <td>2020-05-30</td>\n",
              "      <td>2020-06-02</td>\n",
              "      <td>0-15 Days</td>\n",
              "    </tr>\n",
              "    <tr>\n",
              "      <th>9700</th>\n",
              "      <td>2020-06-02</td>\n",
              "      <td>2020-05-29</td>\n",
              "      <td>0-15 Days</td>\n",
              "    </tr>\n",
              "    <tr>\n",
              "      <th>9701</th>\n",
              "      <td>2020-06-05</td>\n",
              "      <td>2020-06-05</td>\n",
              "      <td>0-15 Days</td>\n",
              "    </tr>\n",
              "  </tbody>\n",
              "</table>\n",
              "<p>9702 rows × 3 columns</p>\n",
              "</div>"
            ],
            "text/plain": [
              "     due_in_date clear_date aging_bucket\n",
              "0     2020-05-02 2020-04-27    0-15 Days\n",
              "1     2020-03-13 2020-03-13    0-15 Days\n",
              "2     2020-03-13 2020-03-14    0-15 Days\n",
              "3     2020-03-09 2020-03-09    0-15 Days\n",
              "4     2020-03-13 2020-03-21    0-15 Days\n",
              "...          ...        ...          ...\n",
              "9697  2020-05-24 2020-05-29    0-15 Days\n",
              "9698  2020-05-29 2020-05-27    0-15 Days\n",
              "9699  2020-05-30 2020-06-02    0-15 Days\n",
              "9700  2020-06-02 2020-05-29    0-15 Days\n",
              "9701  2020-06-05 2020-06-05    0-15 Days\n",
              "\n",
              "[9702 rows x 3 columns]"
            ]
          },
          "execution_count": 159,
          "metadata": {},
          "output_type": "execute_result"
        }
      ],
      "source": [
        "# Putting the customers in bucket according to delay.\n",
        "cond = [\n",
        "    (Y_test['delay'] < 0),\n",
        "    (Y_test['delay'] >= 0) & (Y_test['delay'] <= 15),\n",
        "    (Y_test['delay'] >= 16) & (Y_test['delay'] <= 30),\n",
        "    (Y_test['delay'] >= 31) & (Y_test['delay'] <= 45),\n",
        "    (Y_test['delay'] >= 46) & (Y_test['delay'] <= 60),\n",
        "    (Y_test['delay'] > 60),\n",
        "    ]\n",
        "\n",
        "val = ['Less than 0 Days','0-15 Days','15-30 Days','30-45 Days','45-60 Days','More than 60 Days']\n",
        "\n",
        "# create 'aging_bucket' column and use np.select to assign values to it using our lists as arguments\n",
        "X_test['aging_bucket'] = np.select(cond, val)\n",
        "\n",
        "X_test[['due_in_date', 'clear_date', 'aging_bucket']]"
      ]
    },
    {
      "cell_type": "code",
      "execution_count": 160,
      "metadata": {},
      "outputs": [
        {
          "data": {
            "text/html": [
              "<div>\n",
              "<style scoped>\n",
              "    .dataframe tbody tr th:only-of-type {\n",
              "        vertical-align: middle;\n",
              "    }\n",
              "\n",
              "    .dataframe tbody tr th {\n",
              "        vertical-align: top;\n",
              "    }\n",
              "\n",
              "    .dataframe thead th {\n",
              "        text-align: right;\n",
              "    }\n",
              "</style>\n",
              "<table border=\"1\" class=\"dataframe\">\n",
              "  <thead>\n",
              "    <tr style=\"text-align: right;\">\n",
              "      <th></th>\n",
              "      <th>baseline_create_date</th>\n",
              "      <th>clear_date</th>\n",
              "      <th>doc_id</th>\n",
              "      <th>document_create_date.1</th>\n",
              "      <th>due_in_date</th>\n",
              "      <th>total_open_amount</th>\n",
              "      <th>new_name_customer</th>\n",
              "      <th>new_cust_payment_terms</th>\n",
              "      <th>new_cust_number</th>\n",
              "      <th>baseline_create_date_dayofweek</th>\n",
              "      <th>baseline_create_date_month</th>\n",
              "      <th>aging_bucket</th>\n",
              "    </tr>\n",
              "  </thead>\n",
              "  <tbody>\n",
              "    <tr>\n",
              "      <th>0</th>\n",
              "      <td>2020-02-27</td>\n",
              "      <td>2020-04-27</td>\n",
              "      <td>1.930571e+09</td>\n",
              "      <td>2020-02-27</td>\n",
              "      <td>2020-05-02</td>\n",
              "      <td>8510.40</td>\n",
              "      <td>492</td>\n",
              "      <td>10</td>\n",
              "      <td>38</td>\n",
              "      <td>3</td>\n",
              "      <td>2</td>\n",
              "      <td>0-15 Days</td>\n",
              "    </tr>\n",
              "    <tr>\n",
              "      <th>1</th>\n",
              "      <td>2020-02-27</td>\n",
              "      <td>2020-03-13</td>\n",
              "      <td>1.930568e+09</td>\n",
              "      <td>2020-02-27</td>\n",
              "      <td>2020-03-13</td>\n",
              "      <td>15672.80</td>\n",
              "      <td>321</td>\n",
              "      <td>3</td>\n",
              "      <td>46</td>\n",
              "      <td>3</td>\n",
              "      <td>2</td>\n",
              "      <td>0-15 Days</td>\n",
              "    </tr>\n",
              "    <tr>\n",
              "      <th>2</th>\n",
              "      <td>2020-02-27</td>\n",
              "      <td>2020-03-14</td>\n",
              "      <td>1.930570e+09</td>\n",
              "      <td>2020-02-27</td>\n",
              "      <td>2020-03-13</td>\n",
              "      <td>72076.42</td>\n",
              "      <td>720</td>\n",
              "      <td>3</td>\n",
              "      <td>72</td>\n",
              "      <td>3</td>\n",
              "      <td>2</td>\n",
              "      <td>0-15 Days</td>\n",
              "    </tr>\n",
              "    <tr>\n",
              "      <th>3</th>\n",
              "      <td>2020-02-28</td>\n",
              "      <td>2020-03-09</td>\n",
              "      <td>2.960617e+09</td>\n",
              "      <td>2020-02-27</td>\n",
              "      <td>2020-03-09</td>\n",
              "      <td>131893.29</td>\n",
              "      <td>720</td>\n",
              "      <td>0</td>\n",
              "      <td>72</td>\n",
              "      <td>4</td>\n",
              "      <td>2</td>\n",
              "      <td>0-15 Days</td>\n",
              "    </tr>\n",
              "    <tr>\n",
              "      <th>4</th>\n",
              "      <td>2020-02-27</td>\n",
              "      <td>2020-03-21</td>\n",
              "      <td>1.930578e+09</td>\n",
              "      <td>2020-02-27</td>\n",
              "      <td>2020-03-13</td>\n",
              "      <td>7257.60</td>\n",
              "      <td>720</td>\n",
              "      <td>3</td>\n",
              "      <td>72</td>\n",
              "      <td>3</td>\n",
              "      <td>2</td>\n",
              "      <td>0-15 Days</td>\n",
              "    </tr>\n",
              "    <tr>\n",
              "      <th>...</th>\n",
              "      <td>...</td>\n",
              "      <td>...</td>\n",
              "      <td>...</td>\n",
              "      <td>...</td>\n",
              "      <td>...</td>\n",
              "      <td>...</td>\n",
              "      <td>...</td>\n",
              "      <td>...</td>\n",
              "      <td>...</td>\n",
              "      <td>...</td>\n",
              "      <td>...</td>\n",
              "      <td>...</td>\n",
              "    </tr>\n",
              "    <tr>\n",
              "      <th>9697</th>\n",
              "      <td>2020-05-14</td>\n",
              "      <td>2020-05-29</td>\n",
              "      <td>2.960634e+09</td>\n",
              "      <td>2020-05-14</td>\n",
              "      <td>2020-05-24</td>\n",
              "      <td>7032.80</td>\n",
              "      <td>720</td>\n",
              "      <td>0</td>\n",
              "      <td>72</td>\n",
              "      <td>3</td>\n",
              "      <td>5</td>\n",
              "      <td>0-15 Days</td>\n",
              "    </tr>\n",
              "    <tr>\n",
              "      <th>9698</th>\n",
              "      <td>2020-05-14</td>\n",
              "      <td>2020-05-27</td>\n",
              "      <td>1.930904e+09</td>\n",
              "      <td>2020-05-14</td>\n",
              "      <td>2020-05-29</td>\n",
              "      <td>16099.20</td>\n",
              "      <td>720</td>\n",
              "      <td>3</td>\n",
              "      <td>72</td>\n",
              "      <td>3</td>\n",
              "      <td>5</td>\n",
              "      <td>0-15 Days</td>\n",
              "    </tr>\n",
              "    <tr>\n",
              "      <th>9699</th>\n",
              "      <td>2020-05-15</td>\n",
              "      <td>2020-06-02</td>\n",
              "      <td>1.930902e+09</td>\n",
              "      <td>2020-05-15</td>\n",
              "      <td>2020-05-30</td>\n",
              "      <td>19798.67</td>\n",
              "      <td>720</td>\n",
              "      <td>3</td>\n",
              "      <td>72</td>\n",
              "      <td>4</td>\n",
              "      <td>5</td>\n",
              "      <td>0-15 Days</td>\n",
              "    </tr>\n",
              "    <tr>\n",
              "      <th>9700</th>\n",
              "      <td>2020-05-18</td>\n",
              "      <td>2020-05-29</td>\n",
              "      <td>1.930915e+09</td>\n",
              "      <td>2020-05-18</td>\n",
              "      <td>2020-06-02</td>\n",
              "      <td>21362.82</td>\n",
              "      <td>720</td>\n",
              "      <td>3</td>\n",
              "      <td>72</td>\n",
              "      <td>0</td>\n",
              "      <td>5</td>\n",
              "      <td>0-15 Days</td>\n",
              "    </tr>\n",
              "    <tr>\n",
              "      <th>9701</th>\n",
              "      <td>2020-05-21</td>\n",
              "      <td>2020-06-05</td>\n",
              "      <td>1.930910e+09</td>\n",
              "      <td>2020-05-21</td>\n",
              "      <td>2020-06-05</td>\n",
              "      <td>42360.00</td>\n",
              "      <td>720</td>\n",
              "      <td>3</td>\n",
              "      <td>72</td>\n",
              "      <td>3</td>\n",
              "      <td>5</td>\n",
              "      <td>0-15 Days</td>\n",
              "    </tr>\n",
              "  </tbody>\n",
              "</table>\n",
              "<p>9702 rows × 12 columns</p>\n",
              "</div>"
            ],
            "text/plain": [
              "     baseline_create_date clear_date        doc_id document_create_date.1  \\\n",
              "0              2020-02-27 2020-04-27  1.930571e+09             2020-02-27   \n",
              "1              2020-02-27 2020-03-13  1.930568e+09             2020-02-27   \n",
              "2              2020-02-27 2020-03-14  1.930570e+09             2020-02-27   \n",
              "3              2020-02-28 2020-03-09  2.960617e+09             2020-02-27   \n",
              "4              2020-02-27 2020-03-21  1.930578e+09             2020-02-27   \n",
              "...                   ...        ...           ...                    ...   \n",
              "9697           2020-05-14 2020-05-29  2.960634e+09             2020-05-14   \n",
              "9698           2020-05-14 2020-05-27  1.930904e+09             2020-05-14   \n",
              "9699           2020-05-15 2020-06-02  1.930902e+09             2020-05-15   \n",
              "9700           2020-05-18 2020-05-29  1.930915e+09             2020-05-18   \n",
              "9701           2020-05-21 2020-06-05  1.930910e+09             2020-05-21   \n",
              "\n",
              "     due_in_date  total_open_amount  new_name_customer  \\\n",
              "0     2020-05-02            8510.40                492   \n",
              "1     2020-03-13           15672.80                321   \n",
              "2     2020-03-13           72076.42                720   \n",
              "3     2020-03-09          131893.29                720   \n",
              "4     2020-03-13            7257.60                720   \n",
              "...          ...                ...                ...   \n",
              "9697  2020-05-24            7032.80                720   \n",
              "9698  2020-05-29           16099.20                720   \n",
              "9699  2020-05-30           19798.67                720   \n",
              "9700  2020-06-02           21362.82                720   \n",
              "9701  2020-06-05           42360.00                720   \n",
              "\n",
              "      new_cust_payment_terms  new_cust_number  baseline_create_date_dayofweek  \\\n",
              "0                         10               38                               3   \n",
              "1                          3               46                               3   \n",
              "2                          3               72                               3   \n",
              "3                          0               72                               4   \n",
              "4                          3               72                               3   \n",
              "...                      ...              ...                             ...   \n",
              "9697                       0               72                               3   \n",
              "9698                       3               72                               3   \n",
              "9699                       3               72                               4   \n",
              "9700                       3               72                               0   \n",
              "9701                       3               72                               3   \n",
              "\n",
              "      baseline_create_date_month aging_bucket  \n",
              "0                              2    0-15 Days  \n",
              "1                              2    0-15 Days  \n",
              "2                              2    0-15 Days  \n",
              "3                              2    0-15 Days  \n",
              "4                              2    0-15 Days  \n",
              "...                          ...          ...  \n",
              "9697                           5    0-15 Days  \n",
              "9698                           5    0-15 Days  \n",
              "9699                           5    0-15 Days  \n",
              "9700                           5    0-15 Days  \n",
              "9701                           5    0-15 Days  \n",
              "\n",
              "[9702 rows x 12 columns]"
            ]
          },
          "execution_count": 160,
          "metadata": {},
          "output_type": "execute_result"
        }
      ],
      "source": [
        "X_test"
      ]
    }
  ],
  "metadata": {
    "colab": {
      "collapsed_sections": [
        "aEg88xK81MfE"
      ],
      "name": "ML.ipynb",
      "provenance": [],
      "toc_visible": true
    },
    "interpreter": {
      "hash": "223c27acd2f0d30991757af3704a37d958d615953cddcb1d78c6a06176f530c7"
    },
    "kernelspec": {
      "display_name": "Python 3.9.5 64-bit",
      "name": "python3"
    },
    "language_info": {
      "codemirror_mode": {
        "name": "ipython",
        "version": 3
      },
      "file_extension": ".py",
      "mimetype": "text/x-python",
      "name": "python",
      "nbconvert_exporter": "python",
      "pygments_lexer": "ipython3",
      "version": "3.9.5"
    }
  },
  "nbformat": 4,
  "nbformat_minor": 0
}